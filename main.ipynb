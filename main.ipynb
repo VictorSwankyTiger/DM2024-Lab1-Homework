{
  "nbformat": 4,
  "nbformat_minor": 0,
  "metadata": {
    "colab": {
      "provenance": [],
      "include_colab_link": true
    },
    "kernelspec": {
      "name": "python3",
      "display_name": "Python 3"
    },
    "language_info": {
      "name": "python"
    }
  },
  "cells": [
    {
      "cell_type": "markdown",
      "metadata": {
        "id": "view-in-github",
        "colab_type": "text"
      },
      "source": [
        "<a href=\"https://colab.research.google.com/github/VictorSwankyTiger/DM2024-Lab1-Homework/blob/main/main.ipynb\" target=\"_parent\"><img src=\"https://colab.research.google.com/assets/colab-badge.svg\" alt=\"Open In Colab\"/></a>"
      ]
    },
    {
      "cell_type": "markdown",
      "source": [
        "## Part I: Data Pre-processing"
      ],
      "metadata": {
        "id": "p6yklm2xWn9f"
      }
    },
    {
      "cell_type": "code",
      "source": [
        "import pandas as pd"
      ],
      "metadata": {
        "id": "YycoIJomXwqH"
      },
      "execution_count": 1,
      "outputs": []
    },
    {
      "cell_type": "code",
      "source": [
        "# Download the Google Analogy dataset\n",
        "!wget http://download.tensorflow.org/data/questions-words.txt"
      ],
      "metadata": {
        "id": "KKAXuhZIUxD8",
        "colab": {
          "base_uri": "https://localhost:8080/"
        },
        "outputId": "4d90cd62-2aed-431d-9b9a-9b3bf90dcea6"
      },
      "execution_count": 2,
      "outputs": [
        {
          "output_type": "stream",
          "name": "stdout",
          "text": [
            "--2024-10-05 00:17:02--  http://download.tensorflow.org/data/questions-words.txt\n",
            "Resolving download.tensorflow.org (download.tensorflow.org)... 108.177.121.207, 209.85.145.207, 142.251.183.207, ...\n",
            "Connecting to download.tensorflow.org (download.tensorflow.org)|108.177.121.207|:80... connected.\n",
            "HTTP request sent, awaiting response... 200 OK\n",
            "Length: 603955 (590K) [text/plain]\n",
            "Saving to: ‘questions-words.txt’\n",
            "\n",
            "questions-words.txt 100%[===================>] 589.80K  --.-KB/s    in 0.003s  \n",
            "\n",
            "2024-10-05 00:17:02 (184 MB/s) - ‘questions-words.txt’ saved [603955/603955]\n",
            "\n"
          ]
        }
      ]
    },
    {
      "cell_type": "code",
      "source": [
        "# Preprocess the dataset\n",
        "file_name = \"questions-words\"\n",
        "with open(f\"{file_name}.txt\", \"r\") as f:\n",
        "    data = f.read().splitlines()"
      ],
      "metadata": {
        "id": "xue5pVFLVNQQ"
      },
      "execution_count": 3,
      "outputs": []
    },
    {
      "cell_type": "code",
      "source": [
        "# check data from the first 10 entries\n",
        "for entry in data[:10]:\n",
        "    print(entry)"
      ],
      "metadata": {
        "id": "h7dOdJOsZzAF",
        "colab": {
          "base_uri": "https://localhost:8080/"
        },
        "outputId": "a9054c40-dc40-4453-f5c4-177514003617"
      },
      "execution_count": 4,
      "outputs": [
        {
          "output_type": "stream",
          "name": "stdout",
          "text": [
            ": capital-common-countries\n",
            "Athens Greece Baghdad Iraq\n",
            "Athens Greece Bangkok Thailand\n",
            "Athens Greece Beijing China\n",
            "Athens Greece Berlin Germany\n",
            "Athens Greece Bern Switzerland\n",
            "Athens Greece Cairo Egypt\n",
            "Athens Greece Canberra Australia\n",
            "Athens Greece Hanoi Vietnam\n",
            "Athens Greece Havana Cuba\n"
          ]
        }
      ]
    },
    {
      "cell_type": "code",
      "source": [
        "# TODO1: Write your code here for processing data to pd.DataFrame\n",
        "# Please note that the first five mentions of \": \" indicate `semantic`,\n",
        "# and the remaining nine belong to the `syntatic` category.\n",
        "questions = []\n",
        "categories = []\n",
        "sub_categories = []\n",
        "counter = 0 #countin the first five mention (markin semantic)\n",
        "\n",
        "categoriy = \"semantic\"\n",
        "sub_categoriy = \"\"\n",
        "\n",
        "for entry in data:\n",
        "    if entry.startswith(\":\"):\n",
        "        counter = counter+1 #counting\n",
        "        sub_categoriy = \"\" #initialize\n",
        "        sub_categoriy = entry #place as entry\n",
        "    else:\n",
        "        #when counting ends shift the categoriy\n",
        "        if counter < 5:\n",
        "            categoriy = \"semantic\"\n",
        "        else:\n",
        "            categoriy = \"syntatic\"\n",
        "        #place the data into frame\n",
        "        questions.append(entry)\n",
        "        categories.append(categoriy)\n",
        "        sub_categories.append(sub_categoriy)\n"
      ],
      "metadata": {
        "id": "wmYQ0IWZZxf3"
      },
      "execution_count": 5,
      "outputs": []
    },
    {
      "cell_type": "code",
      "source": [
        "# Create the dataframe\n",
        "df = pd.DataFrame(\n",
        "    {\n",
        "        \"Question\": questions,\n",
        "        \"Category\": categories,\n",
        "        \"SubCategory\": sub_categories,\n",
        "    }\n",
        ")"
      ],
      "metadata": {
        "id": "_bKA05rVZb_i"
      },
      "execution_count": 6,
      "outputs": []
    },
    {
      "cell_type": "code",
      "source": [
        "df.head()"
      ],
      "metadata": {
        "id": "UN2FBcicZmpV",
        "colab": {
          "base_uri": "https://localhost:8080/",
          "height": 206
        },
        "outputId": "32a68ca4-816a-4246-a811-9f41ae4c7d52"
      },
      "execution_count": 7,
      "outputs": [
        {
          "output_type": "execute_result",
          "data": {
            "text/plain": [
              "                         Question  Category                 SubCategory\n",
              "0      Athens Greece Baghdad Iraq  semantic  : capital-common-countries\n",
              "1  Athens Greece Bangkok Thailand  semantic  : capital-common-countries\n",
              "2     Athens Greece Beijing China  semantic  : capital-common-countries\n",
              "3    Athens Greece Berlin Germany  semantic  : capital-common-countries\n",
              "4  Athens Greece Bern Switzerland  semantic  : capital-common-countries"
            ],
            "text/html": [
              "\n",
              "  <div id=\"df-21fff254-2bc5-472d-bb0c-6f4c2f9b9199\" class=\"colab-df-container\">\n",
              "    <div>\n",
              "<style scoped>\n",
              "    .dataframe tbody tr th:only-of-type {\n",
              "        vertical-align: middle;\n",
              "    }\n",
              "\n",
              "    .dataframe tbody tr th {\n",
              "        vertical-align: top;\n",
              "    }\n",
              "\n",
              "    .dataframe thead th {\n",
              "        text-align: right;\n",
              "    }\n",
              "</style>\n",
              "<table border=\"1\" class=\"dataframe\">\n",
              "  <thead>\n",
              "    <tr style=\"text-align: right;\">\n",
              "      <th></th>\n",
              "      <th>Question</th>\n",
              "      <th>Category</th>\n",
              "      <th>SubCategory</th>\n",
              "    </tr>\n",
              "  </thead>\n",
              "  <tbody>\n",
              "    <tr>\n",
              "      <th>0</th>\n",
              "      <td>Athens Greece Baghdad Iraq</td>\n",
              "      <td>semantic</td>\n",
              "      <td>: capital-common-countries</td>\n",
              "    </tr>\n",
              "    <tr>\n",
              "      <th>1</th>\n",
              "      <td>Athens Greece Bangkok Thailand</td>\n",
              "      <td>semantic</td>\n",
              "      <td>: capital-common-countries</td>\n",
              "    </tr>\n",
              "    <tr>\n",
              "      <th>2</th>\n",
              "      <td>Athens Greece Beijing China</td>\n",
              "      <td>semantic</td>\n",
              "      <td>: capital-common-countries</td>\n",
              "    </tr>\n",
              "    <tr>\n",
              "      <th>3</th>\n",
              "      <td>Athens Greece Berlin Germany</td>\n",
              "      <td>semantic</td>\n",
              "      <td>: capital-common-countries</td>\n",
              "    </tr>\n",
              "    <tr>\n",
              "      <th>4</th>\n",
              "      <td>Athens Greece Bern Switzerland</td>\n",
              "      <td>semantic</td>\n",
              "      <td>: capital-common-countries</td>\n",
              "    </tr>\n",
              "  </tbody>\n",
              "</table>\n",
              "</div>\n",
              "    <div class=\"colab-df-buttons\">\n",
              "\n",
              "  <div class=\"colab-df-container\">\n",
              "    <button class=\"colab-df-convert\" onclick=\"convertToInteractive('df-21fff254-2bc5-472d-bb0c-6f4c2f9b9199')\"\n",
              "            title=\"Convert this dataframe to an interactive table.\"\n",
              "            style=\"display:none;\">\n",
              "\n",
              "  <svg xmlns=\"http://www.w3.org/2000/svg\" height=\"24px\" viewBox=\"0 -960 960 960\">\n",
              "    <path d=\"M120-120v-720h720v720H120Zm60-500h600v-160H180v160Zm220 220h160v-160H400v160Zm0 220h160v-160H400v160ZM180-400h160v-160H180v160Zm440 0h160v-160H620v160ZM180-180h160v-160H180v160Zm440 0h160v-160H620v160Z\"/>\n",
              "  </svg>\n",
              "    </button>\n",
              "\n",
              "  <style>\n",
              "    .colab-df-container {\n",
              "      display:flex;\n",
              "      gap: 12px;\n",
              "    }\n",
              "\n",
              "    .colab-df-convert {\n",
              "      background-color: #E8F0FE;\n",
              "      border: none;\n",
              "      border-radius: 50%;\n",
              "      cursor: pointer;\n",
              "      display: none;\n",
              "      fill: #1967D2;\n",
              "      height: 32px;\n",
              "      padding: 0 0 0 0;\n",
              "      width: 32px;\n",
              "    }\n",
              "\n",
              "    .colab-df-convert:hover {\n",
              "      background-color: #E2EBFA;\n",
              "      box-shadow: 0px 1px 2px rgba(60, 64, 67, 0.3), 0px 1px 3px 1px rgba(60, 64, 67, 0.15);\n",
              "      fill: #174EA6;\n",
              "    }\n",
              "\n",
              "    .colab-df-buttons div {\n",
              "      margin-bottom: 4px;\n",
              "    }\n",
              "\n",
              "    [theme=dark] .colab-df-convert {\n",
              "      background-color: #3B4455;\n",
              "      fill: #D2E3FC;\n",
              "    }\n",
              "\n",
              "    [theme=dark] .colab-df-convert:hover {\n",
              "      background-color: #434B5C;\n",
              "      box-shadow: 0px 1px 3px 1px rgba(0, 0, 0, 0.15);\n",
              "      filter: drop-shadow(0px 1px 2px rgba(0, 0, 0, 0.3));\n",
              "      fill: #FFFFFF;\n",
              "    }\n",
              "  </style>\n",
              "\n",
              "    <script>\n",
              "      const buttonEl =\n",
              "        document.querySelector('#df-21fff254-2bc5-472d-bb0c-6f4c2f9b9199 button.colab-df-convert');\n",
              "      buttonEl.style.display =\n",
              "        google.colab.kernel.accessAllowed ? 'block' : 'none';\n",
              "\n",
              "      async function convertToInteractive(key) {\n",
              "        const element = document.querySelector('#df-21fff254-2bc5-472d-bb0c-6f4c2f9b9199');\n",
              "        const dataTable =\n",
              "          await google.colab.kernel.invokeFunction('convertToInteractive',\n",
              "                                                    [key], {});\n",
              "        if (!dataTable) return;\n",
              "\n",
              "        const docLinkHtml = 'Like what you see? Visit the ' +\n",
              "          '<a target=\"_blank\" href=https://colab.research.google.com/notebooks/data_table.ipynb>data table notebook</a>'\n",
              "          + ' to learn more about interactive tables.';\n",
              "        element.innerHTML = '';\n",
              "        dataTable['output_type'] = 'display_data';\n",
              "        await google.colab.output.renderOutput(dataTable, element);\n",
              "        const docLink = document.createElement('div');\n",
              "        docLink.innerHTML = docLinkHtml;\n",
              "        element.appendChild(docLink);\n",
              "      }\n",
              "    </script>\n",
              "  </div>\n",
              "\n",
              "\n",
              "<div id=\"df-09dfff90-2ac0-4aee-a4d5-4a985830e3cc\">\n",
              "  <button class=\"colab-df-quickchart\" onclick=\"quickchart('df-09dfff90-2ac0-4aee-a4d5-4a985830e3cc')\"\n",
              "            title=\"Suggest charts\"\n",
              "            style=\"display:none;\">\n",
              "\n",
              "<svg xmlns=\"http://www.w3.org/2000/svg\" height=\"24px\"viewBox=\"0 0 24 24\"\n",
              "     width=\"24px\">\n",
              "    <g>\n",
              "        <path d=\"M19 3H5c-1.1 0-2 .9-2 2v14c0 1.1.9 2 2 2h14c1.1 0 2-.9 2-2V5c0-1.1-.9-2-2-2zM9 17H7v-7h2v7zm4 0h-2V7h2v10zm4 0h-2v-4h2v4z\"/>\n",
              "    </g>\n",
              "</svg>\n",
              "  </button>\n",
              "\n",
              "<style>\n",
              "  .colab-df-quickchart {\n",
              "      --bg-color: #E8F0FE;\n",
              "      --fill-color: #1967D2;\n",
              "      --hover-bg-color: #E2EBFA;\n",
              "      --hover-fill-color: #174EA6;\n",
              "      --disabled-fill-color: #AAA;\n",
              "      --disabled-bg-color: #DDD;\n",
              "  }\n",
              "\n",
              "  [theme=dark] .colab-df-quickchart {\n",
              "      --bg-color: #3B4455;\n",
              "      --fill-color: #D2E3FC;\n",
              "      --hover-bg-color: #434B5C;\n",
              "      --hover-fill-color: #FFFFFF;\n",
              "      --disabled-bg-color: #3B4455;\n",
              "      --disabled-fill-color: #666;\n",
              "  }\n",
              "\n",
              "  .colab-df-quickchart {\n",
              "    background-color: var(--bg-color);\n",
              "    border: none;\n",
              "    border-radius: 50%;\n",
              "    cursor: pointer;\n",
              "    display: none;\n",
              "    fill: var(--fill-color);\n",
              "    height: 32px;\n",
              "    padding: 0;\n",
              "    width: 32px;\n",
              "  }\n",
              "\n",
              "  .colab-df-quickchart:hover {\n",
              "    background-color: var(--hover-bg-color);\n",
              "    box-shadow: 0 1px 2px rgba(60, 64, 67, 0.3), 0 1px 3px 1px rgba(60, 64, 67, 0.15);\n",
              "    fill: var(--button-hover-fill-color);\n",
              "  }\n",
              "\n",
              "  .colab-df-quickchart-complete:disabled,\n",
              "  .colab-df-quickchart-complete:disabled:hover {\n",
              "    background-color: var(--disabled-bg-color);\n",
              "    fill: var(--disabled-fill-color);\n",
              "    box-shadow: none;\n",
              "  }\n",
              "\n",
              "  .colab-df-spinner {\n",
              "    border: 2px solid var(--fill-color);\n",
              "    border-color: transparent;\n",
              "    border-bottom-color: var(--fill-color);\n",
              "    animation:\n",
              "      spin 1s steps(1) infinite;\n",
              "  }\n",
              "\n",
              "  @keyframes spin {\n",
              "    0% {\n",
              "      border-color: transparent;\n",
              "      border-bottom-color: var(--fill-color);\n",
              "      border-left-color: var(--fill-color);\n",
              "    }\n",
              "    20% {\n",
              "      border-color: transparent;\n",
              "      border-left-color: var(--fill-color);\n",
              "      border-top-color: var(--fill-color);\n",
              "    }\n",
              "    30% {\n",
              "      border-color: transparent;\n",
              "      border-left-color: var(--fill-color);\n",
              "      border-top-color: var(--fill-color);\n",
              "      border-right-color: var(--fill-color);\n",
              "    }\n",
              "    40% {\n",
              "      border-color: transparent;\n",
              "      border-right-color: var(--fill-color);\n",
              "      border-top-color: var(--fill-color);\n",
              "    }\n",
              "    60% {\n",
              "      border-color: transparent;\n",
              "      border-right-color: var(--fill-color);\n",
              "    }\n",
              "    80% {\n",
              "      border-color: transparent;\n",
              "      border-right-color: var(--fill-color);\n",
              "      border-bottom-color: var(--fill-color);\n",
              "    }\n",
              "    90% {\n",
              "      border-color: transparent;\n",
              "      border-bottom-color: var(--fill-color);\n",
              "    }\n",
              "  }\n",
              "</style>\n",
              "\n",
              "  <script>\n",
              "    async function quickchart(key) {\n",
              "      const quickchartButtonEl =\n",
              "        document.querySelector('#' + key + ' button');\n",
              "      quickchartButtonEl.disabled = true;  // To prevent multiple clicks.\n",
              "      quickchartButtonEl.classList.add('colab-df-spinner');\n",
              "      try {\n",
              "        const charts = await google.colab.kernel.invokeFunction(\n",
              "            'suggestCharts', [key], {});\n",
              "      } catch (error) {\n",
              "        console.error('Error during call to suggestCharts:', error);\n",
              "      }\n",
              "      quickchartButtonEl.classList.remove('colab-df-spinner');\n",
              "      quickchartButtonEl.classList.add('colab-df-quickchart-complete');\n",
              "    }\n",
              "    (() => {\n",
              "      let quickchartButtonEl =\n",
              "        document.querySelector('#df-09dfff90-2ac0-4aee-a4d5-4a985830e3cc button');\n",
              "      quickchartButtonEl.style.display =\n",
              "        google.colab.kernel.accessAllowed ? 'block' : 'none';\n",
              "    })();\n",
              "  </script>\n",
              "</div>\n",
              "\n",
              "    </div>\n",
              "  </div>\n"
            ],
            "application/vnd.google.colaboratory.intrinsic+json": {
              "type": "dataframe",
              "variable_name": "df",
              "summary": "{\n  \"name\": \"df\",\n  \"rows\": 19544,\n  \"fields\": [\n    {\n      \"column\": \"Question\",\n      \"properties\": {\n        \"dtype\": \"string\",\n        \"num_unique_values\": 19373,\n        \"samples\": [\n          \"Windhoek Namibia Accra Ghana\",\n          \"Nashville Tennessee Plano Texas\",\n          \"Vilnius Lithuania Zagreb Croatia\"\n        ],\n        \"semantic_type\": \"\",\n        \"description\": \"\"\n      }\n    },\n    {\n      \"column\": \"Category\",\n      \"properties\": {\n        \"dtype\": \"category\",\n        \"num_unique_values\": 2,\n        \"samples\": [\n          \"syntatic\",\n          \"semantic\"\n        ],\n        \"semantic_type\": \"\",\n        \"description\": \"\"\n      }\n    },\n    {\n      \"column\": \"SubCategory\",\n      \"properties\": {\n        \"dtype\": \"category\",\n        \"num_unique_values\": 14,\n        \"samples\": [\n          \": gram5-present-participle\",\n          \": gram7-past-tense\"\n        ],\n        \"semantic_type\": \"\",\n        \"description\": \"\"\n      }\n    }\n  ]\n}"
            }
          },
          "metadata": {},
          "execution_count": 7
        }
      ]
    },
    {
      "cell_type": "code",
      "source": [
        "df.to_csv(f\"{file_name}.csv\", index=False)"
      ],
      "metadata": {
        "id": "nMGvoDeiZhbp"
      },
      "execution_count": 8,
      "outputs": []
    },
    {
      "cell_type": "markdown",
      "source": [
        "## Part II: Use pre-trained word embeddings\n",
        "- After finish Part I, you can run Part II code blocks only."
      ],
      "metadata": {
        "id": "Zi2SNNuHWiZO"
      }
    },
    {
      "cell_type": "code",
      "source": [
        "import pandas as pd\n",
        "import numpy as np\n",
        "import gensim.downloader\n",
        "from tqdm import tqdm\n",
        "import matplotlib.pyplot as plt\n",
        "from sklearn.manifold import TSNE"
      ],
      "metadata": {
        "id": "yB4rpJymXiSN"
      },
      "execution_count": 9,
      "outputs": []
    },
    {
      "cell_type": "code",
      "source": [
        "data = pd.read_csv(\"questions-words.csv\")"
      ],
      "metadata": {
        "id": "-pGLoyKSHXuQ"
      },
      "execution_count": 10,
      "outputs": []
    },
    {
      "cell_type": "code",
      "source": [
        "MODEL_NAME = \"glove-wiki-gigaword-100\"\n",
        "# You can try other models.\n",
        "# https://radimrehurek.com/gensim/models/word2vec.html#pretrained-models\n",
        "\n",
        "# Load the pre-trained model (using GloVe vectors here)\n",
        "model = gensim.downloader.load(MODEL_NAME)\n",
        "print(\"The Gensim model loaded successfully!\")"
      ],
      "metadata": {
        "id": "YWa_1hF3aZHO",
        "colab": {
          "base_uri": "https://localhost:8080/"
        },
        "outputId": "5d2e49f4-9880-442b-a742-1a346f152fa2"
      },
      "execution_count": 11,
      "outputs": [
        {
          "output_type": "stream",
          "name": "stdout",
          "text": [
            "[==================================================] 100.0% 128.1/128.1MB downloaded\n",
            "The Gensim model loaded successfully!\n"
          ]
        }
      ]
    },
    {
      "cell_type": "code",
      "source": [
        "# Do predictions and preserve the gold answers (word_D)\n",
        "preds = []\n",
        "golds = []\n",
        "\n",
        "for analogy in tqdm(data[\"Question\"]):\n",
        "      # TODO2: Write your code here to use pre-trained word embeddings for getting predictions of the analogy task.\n",
        "      # You should also preserve the gold answers during iterations for evaluations later.\n",
        "      \"\"\" Hints\n",
        "      # Unpack the analogy (e.g., \"man\", \"woman\", \"king\", \"queen\")\n",
        "      # Perform vector arithmetic: word_b + word_c - word_a should be close to word_d\n",
        "      # Source: https://github.com/piskvorky/gensim/blob/develop/gensim/models/keyedvectors.py#L776\n",
        "      # Mikolov et al., 2013: big - biggest and small - smallest\n",
        "      # Mikolov et al., 2013: X = vector(”biggest”) − vector(”big”) + vector(”small”).\n",
        "      \"\"\"\n",
        "      word_a,word_b,word_c,word_d = analogy.lower().split()\n",
        "      vector = []\n",
        "\n",
        "      if word_a in model.key_to_index and word_b in model.key_to_index and word_c in model.key_to_index:\n",
        "        predicted = model[word_b] + model[word_c] - model[word_a]\n",
        "        predicted_word_d = model.most_similar(positive=[predicted], topn=1, restrict_vocab=None)[0][0]\n",
        "        preds.append(predicted_word_d)\n",
        "        golds.append(word_d)\n",
        "      else:\n",
        "        # If any word is not in the vocabulary, append a zero vector\n",
        "        preds.append(\"OOV\")\n",
        "        golds.append(word_d)\n",
        "\n"
      ],
      "metadata": {
        "id": "YTsqJcP1WSTH",
        "colab": {
          "base_uri": "https://localhost:8080/"
        },
        "outputId": "3a6676c7-e594-4eb0-e780-4971b3a0e4eb"
      },
      "execution_count": 13,
      "outputs": [
        {
          "output_type": "stream",
          "name": "stderr",
          "text": [
            "100%|██████████| 19544/19544 [08:43<00:00, 37.34it/s]\n"
          ]
        }
      ]
    },
    {
      "cell_type": "code",
      "source": [
        "# Perform evaluations. You do not need to modify this block!!\n",
        "\n",
        "def calculate_accuracy(gold: np.ndarray, pred: np.ndarray) -> float:\n",
        "    return np.mean(gold == pred)\n",
        "\n",
        "golds_np, preds_np = np.array(golds), np.array(preds)\n",
        "data = pd.read_csv(\"questions-words.csv\")\n",
        "\n",
        "# Evaluation: categories\n",
        "for category in data[\"Category\"].unique():\n",
        "    mask = data[\"Category\"] == category\n",
        "    golds_cat, preds_cat = golds_np[mask], preds_np[mask]\n",
        "    acc_cat = calculate_accuracy(golds_cat, preds_cat)\n",
        "    print(f\"Category: {category}, Accuracy: {acc_cat * 100}%\")\n",
        "\n",
        "# Evaluation: sub-categories\n",
        "for sub_category in data[\"SubCategory\"].unique():\n",
        "    mask = data[\"SubCategory\"] == sub_category\n",
        "    golds_subcat, preds_subcat = golds_np[mask], preds_np[mask]\n",
        "    acc_subcat = calculate_accuracy(golds_subcat, preds_subcat)\n",
        "    print(f\"Sub-Category{sub_category}, Accuracy: {acc_subcat * 100}%\")"
      ],
      "metadata": {
        "id": "xG7vcPXAW6uT",
        "colab": {
          "base_uri": "https://localhost:8080/"
        },
        "outputId": "b96af788-89ba-4e71-e0e6-301a9ef11e28"
      },
      "execution_count": 14,
      "outputs": [
        {
          "output_type": "stream",
          "name": "stdout",
          "text": [
            "Category: semantic, Accuracy: 44.58926222647375%\n",
            "Category: syntatic, Accuracy: 27.868705840264735%\n",
            "Sub-Category: capital-common-countries, Accuracy: 79.05138339920948%\n",
            "Sub-Category: capital-world, Accuracy: 65.42882404951371%\n",
            "Sub-Category: currency, Accuracy: 9.006928406466514%\n",
            "Sub-Category: city-in-state, Accuracy: 11.795703283340089%\n",
            "Sub-Category: family, Accuracy: 39.723320158102766%\n",
            "Sub-Category: gram1-adjective-to-adverb, Accuracy: 6.048387096774194%\n",
            "Sub-Category: gram2-opposite, Accuracy: 6.280788177339902%\n",
            "Sub-Category: gram3-comparative, Accuracy: 30.705705705705704%\n",
            "Sub-Category: gram4-superlative, Accuracy: 25.49019607843137%\n",
            "Sub-Category: gram5-present-participle, Accuracy: 13.446969696969695%\n",
            "Sub-Category: gram6-nationality-adjective, Accuracy: 86.55409631019387%\n",
            "Sub-Category: gram7-past-tense, Accuracy: 11.346153846153847%\n",
            "Sub-Category: gram8-plural, Accuracy: 15.54054054054054%\n",
            "Sub-Category: gram9-plural-verbs, Accuracy: 22.873563218390807%\n"
          ]
        }
      ]
    },
    {
      "cell_type": "markdown",
      "source": [
        "參考資料: [資料降維 — t-SNE 降維與視覺化\n",
        "](https://medium.com/data-science-navigator/%E8%B3%87%E6%96%99%E9%99%8D%E7%B6%AD-t-sne-%E9%99%8D%E7%B6%AD%E8%88%87%E8%A6%96%E8%A6%BA%E5%8C%96-36b4dcfc98d5)"
      ],
      "metadata": {
        "id": "LfUvugDkyLck"
      }
    },
    {
      "cell_type": "code",
      "source": [
        "# Collect words from Google Analogy dataset\n",
        "SUB_CATEGORY = \": family\"\n",
        "\n",
        "# TODO3: Plot t-SNE for the words in the SUB_CATEGORY `: family`\n",
        "\n",
        "family_df = df[df[\"SubCategory\"] == SUB_CATEGORY]\n",
        "family_questions = family_df[\"Question\"].tolist()\n",
        "\n",
        "#select unique words\n",
        "family_words = set()\n",
        "for analogy in family_questions:\n",
        "    word_a, word_b, word_c,word_d = analogy.split()[:4]  #分割4個字\n",
        "    family_words.update([word_a, word_b, word_c, word_d])\n",
        "\n",
        "#過濾不再model中的字詞\n",
        "family_words = [word for word in family_words if word in model.key_to_index]\n",
        "\n",
        "#get embedding\n",
        "word_vectors = np.array([model[word] for word in family_words])\n",
        "\n",
        "# 劃出TSNE\n",
        "tsne = TSNE(n_components=2, random_state=42)\n",
        "word_vectors_2d = tsne.fit_transform(word_vectors)\n",
        "\n",
        "# 打印TSNE\n",
        "plt.figure(figsize=(10, 10))\n",
        "plt.scatter(word_vectors_2d[:, 0], word_vectors_2d[:, 1])\n",
        "\n",
        "# 標記每個點的屬性etc.he,she\n",
        "for i, word in enumerate(family_words):\n",
        "    plt.annotate(word, (word_vectors_2d[i, 0], word_vectors_2d[i, 1]))\n",
        "\n",
        "\n",
        "plt.title(\"Word Relationships from Google Analogy Task\")\n",
        "plt.show()\n",
        "plt.savefig(\"word_relationships.png\", bbox_inches=\"tight\")\n"
      ],
      "metadata": {
        "id": "7_z6CybBXKZu",
        "colab": {
          "base_uri": "https://localhost:8080/",
          "height": 829
        },
        "outputId": "b42c07c1-07ac-4bb3-8e7b-ed4245f15292"
      },
      "execution_count": 15,
      "outputs": [
        {
          "output_type": "display_data",
          "data": {
            "text/plain": [
              "<Figure size 1000x1000 with 1 Axes>"
            ],
            "image/png": "[encoded data removed]"
          },
          "metadata": {}
        },
        {
          "output_type": "display_data",
          "data": {
            "text/plain": [
              "<Figure size 640x480 with 0 Axes>"
            ]
          },
          "metadata": {}
        }
      ]
    },
    {
      "cell_type": "markdown",
      "source": [
        "### Part III: Train your own word embeddings"
      ],
      "metadata": {
        "id": "DKRPJxgKXH4j"
      }
    },
    {
      "cell_type": "markdown",
      "source": [
        "### Get the latest English Wikipedia articles and do sampling.\n",
        "- Usually, we start from Wikipedia dump (https://dumps.wikimedia.org/enwiki/latest/enwiki-latest-pages-articles.xml.bz2). However, the downloading step will take very long. Also, the cleaning step for the Wikipedia corpus ([`gensim.corpora.wikicorpus.WikiCorpus`](https://radimrehurek.com/gensim/corpora/wikicorpus.html#gensim.corpora.wikicorpus.WikiCorpus)) will take much time. Therefore, we provide cleaned files for you."
      ],
      "metadata": {
        "id": "VC_0fE1UzL8T"
      }
    },
    {
      "cell_type": "code",
      "source": [
        "# Download the split Wikipedia files\n",
        "# Each file contain 562365 lines (articles).\n",
        "!gdown --id 1jiu9E1NalT2Y8EIuWNa1xf2Tw1f1XuGd -O wiki_texts_part_0.txt.gz\n",
        "!gdown --id 1ABblLRd9HXdXvaNv8H9fFq984bhnowoG -O wiki_texts_part_1.txt.gz\n",
        "!gdown --id 1z2VFNhpPvCejTP5zyejzKj5YjI_Bn42M -O wiki_texts_part_2.txt.gz\n",
        "!gdown --id 1VKjded9BxADRhIoCzXy_W8uzVOTWIf0g -O wiki_texts_part_3.txt.gz\n",
        "!gdown --id 16mBeG26m9LzHXdPe8UrijUIc6sHxhknz -O wiki_texts_part_4.txt.gz"
      ],
      "metadata": {
        "id": "FkubArwCCYxR",
        "colab": {
          "base_uri": "https://localhost:8080/"
        },
        "outputId": "d2befd81-4be4-4f99-dfca-10437061b389"
      },
      "execution_count": null,
      "outputs": [
        {
          "output_type": "stream",
          "name": "stdout",
          "text": [
            "/usr/local/lib/python3.10/dist-packages/gdown/__main__.py:140: FutureWarning: Option `--id` was deprecated in version 4.3.1 and will be removed in 5.0. You don't need to pass it anymore to use a file ID.\n",
            "  warnings.warn(\n",
            "Failed to retrieve file url:\n",
            "\n",
            "\tToo many users have viewed or downloaded this file recently. Please\n",
            "\ttry accessing the file again later. If the file you are trying to\n",
            "\taccess is particularly large or is shared with many people, it may\n",
            "\ttake up to 24 hours to be able to view or download the file. If you\n",
            "\tstill can't access a file after 24 hours, contact your domain\n",
            "\tadministrator.\n",
            "\n",
            "You may still be able to access the file from the browser:\n",
            "\n",
            "\thttps://drive.google.com/uc?id=1jiu9E1NalT2Y8EIuWNa1xf2Tw1f1XuGd\n",
            "\n",
            "but Gdown can't. Please check connections and permissions.\n",
            "/usr/local/lib/python3.10/dist-packages/gdown/__main__.py:140: FutureWarning: Option `--id` was deprecated in version 4.3.1 and will be removed in 5.0. You don't need to pass it anymore to use a file ID.\n",
            "  warnings.warn(\n",
            "Failed to retrieve file url:\n",
            "\n",
            "\tToo many users have viewed or downloaded this file recently. Please\n",
            "\ttry accessing the file again later. If the file you are trying to\n",
            "\taccess is particularly large or is shared with many people, it may\n",
            "\ttake up to 24 hours to be able to view or download the file. If you\n",
            "\tstill can't access a file after 24 hours, contact your domain\n",
            "\tadministrator.\n",
            "\n",
            "You may still be able to access the file from the browser:\n",
            "\n",
            "\thttps://drive.google.com/uc?id=1ABblLRd9HXdXvaNv8H9fFq984bhnowoG\n",
            "\n",
            "but Gdown can't. Please check connections and permissions.\n",
            "/usr/local/lib/python3.10/dist-packages/gdown/__main__.py:140: FutureWarning: Option `--id` was deprecated in version 4.3.1 and will be removed in 5.0. You don't need to pass it anymore to use a file ID.\n",
            "  warnings.warn(\n",
            "Failed to retrieve file url:\n",
            "\n",
            "\tToo many users have viewed or downloaded this file recently. Please\n",
            "\ttry accessing the file again later. If the file you are trying to\n",
            "\taccess is particularly large or is shared with many people, it may\n",
            "\ttake up to 24 hours to be able to view or download the file. If you\n",
            "\tstill can't access a file after 24 hours, contact your domain\n",
            "\tadministrator.\n",
            "\n",
            "You may still be able to access the file from the browser:\n",
            "\n",
            "\thttps://drive.google.com/uc?id=1z2VFNhpPvCejTP5zyejzKj5YjI_Bn42M\n",
            "\n",
            "but Gdown can't. Please check connections and permissions.\n",
            "/usr/local/lib/python3.10/dist-packages/gdown/__main__.py:140: FutureWarning: Option `--id` was deprecated in version 4.3.1 and will be removed in 5.0. You don't need to pass it anymore to use a file ID.\n",
            "  warnings.warn(\n",
            "Failed to retrieve file url:\n",
            "\n",
            "\tToo many users have viewed or downloaded this file recently. Please\n",
            "\ttry accessing the file again later. If the file you are trying to\n",
            "\taccess is particularly large or is shared with many people, it may\n",
            "\ttake up to 24 hours to be able to view or download the file. If you\n",
            "\tstill can't access a file after 24 hours, contact your domain\n",
            "\tadministrator.\n",
            "\n",
            "You may still be able to access the file from the browser:\n",
            "\n",
            "\thttps://drive.google.com/uc?id=1VKjded9BxADRhIoCzXy_W8uzVOTWIf0g\n",
            "\n",
            "but Gdown can't. Please check connections and permissions.\n",
            "/usr/local/lib/python3.10/dist-packages/gdown/__main__.py:140: FutureWarning: Option `--id` was deprecated in version 4.3.1 and will be removed in 5.0. You don't need to pass it anymore to use a file ID.\n",
            "  warnings.warn(\n",
            "Failed to retrieve file url:\n",
            "\n",
            "\tToo many users have viewed or downloaded this file recently. Please\n",
            "\ttry accessing the file again later. If the file you are trying to\n",
            "\taccess is particularly large or is shared with many people, it may\n",
            "\ttake up to 24 hours to be able to view or download the file. If you\n",
            "\tstill can't access a file after 24 hours, contact your domain\n",
            "\tadministrator.\n",
            "\n",
            "You may still be able to access the file from the browser:\n",
            "\n",
            "\thttps://drive.google.com/uc?id=16mBeG26m9LzHXdPe8UrijUIc6sHxhknz\n",
            "\n",
            "but Gdown can't. Please check connections and permissions.\n"
          ]
        }
      ]
    },
    {
      "cell_type": "code",
      "source": [
        "# Download the split Wikipedia files\n",
        "# Each file contain 562365 lines (articles), except the last file.\n",
        "!gdown --id 17JFvxOH-kc-VmvGkhG7p3iSZSpsWdgJI -O wiki_texts_part_5.txt.gz\n",
        "!gdown --id 19IvB2vOJRGlrYulnTXlZECR8zT5v550P -O wiki_texts_part_6.txt.gz\n",
        "!gdown --id 1sjwO8A2SDOKruv6-8NEq7pEIuQ50ygVV -O wiki_texts_part_7.txt.gz\n",
        "!gdown --id 1s7xKWJmyk98Jbq6Fi1scrHy7fr_ellUX -O wiki_texts_part_8.txt.gz\n",
        "!gdown --id 17eQXcrvY1cfpKelLbP2BhQKrljnFNykr -O wiki_texts_part_9.txt.gz\n",
        "!gdown --id 1J5TAN6bNBiSgTIYiPwzmABvGhAF58h62 -O wiki_texts_part_10.txt.gz"
      ],
      "metadata": {
        "id": "8S3ibNT3C8Xk",
        "colab": {
          "base_uri": "https://localhost:8080/"
        },
        "outputId": "468062c5-dee3-4569-db74-d42e9ddd038d"
      },
      "execution_count": null,
      "outputs": [
        {
          "output_type": "stream",
          "name": "stdout",
          "text": [
            "/usr/local/lib/python3.10/dist-packages/gdown/__main__.py:140: FutureWarning: Option `--id` was deprecated in version 4.3.1 and will be removed in 5.0. You don't need to pass it anymore to use a file ID.\n",
            "  warnings.warn(\n",
            "Failed to retrieve file url:\n",
            "\n",
            "\tToo many users have viewed or downloaded this file recently. Please\n",
            "\ttry accessing the file again later. If the file you are trying to\n",
            "\taccess is particularly large or is shared with many people, it may\n",
            "\ttake up to 24 hours to be able to view or download the file. If you\n",
            "\tstill can't access a file after 24 hours, contact your domain\n",
            "\tadministrator.\n",
            "\n",
            "You may still be able to access the file from the browser:\n",
            "\n",
            "\thttps://drive.google.com/uc?id=17JFvxOH-kc-VmvGkhG7p3iSZSpsWdgJI\n",
            "\n",
            "but Gdown can't. Please check connections and permissions.\n",
            "/usr/local/lib/python3.10/dist-packages/gdown/__main__.py:140: FutureWarning: Option `--id` was deprecated in version 4.3.1 and will be removed in 5.0. You don't need to pass it anymore to use a file ID.\n",
            "  warnings.warn(\n",
            "Failed to retrieve file url:\n",
            "\n",
            "\tToo many users have viewed or downloaded this file recently. Please\n",
            "\ttry accessing the file again later. If the file you are trying to\n",
            "\taccess is particularly large or is shared with many people, it may\n",
            "\ttake up to 24 hours to be able to view or download the file. If you\n",
            "\tstill can't access a file after 24 hours, contact your domain\n",
            "\tadministrator.\n",
            "\n",
            "You may still be able to access the file from the browser:\n",
            "\n",
            "\thttps://drive.google.com/uc?id=19IvB2vOJRGlrYulnTXlZECR8zT5v550P\n",
            "\n",
            "but Gdown can't. Please check connections and permissions.\n",
            "/usr/local/lib/python3.10/dist-packages/gdown/__main__.py:140: FutureWarning: Option `--id` was deprecated in version 4.3.1 and will be removed in 5.0. You don't need to pass it anymore to use a file ID.\n",
            "  warnings.warn(\n",
            "Failed to retrieve file url:\n",
            "\n",
            "\tToo many users have viewed or downloaded this file recently. Please\n",
            "\ttry accessing the file again later. If the file you are trying to\n",
            "\taccess is particularly large or is shared with many people, it may\n",
            "\ttake up to 24 hours to be able to view or download the file. If you\n",
            "\tstill can't access a file after 24 hours, contact your domain\n",
            "\tadministrator.\n",
            "\n",
            "You may still be able to access the file from the browser:\n",
            "\n",
            "\thttps://drive.google.com/uc?id=1sjwO8A2SDOKruv6-8NEq7pEIuQ50ygVV\n",
            "\n",
            "but Gdown can't. Please check connections and permissions.\n",
            "/usr/local/lib/python3.10/dist-packages/gdown/__main__.py:140: FutureWarning: Option `--id` was deprecated in version 4.3.1 and will be removed in 5.0. You don't need to pass it anymore to use a file ID.\n",
            "  warnings.warn(\n",
            "Failed to retrieve file url:\n",
            "\n",
            "\tToo many users have viewed or downloaded this file recently. Please\n",
            "\ttry accessing the file again later. If the file you are trying to\n",
            "\taccess is particularly large or is shared with many people, it may\n",
            "\ttake up to 24 hours to be able to view or download the file. If you\n",
            "\tstill can't access a file after 24 hours, contact your domain\n",
            "\tadministrator.\n",
            "\n",
            "You may still be able to access the file from the browser:\n",
            "\n",
            "\thttps://drive.google.com/uc?id=1s7xKWJmyk98Jbq6Fi1scrHy7fr_ellUX\n",
            "\n",
            "but Gdown can't. Please check connections and permissions.\n",
            "/usr/local/lib/python3.10/dist-packages/gdown/__main__.py:140: FutureWarning: Option `--id` was deprecated in version 4.3.1 and will be removed in 5.0. You don't need to pass it anymore to use a file ID.\n",
            "  warnings.warn(\n",
            "Failed to retrieve file url:\n",
            "\n",
            "\tToo many users have viewed or downloaded this file recently. Please\n",
            "\ttry accessing the file again later. If the file you are trying to\n",
            "\taccess is particularly large or is shared with many people, it may\n",
            "\ttake up to 24 hours to be able to view or download the file. If you\n",
            "\tstill can't access a file after 24 hours, contact your domain\n",
            "\tadministrator.\n",
            "\n",
            "You may still be able to access the file from the browser:\n",
            "\n",
            "\thttps://drive.google.com/uc?id=17eQXcrvY1cfpKelLbP2BhQKrljnFNykr\n",
            "\n",
            "but Gdown can't. Please check connections and permissions.\n",
            "/usr/local/lib/python3.10/dist-packages/gdown/__main__.py:140: FutureWarning: Option `--id` was deprecated in version 4.3.1 and will be removed in 5.0. You don't need to pass it anymore to use a file ID.\n",
            "  warnings.warn(\n",
            "Downloading...\n",
            "From: https://drive.google.com/uc?id=1J5TAN6bNBiSgTIYiPwzmABvGhAF58h62\n",
            "To: /content/wiki_texts_part_10.txt.gz\n",
            "100% 2.82k/2.82k [00:00<00:00, 5.72MB/s]\n"
          ]
        }
      ]
    },
    {
      "cell_type": "code",
      "source": [
        "# Extract the downloaded wiki_texts_parts files.\n",
        "!gunzip -k wiki_texts_part_*.gz"
      ],
      "metadata": {
        "id": "DUg_c79BC7OL"
      },
      "execution_count": null,
      "outputs": []
    },
    {
      "cell_type": "code",
      "source": [
        "# Combine the extracted wiki_texts_parts files.\n",
        "!cat wiki_texts_part_*.txt > wiki_texts_combined.txt"
      ],
      "metadata": {
        "id": "7duk2RbYDB02"
      },
      "execution_count": null,
      "outputs": []
    },
    {
      "cell_type": "code",
      "source": [
        "# Check the first ten lines of the combined file\n",
        "!head -n 10 wiki_texts_combined.txt"
      ],
      "metadata": {
        "id": "givLH7NrDs6X",
        "colab": {
          "base_uri": "https://localhost:8080/"
        },
        "outputId": "21809e2b-23ed-4285-cef2-495d52a830f9"
      },
      "execution_count": null,
      "outputs": [
        {
          "output_type": "stream",
          "name": "stdout",
          "text": [
            "race through the skies the week the world learned to fly is non fiction children book by american writer and historian martin sandler the book focuses on single week in august that introduced aviation to the world the week of an early air show and competition in reims like sandler other books race through the skies includes contemporary photographs newspaper clippings and posters alongside the text as well as detailed information about key characters in the book including the wright brothers glenn curtiss jorge chávez and louis blériot race through the skies was generally well received by critics with some criticisms kirkus reviews described it fascinating eminently entertaining and sometimes frustrating they highlighted how the races are presented in thrilling detail and clearly placed in the context of the history of early aviation publishers weekly indicated that the firsthand accounts will enthrall young aviation enthusiasts school library journal bob hassett similarly wrote this captivating nonfiction read will appeal to anyone interested in the history of flight inventions or thrill sports however publishers found that the book use of sophisticated text and french terminology some of which is untranslated may make this challenging read kirkus reviews similarly discussed how in the midst of excellence numerous additional topics all about two pages long are wedged in nearly always interrupting the narrative midsentence which they describe as an annoying design flaw in this otherwise fine work race through the skies is junior library guild book and was nominated for the yalsa award for excellence in nonfiction references\n",
            "village keeper is canadian drama film directed by karen chapman and slated for release in the film stars oluniké adeliyi as jean black canadian widow living in the lawrence heights community of toronto where she tries to protect her children tamika zahra bentham and tristin micah mensah jatoe from neighbourhood violence the cast also includes maxine simpson as jean mother as well as oyin oladejo bi young anitafrika ethan burnett shiloh reilly noah zulfikar ricardo betancourt sweeney mark sparks gordon fulton zara mclean jael obasi and mekeylah minott in supporting roles chapman feature directorial debut it entered production in summer in toronto the film is slated to premiere in the discovery program at the toronto international film festival references external links\n",
            "lizzie bea is british actress and singer she is best known for playing sister mary robert in sister act and tracy turnblad in hairspray early life and education bea trained at the national youth theatre career musical theatre in september bea joined the cast of the world premiere of the musical becoming nancy playing at the alliance theatre atlanta georgia the show was directed by jerry mitchell and has music and lyrics by stiles and drewe bea made her west end debut in hairspray at the london palladium in the leading role of tracy turnblad the show was due to open in and was postponed to april due to the covid pandemic the show also starred michael ball reprising the role of edna turnblad marisha wallace as motormouth maybelle les dennis as wilbur turnblad and rita simons as velma von tussle in bea took on the role of martha dunnstock in heathers the musical at the other palace in london bea was announced as playing the role of sister mary robert in the west end revival of the musical sister act the part of deloris was initially played by beverley knight from mar to jun and then by alexandra burke until the end of the run in late august other notable cast members were ruth jones as mother superior lesley joseph as sister mary lazarus and singer lemar as curtis jackson theatre credits year title role venue fat friends the musical kelly betty val uk tour kinky boots pat uk tour becoming nancy abigail henson alliance theatre atlanta us hairspray tracy turnblad london coliseum heathers martha dunnstock the other palace sister act sister mary robert london and uk tour references external links sister act the musical official website\n",
            "rand jr rufus randall rand jr may october was an american businessman military officer and politician who served as the first mayor of wayzata minnesota in the he was the maternal grandfather of sheldon whitehouse united states senator from rhode island biography rand was born into the family that built rand house and was grandson of state senator tobias mealey and arthur rand once mayor of minneapolis he served as an aviator during world war flying for lafayette escadrille he was the president of the minneapolis gas company during the he entered politics and served as mayor of wayzata and built rand tower which is now marriot hotel he also built the rufus rand house at still pond square foot room mansion in for and sold it to cargill in references\n",
            "kevin kopacka is an austrian sri lankan filmmaker and painter best known for writing and directing the horror film dawn breaks behind the eyes early life kopacka grew up in graz austria as the son of austrian journalist and writer werner kopacka and ramani kopacka from sri lanka kopacka has lived in berlin germany since where he completed his studies in fine arts at the berlin university of the arts as master student in the class of japanese artist leiko ikemura in kopacka was named one of the top groundbreaking artists under by the us trade magazine art business news he has exhibited his art in germany austria switzerland northern ireland france and the usa film career after graduating from university kopacka started working on short films his first short film hades about woman stuck in an endless dream in which she has to cross the five rivers of hades and its sequel tlmea about drug raid that descends down the nine levels of hell made splash at the festival circuit and were already testament to kopacka distinct visual style kopacka made his directorial debut in with the gothic horror film dawn breaks behind the eyes which premiered at frightfest in the film was success and won several awards in august variety announced out of the locarno film festival that kopacka was developing his next feature film titled all the world drops dead co production between germany and spain references\n"
          ]
        }
      ]
    },
    {
      "cell_type": "markdown",
      "source": [
        "Please note that we used the default parameters of [`gensim.corpora.wikicorpus.WikiCorpus`](https://radimrehurek.com/gensim/corpora/wikicorpus.html#gensim.corpora.wikicorpus.WikiCorpus) for cleaning the Wiki raw file. Thus, words with one character were discarded."
      ],
      "metadata": {
        "id": "Hfwx92QCEhrq"
      }
    },
    {
      "cell_type": "code",
      "source": [
        "# Now you need to do sampling because the corpus is too big.\n",
        "# You can further perform analysis with a greater sampling ratio.\n",
        "\n",
        "import random\n",
        "\n",
        "wiki_txt_path = \"wiki_texts_combined.txt\"\n",
        "output_path = \"wiki_texts_sampled.txt\"\n",
        "# wiki_texts_combined.txt is a text file separated by linebreaks (\\n).\n",
        "# Each row in wiki_texts_combined.txt indicates a Wikipedia article.\n",
        "\n",
        "rate = 0.2 #samplin rate\n",
        "\n",
        "with open(wiki_txt_path, \"r\", encoding=\"utf-8\") as f:\n",
        "    with open(output_path, \"w\", encoding=\"utf-8\") as output_file:\n",
        "    # TODO4: Sample `20%` Wikipedia articles\n",
        "    # Write your code here\n",
        "        for line in f:\n",
        "            if random.random() < rate:\n",
        "                output_file.write(line)"
      ],
      "metadata": {
        "id": "vUAzButoP03w"
      },
      "execution_count": null,
      "outputs": []
    },
    {
      "cell_type": "code",
      "source": [
        "from google.colab import drive\n",
        "drive.mount('/content/drive')"
      ],
      "metadata": {
        "id": "jURlTNeqfcjm",
        "outputId": "8cd6604c-5b5c-4a48-eed6-980c9c0f0ce0",
        "colab": {
          "base_uri": "https://localhost:8080/"
        }
      },
      "execution_count": 1,
      "outputs": [
        {
          "output_type": "stream",
          "name": "stdout",
          "text": [
            "Mounted at /content/drive\n"
          ]
        }
      ]
    },
    {
      "cell_type": "code",
      "source": [
        "import re\n",
        "import nltk\n",
        "from nltk.corpus import stopwords\n",
        "from nltk.tokenize import word_tokenize\n",
        "from concurrent.futures import ProcessPoolExecutor\n",
        "\n",
        "# Download NLTK resources if not already available\n",
        "nltk.download('punkt')\n",
        "nltk.download('stopwords')\n",
        "\n",
        "# Initialize stop words\n",
        "stop_words = set(stopwords.words('english'))\n",
        "\n",
        "# Function to preprocess text by removing stop words and non-English characters\n",
        "def preprocess_text(text):\n",
        "    # Convert to lowercase\n",
        "    text = text.lower()\n",
        "\n",
        "    # Remove non-English characters (retain only A-Z, a-z, and spaces)\n",
        "    text = re.sub(r'[^a-z\\s]', '', text)\n",
        "\n",
        "    # Tokenize the text\n",
        "    words = word_tokenize(text)\n",
        "\n",
        "    # Remove stopwords\n",
        "    words = [word for word in words if word not in stop_words]\n",
        "\n",
        "    return ' '.join(words)\n",
        "\n",
        "# Function to preprocess a chunk of lines\n",
        "def process_chunk(lines):\n",
        "    return [preprocess_text(line) for line in lines]\n",
        "\n",
        "# Main function to read, preprocess, and write in chunks with parallel processing\n",
        "def preprocess_large_file(input_file, output_file, chunk_size=1000):\n",
        "    with open(input_file, \"r\", encoding=\"utf-8\") as infile, open(output_file, \"w\", encoding=\"utf-8\") as outfile:\n",
        "        while True:\n",
        "            # Read a chunk of lines\n",
        "            lines = infile.readlines(chunk_size)\n",
        "            if not lines:\n",
        "                break\n",
        "\n",
        "            # Use ProcessPoolExecutor for parallel processing of chunks\n",
        "            with ProcessPoolExecutor() as executor:\n",
        "                # Process chunks in parallel\n",
        "                preprocessed_lines = list(executor.map(preprocess_text, lines))\n",
        "\n",
        "            # Write the preprocessed lines to the output file\n",
        "            outfile.write('\\n'.join(preprocessed_lines) + '\\n')\n",
        "\n",
        "    print(\"Preprocessing completed!\")\n",
        "\n",
        "# Input and output file paths\n",
        "input_file = \"/content/drive/MyDrive/wiki_texts_sampled.txt\"\n",
        "output_file = \"preprocessed_wiki_texts.txt\"\n",
        "\n",
        "# Call the function with the desired chunk size\n",
        "preprocess_large_file(input_file, output_file, chunk_size=1000)\n"
      ],
      "metadata": {
        "colab": {
          "base_uri": "https://localhost:8080/"
        },
        "id": "oaeTL7P1uQO6",
        "outputId": "b226f425-e2f6-46e6-f1a3-06a160c00cfa"
      },
      "execution_count": null,
      "outputs": [
        {
          "output_type": "stream",
          "name": "stderr",
          "text": [
            "[nltk_data] Downloading package punkt to /root/nltk_data...\n",
            "[nltk_data]   Package punkt is already up-to-date!\n",
            "[nltk_data] Downloading package stopwords to /root/nltk_data...\n",
            "[nltk_data]   Package stopwords is already up-to-date!\n"
          ]
        }
      ]
    },
    {
      "cell_type": "code",
      "source": [
        "# TODO5: Train your own word embeddings with the sampled articles\n",
        "# https://radimrehurek.com/gensim/models/word2vec.html#gensim.models.word2vec.Word2Vec\n",
        "# Hint: You should perform some pre-processing before training.\n",
        "from gensim.models import Word2Vec\n",
        "model = Word2Vec(sentences=preprocessed_line, vector_size=400, window=5, min_count=5, workers=4)\n",
        "model.train(preprocessed_line, total_examples=model.corpus_count, epochs=model.epochs)\n",
        "\n"
      ],
      "metadata": {
        "id": "G7q1Xzunxkdc",
        "colab": {
          "base_uri": "https://localhost:8080/"
        },
        "outputId": "dc0016e1-bf0a-4766-b4f2-d1edae011ee9"
      },
      "execution_count": null,
      "outputs": [
        {
          "output_type": "stream",
          "name": "stderr",
          "text": [
            "WARNING:gensim.models.word2vec:Each 'sentences' item should be a list of words (usually unicode strings). First item here is instead plain <class 'str'>.\n",
            "WARNING:gensim.models.word2vec:Effective 'alpha' higher than previous training cycles\n"
          ]
        },
        {
          "output_type": "execute_result",
          "data": {
            "text/plain": [
              "(3756, 21505)"
            ]
          },
          "metadata": {},
          "execution_count": 48
        }
      ]
    },
    {
      "cell_type": "code",
      "source": [
        "data = pd.read_csv(\"questions-words.csv\")"
      ],
      "metadata": {
        "id": "qWiQF70izxP7"
      },
      "execution_count": null,
      "outputs": []
    },
    {
      "cell_type": "code",
      "source": [
        "# Do predictions and preserve the gold answers (word_D)\n",
        "preds = []\n",
        "golds = []\n",
        "\n",
        "for analogy in tqdm(data[\"Question\"]):\n",
        "      # TODO6: Write your code here to use your trained word embeddings for getting predictions of the analogy task.\n",
        "      # You should also preserve the gold answers during iterations for evaluations later.\n",
        "      \"\"\" Hints\n",
        "      # Unpack the analogy (e.g., \"man\", \"woman\", \"king\", \"queen\")\n",
        "      # Perform vector arithmetic: word_b + word_c - word_a should be close to word_d\n",
        "      # Source: https://github.com/piskvorky/gensim/blob/develop/gensim/models/keyedvectors.py#L776\n",
        "      # Mikolov et al., 2013: big - biggest and small - smallest\n",
        "      # Mikolov et al., 2013: X = vector(”biggest”) − vector(”big”) + vector(”small”).\n",
        "      \"\"\"\n",
        "      word_a, word_b, word_c, word_d = analogy.lower().split()\n",
        "      if word_a in model.wv and word_b in model.wv and word_c in model.wv:\n",
        "        predicted = model.wv[word_b] + model.wv[word_c] - model.wv[word_a]\n",
        "        predicted_word_d = model.wv.most_similar(positive=[predicted], topn=1)[0][0]\n",
        "        preds.append(predicted_word_d)\n",
        "        golds.append(word_d)\n",
        "      else:\n",
        "        preds.append(\"OOV\")\n",
        "        golds.append(word_d)\n"
      ],
      "metadata": {
        "id": "q6xpqgdIy5x1",
        "colab": {
          "base_uri": "https://localhost:8080/"
        },
        "outputId": "a0908e7c-55f0-4db4-9ce5-7f646572be8f"
      },
      "execution_count": null,
      "outputs": [
        {
          "output_type": "stream",
          "name": "stderr",
          "text": [
            "100%|██████████| 19544/19544 [00:00<00:00, 407763.33it/s]\n"
          ]
        }
      ]
    },
    {
      "cell_type": "code",
      "source": [
        "# Perform evaluations. You do not need to modify this block!!\n",
        "\n",
        "def calculate_accuracy(gold: np.ndarray, pred: np.ndarray) -> float:\n",
        "    return np.mean(gold == pred)\n",
        "\n",
        "golds_np, preds_np = np.array(golds), np.array(preds)\n",
        "data = pd.read_csv(\"questions-words.csv\")\n",
        "\n",
        "# Evaluation: categories\n",
        "for category in data[\"Category\"].unique():\n",
        "    mask = data[\"Category\"] == category\n",
        "    golds_cat, preds_cat = golds_np[mask], preds_np[mask]\n",
        "    acc_cat = calculate_accuracy(golds_cat, preds_cat)\n",
        "    print(f\"Category: {category}, Accuracy: {acc_cat * 100}%\")\n",
        "\n",
        "# Evaluation: sub-categories\n",
        "for sub_category in data[\"SubCategory\"].unique():\n",
        "    mask = data[\"SubCategory\"] == sub_category\n",
        "    golds_subcat, preds_subcat = golds_np[mask], preds_np[mask]\n",
        "    acc_subcat = calculate_accuracy(golds_subcat, preds_subcat)\n",
        "    print(f\"Sub-Category{sub_category}, Accuracy: {acc_subcat * 100}%\")"
      ],
      "metadata": {
        "colab": {
          "base_uri": "https://localhost:8080/"
        },
        "outputId": "a92a0dcd-72cd-4c73-ca7d-580993e79df5",
        "id": "3Fs_YhVqCR9R"
      },
      "execution_count": null,
      "outputs": [
        {
          "output_type": "stream",
          "name": "stdout",
          "text": [
            "Category: semantic, Accuracy: 0.0%\n",
            "Category: syntatic, Accuracy: 0.0%\n",
            "Sub-Category: capital-common-countries, Accuracy: 0.0%\n",
            "Sub-Category: capital-world, Accuracy: 0.0%\n",
            "Sub-Category: currency, Accuracy: 0.0%\n",
            "Sub-Category: city-in-state, Accuracy: 0.0%\n",
            "Sub-Category: family, Accuracy: 0.0%\n",
            "Sub-Category: gram1-adjective-to-adverb, Accuracy: 0.0%\n",
            "Sub-Category: gram2-opposite, Accuracy: 0.0%\n",
            "Sub-Category: gram3-comparative, Accuracy: 0.0%\n",
            "Sub-Category: gram4-superlative, Accuracy: 0.0%\n",
            "Sub-Category: gram5-present-participle, Accuracy: 0.0%\n",
            "Sub-Category: gram6-nationality-adjective, Accuracy: 0.0%\n",
            "Sub-Category: gram7-past-tense, Accuracy: 0.0%\n",
            "Sub-Category: gram8-plural, Accuracy: 0.0%\n",
            "Sub-Category: gram9-plural-verbs, Accuracy: 0.0%\n"
          ]
        }
      ]
    },
    {
      "cell_type": "code",
      "source": [
        "# Collect words from Google Analogy dataset\n",
        "SUB_CATEGORY = \": family\"\n",
        "\n",
        "# TODO7: Plot t-SNE for the words in the SUB_CATEGORY `: family`\n",
        "\n",
        "\n",
        "family_df = df[df[\"SubCategory\"] == SUB_CATEGORY]\n",
        "family_questions = family_df[\"Question\"].tolist()\n",
        "\n",
        "#select unique words\n",
        "family_words = set()\n",
        "for analogy in family_questions:\n",
        "    word_a, word_b, word_c,word_d = analogy.split()[:4]  #分割4個字\n",
        "    family_words.update([word_a, word_b, word_c, word_d])\n",
        "\n",
        "#過濾不再model中的字詞\n",
        "#family_words = [word for word in family_words if word in model.wv]\n",
        "\n",
        "#get embedding\n",
        "word_vectors = np.array([model.wv[word] for word in family_words if word in model.wv])\n",
        "print(word_vectors)\n",
        "# 劃出TSNE\n",
        "perplexity = min(5, len(word_vectors) - 1) # Ensure perplexity is less than n_samples\n",
        "tsne = TSNE(n_components=2, random_state=42, perplexity=perplexity) # Set perplexity to be lower than n_samples\n",
        "#word_vectors_2d = tsne.fit_transform(word_vectors)\n",
        "\n",
        "# 打印TSNE\n",
        "plt.figure(figsize=(10, 10))\n",
        "#plt.scatter(word_vectors_2d[:, 0], word_vectors_2d[:, 1])\n",
        "\n",
        "# 標記每個點的屬性etc.he,she\n",
        "for i, word in enumerate(family_words):\n",
        "    plt.annotate(word, (word_vectors_2d[i, 0], word_vectors_2d[i, 1]))\n",
        "\n",
        "plt.title(\"Word Relationships from Google Analogy Task\")\n",
        "plt.show()\n",
        "plt.savefig(\"word_relationships.png\", bbox_inches=\"tight\")"
      ],
      "metadata": {
        "id": "AjZ14dQL0mhf",
        "colab": {
          "base_uri": "https://localhost:8080/",
          "height": 889
        },
        "outputId": "8a797c62-0e8f-4a4e-9b57-24f6a7fcab72"
      },
      "execution_count": null,
      "outputs": [
        {
          "output_type": "stream",
          "name": "stdout",
          "text": [
            "[]\n"
          ]
        },
        {
          "output_type": "display_data",
          "data": {
            "text/plain": [
              "<Figure size 1000x1000 with 1 Axes>"
            ],
            "image/png": "[encoded data removed]"
          },
          "metadata": {}
        },
        {
          "output_type": "display_data",
          "data": {
            "text/plain": [
              "<Figure size 640x480 with 0 Axes>"
            ]
          },
          "metadata": {}
        }
      ]
    }
  ]
}