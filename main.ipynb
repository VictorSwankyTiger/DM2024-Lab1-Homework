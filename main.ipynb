{
  "nbformat": 4,
  "nbformat_minor": 0,
  "metadata": {
    "colab": {
      "provenance": [],
      "include_colab_link": true
    },
    "kernelspec": {
      "name": "python3",
      "display_name": "Python 3"
    },
    "language_info": {
      "name": "python"
    }
  },
  "cells": [
    {
      "cell_type": "markdown",
      "metadata": {
        "id": "view-in-github",
        "colab_type": "text"
      },
      "source": [
        "<a href=\"https://colab.research.google.com/github/VictorSwankyTiger/DM2024-Lab1-Homework/blob/main/main.ipynb\" target=\"_parent\"><img src=\"https://colab.research.google.com/assets/colab-badge.svg\" alt=\"Open In Colab\"/></a>"
      ]
    },
    {
      "cell_type": "markdown",
      "source": [
        "## Part I: Data Pre-processing"
      ],
      "metadata": {
        "id": "p6yklm2xWn9f"
      }
    },
    {
      "cell_type": "code",
      "source": [
        "import pandas as pd"
      ],
      "metadata": {
        "id": "YycoIJomXwqH"
      },
      "execution_count": 7,
      "outputs": []
    },
    {
      "cell_type": "code",
      "source": [
        "# Download the Google Analogy dataset\n",
        "!wget http://download.tensorflow.org/data/questions-words.txt"
      ],
      "metadata": {
        "id": "KKAXuhZIUxD8",
        "colab": {
          "base_uri": "https://localhost:8080/"
        },
        "outputId": "51ebe589-1e48-4099-e87d-a053860c0069"
      },
      "execution_count": 8,
      "outputs": [
        {
          "output_type": "stream",
          "name": "stdout",
          "text": [
            "--2024-10-05 04:04:38--  http://download.tensorflow.org/data/questions-words.txt\n",
            "Resolving download.tensorflow.org (download.tensorflow.org)... 74.125.135.207, 142.250.107.207, 108.177.98.207, ...\n",
            "Connecting to download.tensorflow.org (download.tensorflow.org)|74.125.135.207|:80... connected.\n",
            "HTTP request sent, awaiting response... 200 OK\n",
            "Length: 603955 (590K) [text/plain]\n",
            "Saving to: ‘questions-words.txt’\n",
            "\n",
            "questions-words.txt 100%[===================>] 589.80K  --.-KB/s    in 0.002s  \n",
            "\n",
            "2024-10-05 04:04:38 (275 MB/s) - ‘questions-words.txt’ saved [603955/603955]\n",
            "\n"
          ]
        }
      ]
    },
    {
      "cell_type": "code",
      "source": [
        "# Preprocess the dataset\n",
        "file_name = \"questions-words\"\n",
        "with open(f\"{file_name}.txt\", \"r\") as f:\n",
        "    data = f.read().splitlines()"
      ],
      "metadata": {
        "id": "xue5pVFLVNQQ"
      },
      "execution_count": 9,
      "outputs": []
    },
    {
      "cell_type": "code",
      "source": [
        "# check data from the first 10 entries\n",
        "for entry in data[:10]:\n",
        "    print(entry)"
      ],
      "metadata": {
        "id": "h7dOdJOsZzAF",
        "colab": {
          "base_uri": "https://localhost:8080/"
        },
        "outputId": "b183d2a9-db01-48a9-fe11-f0a28e512101"
      },
      "execution_count": 10,
      "outputs": [
        {
          "output_type": "stream",
          "name": "stdout",
          "text": [
            ": capital-common-countries\n",
            "Athens Greece Baghdad Iraq\n",
            "Athens Greece Bangkok Thailand\n",
            "Athens Greece Beijing China\n",
            "Athens Greece Berlin Germany\n",
            "Athens Greece Bern Switzerland\n",
            "Athens Greece Cairo Egypt\n",
            "Athens Greece Canberra Australia\n",
            "Athens Greece Hanoi Vietnam\n",
            "Athens Greece Havana Cuba\n"
          ]
        }
      ]
    },
    {
      "cell_type": "code",
      "source": [
        "# TODO1: Write your code here for processing data to pd.DataFrame\n",
        "# Please note that the first five mentions of \": \" indicate `semantic`,\n",
        "# and the remaining nine belong to the `syntatic` category.\n",
        "questions = []\n",
        "categories = []\n",
        "sub_categories = []\n",
        "counter = 0 #countin the first five mention (markin semantic)\n",
        "\n",
        "categoriy = \"semantic\"\n",
        "sub_categoriy = \"\"\n",
        "\n",
        "for entry in data:\n",
        "    if entry.startswith(\":\"):\n",
        "        counter = counter+1 #counting\n",
        "        sub_categoriy = \"\" #initialize\n",
        "        sub_categoriy = entry #place as entry\n",
        "    else:\n",
        "        #when counting ends shift the categoriy\n",
        "        if counter < 5:\n",
        "            categoriy = \"semantic\"\n",
        "        else:\n",
        "            categoriy = \"syntatic\"\n",
        "        #place the data into frame\n",
        "        questions.append(entry)\n",
        "        categories.append(categoriy)\n",
        "        sub_categories.append(sub_categoriy)\n"
      ],
      "metadata": {
        "id": "wmYQ0IWZZxf3"
      },
      "execution_count": 11,
      "outputs": []
    },
    {
      "cell_type": "code",
      "source": [
        "# Create the dataframe\n",
        "df = pd.DataFrame(\n",
        "    {\n",
        "        \"Question\": questions,\n",
        "        \"Category\": categories,\n",
        "        \"SubCategory\": sub_categories,\n",
        "    }\n",
        ")"
      ],
      "metadata": {
        "id": "_bKA05rVZb_i"
      },
      "execution_count": 12,
      "outputs": []
    },
    {
      "cell_type": "code",
      "source": [
        "df.head()"
      ],
      "metadata": {
        "id": "UN2FBcicZmpV",
        "colab": {
          "base_uri": "https://localhost:8080/",
          "height": 206
        },
        "outputId": "20e9c0e5-1713-4220-8723-47046bcd7590"
      },
      "execution_count": 13,
      "outputs": [
        {
          "output_type": "execute_result",
          "data": {
            "text/plain": [
              "                         Question  Category                 SubCategory\n",
              "0      Athens Greece Baghdad Iraq  semantic  : capital-common-countries\n",
              "1  Athens Greece Bangkok Thailand  semantic  : capital-common-countries\n",
              "2     Athens Greece Beijing China  semantic  : capital-common-countries\n",
              "3    Athens Greece Berlin Germany  semantic  : capital-common-countries\n",
              "4  Athens Greece Bern Switzerland  semantic  : capital-common-countries"
            ],
            "text/html": [
              "\n",
              "  <div id=\"df-2509ad4d-cee1-44f6-973d-bcf6e3b33055\" class=\"colab-df-container\">\n",
              "    <div>\n",
              "<style scoped>\n",
              "    .dataframe tbody tr th:only-of-type {\n",
              "        vertical-align: middle;\n",
              "    }\n",
              "\n",
              "    .dataframe tbody tr th {\n",
              "        vertical-align: top;\n",
              "    }\n",
              "\n",
              "    .dataframe thead th {\n",
              "        text-align: right;\n",
              "    }\n",
              "</style>\n",
              "<table border=\"1\" class=\"dataframe\">\n",
              "  <thead>\n",
              "    <tr style=\"text-align: right;\">\n",
              "      <th></th>\n",
              "      <th>Question</th>\n",
              "      <th>Category</th>\n",
              "      <th>SubCategory</th>\n",
              "    </tr>\n",
              "  </thead>\n",
              "  <tbody>\n",
              "    <tr>\n",
              "      <th>0</th>\n",
              "      <td>Athens Greece Baghdad Iraq</td>\n",
              "      <td>semantic</td>\n",
              "      <td>: capital-common-countries</td>\n",
              "    </tr>\n",
              "    <tr>\n",
              "      <th>1</th>\n",
              "      <td>Athens Greece Bangkok Thailand</td>\n",
              "      <td>semantic</td>\n",
              "      <td>: capital-common-countries</td>\n",
              "    </tr>\n",
              "    <tr>\n",
              "      <th>2</th>\n",
              "      <td>Athens Greece Beijing China</td>\n",
              "      <td>semantic</td>\n",
              "      <td>: capital-common-countries</td>\n",
              "    </tr>\n",
              "    <tr>\n",
              "      <th>3</th>\n",
              "      <td>Athens Greece Berlin Germany</td>\n",
              "      <td>semantic</td>\n",
              "      <td>: capital-common-countries</td>\n",
              "    </tr>\n",
              "    <tr>\n",
              "      <th>4</th>\n",
              "      <td>Athens Greece Bern Switzerland</td>\n",
              "      <td>semantic</td>\n",
              "      <td>: capital-common-countries</td>\n",
              "    </tr>\n",
              "  </tbody>\n",
              "</table>\n",
              "</div>\n",
              "    <div class=\"colab-df-buttons\">\n",
              "\n",
              "  <div class=\"colab-df-container\">\n",
              "    <button class=\"colab-df-convert\" onclick=\"convertToInteractive('df-2509ad4d-cee1-44f6-973d-bcf6e3b33055')\"\n",
              "            title=\"Convert this dataframe to an interactive table.\"\n",
              "            style=\"display:none;\">\n",
              "\n",
              "  <svg xmlns=\"http://www.w3.org/2000/svg\" height=\"24px\" viewBox=\"0 -960 960 960\">\n",
              "    <path d=\"M120-120v-720h720v720H120Zm60-500h600v-160H180v160Zm220 220h160v-160H400v160Zm0 220h160v-160H400v160ZM180-400h160v-160H180v160Zm440 0h160v-160H620v160ZM180-180h160v-160H180v160Zm440 0h160v-160H620v160Z\"/>\n",
              "  </svg>\n",
              "    </button>\n",
              "\n",
              "  <style>\n",
              "    .colab-df-container {\n",
              "      display:flex;\n",
              "      gap: 12px;\n",
              "    }\n",
              "\n",
              "    .colab-df-convert {\n",
              "      background-color: #E8F0FE;\n",
              "      border: none;\n",
              "      border-radius: 50%;\n",
              "      cursor: pointer;\n",
              "      display: none;\n",
              "      fill: #1967D2;\n",
              "      height: 32px;\n",
              "      padding: 0 0 0 0;\n",
              "      width: 32px;\n",
              "    }\n",
              "\n",
              "    .colab-df-convert:hover {\n",
              "      background-color: #E2EBFA;\n",
              "      box-shadow: 0px 1px 2px rgba(60, 64, 67, 0.3), 0px 1px 3px 1px rgba(60, 64, 67, 0.15);\n",
              "      fill: #174EA6;\n",
              "    }\n",
              "\n",
              "    .colab-df-buttons div {\n",
              "      margin-bottom: 4px;\n",
              "    }\n",
              "\n",
              "    [theme=dark] .colab-df-convert {\n",
              "      background-color: #3B4455;\n",
              "      fill: #D2E3FC;\n",
              "    }\n",
              "\n",
              "    [theme=dark] .colab-df-convert:hover {\n",
              "      background-color: #434B5C;\n",
              "      box-shadow: 0px 1px 3px 1px rgba(0, 0, 0, 0.15);\n",
              "      filter: drop-shadow(0px 1px 2px rgba(0, 0, 0, 0.3));\n",
              "      fill: #FFFFFF;\n",
              "    }\n",
              "  </style>\n",
              "\n",
              "    <script>\n",
              "      const buttonEl =\n",
              "        document.querySelector('#df-2509ad4d-cee1-44f6-973d-bcf6e3b33055 button.colab-df-convert');\n",
              "      buttonEl.style.display =\n",
              "        google.colab.kernel.accessAllowed ? 'block' : 'none';\n",
              "\n",
              "      async function convertToInteractive(key) {\n",
              "        const element = document.querySelector('#df-2509ad4d-cee1-44f6-973d-bcf6e3b33055');\n",
              "        const dataTable =\n",
              "          await google.colab.kernel.invokeFunction('convertToInteractive',\n",
              "                                                    [key], {});\n",
              "        if (!dataTable) return;\n",
              "\n",
              "        const docLinkHtml = 'Like what you see? Visit the ' +\n",
              "          '<a target=\"_blank\" href=https://colab.research.google.com/notebooks/data_table.ipynb>data table notebook</a>'\n",
              "          + ' to learn more about interactive tables.';\n",
              "        element.innerHTML = '';\n",
              "        dataTable['output_type'] = 'display_data';\n",
              "        await google.colab.output.renderOutput(dataTable, element);\n",
              "        const docLink = document.createElement('div');\n",
              "        docLink.innerHTML = docLinkHtml;\n",
              "        element.appendChild(docLink);\n",
              "      }\n",
              "    </script>\n",
              "  </div>\n",
              "\n",
              "\n",
              "<div id=\"df-ad8eac19-8abc-41b3-8a9e-34304ec7813b\">\n",
              "  <button class=\"colab-df-quickchart\" onclick=\"quickchart('df-ad8eac19-8abc-41b3-8a9e-34304ec7813b')\"\n",
              "            title=\"Suggest charts\"\n",
              "            style=\"display:none;\">\n",
              "\n",
              "<svg xmlns=\"http://www.w3.org/2000/svg\" height=\"24px\"viewBox=\"0 0 24 24\"\n",
              "     width=\"24px\">\n",
              "    <g>\n",
              "        <path d=\"M19 3H5c-1.1 0-2 .9-2 2v14c0 1.1.9 2 2 2h14c1.1 0 2-.9 2-2V5c0-1.1-.9-2-2-2zM9 17H7v-7h2v7zm4 0h-2V7h2v10zm4 0h-2v-4h2v4z\"/>\n",
              "    </g>\n",
              "</svg>\n",
              "  </button>\n",
              "\n",
              "<style>\n",
              "  .colab-df-quickchart {\n",
              "      --bg-color: #E8F0FE;\n",
              "      --fill-color: #1967D2;\n",
              "      --hover-bg-color: #E2EBFA;\n",
              "      --hover-fill-color: #174EA6;\n",
              "      --disabled-fill-color: #AAA;\n",
              "      --disabled-bg-color: #DDD;\n",
              "  }\n",
              "\n",
              "  [theme=dark] .colab-df-quickchart {\n",
              "      --bg-color: #3B4455;\n",
              "      --fill-color: #D2E3FC;\n",
              "      --hover-bg-color: #434B5C;\n",
              "      --hover-fill-color: #FFFFFF;\n",
              "      --disabled-bg-color: #3B4455;\n",
              "      --disabled-fill-color: #666;\n",
              "  }\n",
              "\n",
              "  .colab-df-quickchart {\n",
              "    background-color: var(--bg-color);\n",
              "    border: none;\n",
              "    border-radius: 50%;\n",
              "    cursor: pointer;\n",
              "    display: none;\n",
              "    fill: var(--fill-color);\n",
              "    height: 32px;\n",
              "    padding: 0;\n",
              "    width: 32px;\n",
              "  }\n",
              "\n",
              "  .colab-df-quickchart:hover {\n",
              "    background-color: var(--hover-bg-color);\n",
              "    box-shadow: 0 1px 2px rgba(60, 64, 67, 0.3), 0 1px 3px 1px rgba(60, 64, 67, 0.15);\n",
              "    fill: var(--button-hover-fill-color);\n",
              "  }\n",
              "\n",
              "  .colab-df-quickchart-complete:disabled,\n",
              "  .colab-df-quickchart-complete:disabled:hover {\n",
              "    background-color: var(--disabled-bg-color);\n",
              "    fill: var(--disabled-fill-color);\n",
              "    box-shadow: none;\n",
              "  }\n",
              "\n",
              "  .colab-df-spinner {\n",
              "    border: 2px solid var(--fill-color);\n",
              "    border-color: transparent;\n",
              "    border-bottom-color: var(--fill-color);\n",
              "    animation:\n",
              "      spin 1s steps(1) infinite;\n",
              "  }\n",
              "\n",
              "  @keyframes spin {\n",
              "    0% {\n",
              "      border-color: transparent;\n",
              "      border-bottom-color: var(--fill-color);\n",
              "      border-left-color: var(--fill-color);\n",
              "    }\n",
              "    20% {\n",
              "      border-color: transparent;\n",
              "      border-left-color: var(--fill-color);\n",
              "      border-top-color: var(--fill-color);\n",
              "    }\n",
              "    30% {\n",
              "      border-color: transparent;\n",
              "      border-left-color: var(--fill-color);\n",
              "      border-top-color: var(--fill-color);\n",
              "      border-right-color: var(--fill-color);\n",
              "    }\n",
              "    40% {\n",
              "      border-color: transparent;\n",
              "      border-right-color: var(--fill-color);\n",
              "      border-top-color: var(--fill-color);\n",
              "    }\n",
              "    60% {\n",
              "      border-color: transparent;\n",
              "      border-right-color: var(--fill-color);\n",
              "    }\n",
              "    80% {\n",
              "      border-color: transparent;\n",
              "      border-right-color: var(--fill-color);\n",
              "      border-bottom-color: var(--fill-color);\n",
              "    }\n",
              "    90% {\n",
              "      border-color: transparent;\n",
              "      border-bottom-color: var(--fill-color);\n",
              "    }\n",
              "  }\n",
              "</style>\n",
              "\n",
              "  <script>\n",
              "    async function quickchart(key) {\n",
              "      const quickchartButtonEl =\n",
              "        document.querySelector('#' + key + ' button');\n",
              "      quickchartButtonEl.disabled = true;  // To prevent multiple clicks.\n",
              "      quickchartButtonEl.classList.add('colab-df-spinner');\n",
              "      try {\n",
              "        const charts = await google.colab.kernel.invokeFunction(\n",
              "            'suggestCharts', [key], {});\n",
              "      } catch (error) {\n",
              "        console.error('Error during call to suggestCharts:', error);\n",
              "      }\n",
              "      quickchartButtonEl.classList.remove('colab-df-spinner');\n",
              "      quickchartButtonEl.classList.add('colab-df-quickchart-complete');\n",
              "    }\n",
              "    (() => {\n",
              "      let quickchartButtonEl =\n",
              "        document.querySelector('#df-ad8eac19-8abc-41b3-8a9e-34304ec7813b button');\n",
              "      quickchartButtonEl.style.display =\n",
              "        google.colab.kernel.accessAllowed ? 'block' : 'none';\n",
              "    })();\n",
              "  </script>\n",
              "</div>\n",
              "\n",
              "    </div>\n",
              "  </div>\n"
            ],
            "application/vnd.google.colaboratory.intrinsic+json": {
              "type": "dataframe",
              "variable_name": "df",
              "summary": "{\n  \"name\": \"df\",\n  \"rows\": 19544,\n  \"fields\": [\n    {\n      \"column\": \"Question\",\n      \"properties\": {\n        \"dtype\": \"string\",\n        \"num_unique_values\": 19373,\n        \"samples\": [\n          \"Windhoek Namibia Accra Ghana\",\n          \"Nashville Tennessee Plano Texas\",\n          \"Vilnius Lithuania Zagreb Croatia\"\n        ],\n        \"semantic_type\": \"\",\n        \"description\": \"\"\n      }\n    },\n    {\n      \"column\": \"Category\",\n      \"properties\": {\n        \"dtype\": \"category\",\n        \"num_unique_values\": 2,\n        \"samples\": [\n          \"syntatic\",\n          \"semantic\"\n        ],\n        \"semantic_type\": \"\",\n        \"description\": \"\"\n      }\n    },\n    {\n      \"column\": \"SubCategory\",\n      \"properties\": {\n        \"dtype\": \"category\",\n        \"num_unique_values\": 14,\n        \"samples\": [\n          \": gram5-present-participle\",\n          \": gram7-past-tense\"\n        ],\n        \"semantic_type\": \"\",\n        \"description\": \"\"\n      }\n    }\n  ]\n}"
            }
          },
          "metadata": {},
          "execution_count": 13
        }
      ]
    },
    {
      "cell_type": "code",
      "source": [
        "df.to_csv(f\"{file_name}.csv\", index=False)"
      ],
      "metadata": {
        "id": "nMGvoDeiZhbp"
      },
      "execution_count": 14,
      "outputs": []
    },
    {
      "cell_type": "markdown",
      "source": [
        "## Part II: Use pre-trained word embeddings\n",
        "- After finish Part I, you can run Part II code blocks only."
      ],
      "metadata": {
        "id": "Zi2SNNuHWiZO"
      }
    },
    {
      "cell_type": "code",
      "source": [
        "import pandas as pd\n",
        "import numpy as np\n",
        "import gensim.downloader\n",
        "from tqdm import tqdm\n",
        "import matplotlib.pyplot as plt\n",
        "from sklearn.manifold import TSNE"
      ],
      "metadata": {
        "id": "yB4rpJymXiSN"
      },
      "execution_count": 17,
      "outputs": []
    },
    {
      "cell_type": "code",
      "source": [
        "data = pd.read_csv(\"questions-words.csv\")"
      ],
      "metadata": {
        "id": "-pGLoyKSHXuQ"
      },
      "execution_count": null,
      "outputs": []
    },
    {
      "cell_type": "code",
      "source": [
        "MODEL_NAME = \"glove-wiki-gigaword-100\"\n",
        "# You can try other models.\n",
        "# https://radimrehurek.com/gensim/models/word2vec.html#pretrained-models\n",
        "\n",
        "# Load the pre-trained model (using GloVe vectors here)\n",
        "model = gensim.downloader.load(MODEL_NAME)\n",
        "print(\"The Gensim model loaded successfully!\")"
      ],
      "metadata": {
        "id": "YWa_1hF3aZHO",
        "colab": {
          "base_uri": "https://localhost:8080/"
        },
        "outputId": "5d2e49f4-9880-442b-a742-1a346f152fa2"
      },
      "execution_count": null,
      "outputs": [
        {
          "output_type": "stream",
          "name": "stdout",
          "text": [
            "[==================================================] 100.0% 128.1/128.1MB downloaded\n",
            "The Gensim model loaded successfully!\n"
          ]
        }
      ]
    },
    {
      "cell_type": "code",
      "source": [
        "# Do predictions and preserve the gold answers (word_D)\n",
        "preds = []\n",
        "golds = []\n",
        "\n",
        "for analogy in tqdm(data[\"Question\"]):\n",
        "      # TODO2: Write your code here to use pre-trained word embeddings for getting predictions of the analogy task.\n",
        "      # You should also preserve the gold answers during iterations for evaluations later.\n",
        "      \"\"\" Hints\n",
        "      # Unpack the analogy (e.g., \"man\", \"woman\", \"king\", \"queen\")\n",
        "      # Perform vector arithmetic: word_b + word_c - word_a should be close to word_d\n",
        "      # Source: https://github.com/piskvorky/gensim/blob/develop/gensim/models/keyedvectors.py#L776\n",
        "      # Mikolov et al., 2013: big - biggest and small - smallest\n",
        "      # Mikolov et al., 2013: X = vector(”biggest”) − vector(”big”) + vector(”small”).\n",
        "      \"\"\"\n",
        "      word_a,word_b,word_c,word_d = analogy.lower().split()\n",
        "      vector = []\n",
        "\n",
        "      if word_a in model.key_to_index and word_b in model.key_to_index and word_c in model.key_to_index:\n",
        "        predicted = model[word_b] + model[word_c] - model[word_a]\n",
        "        predicted_word_d = model.most_similar(positive=[predicted], topn=1, restrict_vocab=None)[0][0]\n",
        "        preds.append(predicted_word_d)\n",
        "        golds.append(word_d)\n",
        "      else:\n",
        "        # If any word is not in the vocabulary, append a zero vector\n",
        "        preds.append(\"OOV\")\n",
        "        golds.append(word_d)\n",
        "\n"
      ],
      "metadata": {
        "id": "YTsqJcP1WSTH",
        "colab": {
          "base_uri": "https://localhost:8080/"
        },
        "outputId": "3a6676c7-e594-4eb0-e780-4971b3a0e4eb"
      },
      "execution_count": null,
      "outputs": [
        {
          "output_type": "stream",
          "name": "stderr",
          "text": [
            "100%|██████████| 19544/19544 [08:43<00:00, 37.34it/s]\n"
          ]
        }
      ]
    },
    {
      "cell_type": "code",
      "source": [
        "# Perform evaluations. You do not need to modify this block!!\n",
        "\n",
        "def calculate_accuracy(gold: np.ndarray, pred: np.ndarray) -> float:\n",
        "    return np.mean(gold == pred)\n",
        "\n",
        "golds_np, preds_np = np.array(golds), np.array(preds)\n",
        "data = pd.read_csv(\"questions-words.csv\")\n",
        "\n",
        "# Evaluation: categories\n",
        "for category in data[\"Category\"].unique():\n",
        "    mask = data[\"Category\"] == category\n",
        "    golds_cat, preds_cat = golds_np[mask], preds_np[mask]\n",
        "    acc_cat = calculate_accuracy(golds_cat, preds_cat)\n",
        "    print(f\"Category: {category}, Accuracy: {acc_cat * 100}%\")\n",
        "\n",
        "# Evaluation: sub-categories\n",
        "for sub_category in data[\"SubCategory\"].unique():\n",
        "    mask = data[\"SubCategory\"] == sub_category\n",
        "    golds_subcat, preds_subcat = golds_np[mask], preds_np[mask]\n",
        "    acc_subcat = calculate_accuracy(golds_subcat, preds_subcat)\n",
        "    print(f\"Sub-Category{sub_category}, Accuracy: {acc_subcat * 100}%\")"
      ],
      "metadata": {
        "id": "xG7vcPXAW6uT",
        "colab": {
          "base_uri": "https://localhost:8080/"
        },
        "outputId": "b96af788-89ba-4e71-e0e6-301a9ef11e28"
      },
      "execution_count": null,
      "outputs": [
        {
          "output_type": "stream",
          "name": "stdout",
          "text": [
            "Category: semantic, Accuracy: 44.58926222647375%\n",
            "Category: syntatic, Accuracy: 27.868705840264735%\n",
            "Sub-Category: capital-common-countries, Accuracy: 79.05138339920948%\n",
            "Sub-Category: capital-world, Accuracy: 65.42882404951371%\n",
            "Sub-Category: currency, Accuracy: 9.006928406466514%\n",
            "Sub-Category: city-in-state, Accuracy: 11.795703283340089%\n",
            "Sub-Category: family, Accuracy: 39.723320158102766%\n",
            "Sub-Category: gram1-adjective-to-adverb, Accuracy: 6.048387096774194%\n",
            "Sub-Category: gram2-opposite, Accuracy: 6.280788177339902%\n",
            "Sub-Category: gram3-comparative, Accuracy: 30.705705705705704%\n",
            "Sub-Category: gram4-superlative, Accuracy: 25.49019607843137%\n",
            "Sub-Category: gram5-present-participle, Accuracy: 13.446969696969695%\n",
            "Sub-Category: gram6-nationality-adjective, Accuracy: 86.55409631019387%\n",
            "Sub-Category: gram7-past-tense, Accuracy: 11.346153846153847%\n",
            "Sub-Category: gram8-plural, Accuracy: 15.54054054054054%\n",
            "Sub-Category: gram9-plural-verbs, Accuracy: 22.873563218390807%\n"
          ]
        }
      ]
    },
    {
      "cell_type": "markdown",
      "source": [
        "參考資料: [資料降維 — t-SNE 降維與視覺化\n",
        "](https://medium.com/data-science-navigator/%E8%B3%87%E6%96%99%E9%99%8D%E7%B6%AD-t-sne-%E9%99%8D%E7%B6%AD%E8%88%87%E8%A6%96%E8%A6%BA%E5%8C%96-36b4dcfc98d5)"
      ],
      "metadata": {
        "id": "LfUvugDkyLck"
      }
    },
    {
      "cell_type": "code",
      "source": [
        "# Collect words from Google Analogy dataset\n",
        "SUB_CATEGORY = \": family\"\n",
        "\n",
        "# TODO3: Plot t-SNE for the words in the SUB_CATEGORY `: family`\n",
        "\n",
        "family_df = df[df[\"SubCategory\"] == SUB_CATEGORY]\n",
        "family_questions = family_df[\"Question\"].tolist()\n",
        "\n",
        "#select unique words\n",
        "family_words = set()\n",
        "for analogy in family_questions:\n",
        "    word_a, word_b, word_c,word_d = analogy.lower().split()[:4]  #分割4個字\n",
        "    family_words.update([word_a, word_b, word_c, word_d])\n",
        "\n",
        "#過濾不再model中的字詞\n",
        "family_words = [word for word in family_words if word in model.key_to_index]\n",
        "\n",
        "#get embedding\n",
        "word_vectors = np.array([model[word] for word in family_words])\n",
        "\n",
        "# 劃出TSNE\n",
        "tsne = TSNE(n_components=2, random_state=42)\n",
        "word_vectors_2d = tsne.fit_transform(word_vectors)\n",
        "\n",
        "# 打印TSNE\n",
        "plt.figure(figsize=(10, 10))\n",
        "plt.scatter(word_vectors_2d[:, 0], word_vectors_2d[:, 1])\n",
        "\n",
        "# 標記每個點的屬性etc.he,she\n",
        "for i, word in enumerate(family_words):\n",
        "    plt.annotate(word, (word_vectors_2d[i, 0], word_vectors_2d[i, 1]))\n",
        "\n",
        "\n",
        "plt.title(\"Word Relationships from Google Analogy Task\")\n",
        "plt.show()\n",
        "plt.savefig(\"word_relationships.png\", bbox_inches=\"tight\")\n"
      ],
      "metadata": {
        "id": "7_z6CybBXKZu",
        "colab": {
          "base_uri": "https://localhost:8080/",
          "height": 367
        },
        "outputId": "9355804d-2090-4b7b-f778-e87b932f9988"
      },
      "execution_count": 28,
      "outputs": [
        {
          "output_type": "error",
          "ename": "AttributeError",
          "evalue": "'Word2Vec' object has no attribute 'key_to_index'",
          "traceback": [
            "\u001b[0;31m---------------------------------------------------------------------------\u001b[0m",
            "\u001b[0;31mAttributeError\u001b[0m                            Traceback (most recent call last)",
            "\u001b[0;32m<ipython-input-28-a0c56a2071a6>\u001b[0m in \u001b[0;36m<cell line: 16>\u001b[0;34m()\u001b[0m\n\u001b[1;32m     14\u001b[0m \u001b[0;34m\u001b[0m\u001b[0m\n\u001b[1;32m     15\u001b[0m \u001b[0;31m#過濾不再model中的字詞\u001b[0m\u001b[0;34m\u001b[0m\u001b[0;34m\u001b[0m\u001b[0m\n\u001b[0;32m---> 16\u001b[0;31m \u001b[0mfamily_words\u001b[0m \u001b[0;34m=\u001b[0m \u001b[0;34m[\u001b[0m\u001b[0mword\u001b[0m \u001b[0;32mfor\u001b[0m \u001b[0mword\u001b[0m \u001b[0;32min\u001b[0m \u001b[0mfamily_words\u001b[0m \u001b[0;32mif\u001b[0m \u001b[0mword\u001b[0m \u001b[0;32min\u001b[0m \u001b[0mmodel\u001b[0m\u001b[0;34m.\u001b[0m\u001b[0mkey_to_index\u001b[0m\u001b[0;34m]\u001b[0m\u001b[0;34m\u001b[0m\u001b[0;34m\u001b[0m\u001b[0m\n\u001b[0m\u001b[1;32m     17\u001b[0m \u001b[0;34m\u001b[0m\u001b[0m\n\u001b[1;32m     18\u001b[0m \u001b[0;31m#get embedding\u001b[0m\u001b[0;34m\u001b[0m\u001b[0;34m\u001b[0m\u001b[0m\n",
            "\u001b[0;32m<ipython-input-28-a0c56a2071a6>\u001b[0m in \u001b[0;36m<listcomp>\u001b[0;34m(.0)\u001b[0m\n\u001b[1;32m     14\u001b[0m \u001b[0;34m\u001b[0m\u001b[0m\n\u001b[1;32m     15\u001b[0m \u001b[0;31m#過濾不再model中的字詞\u001b[0m\u001b[0;34m\u001b[0m\u001b[0;34m\u001b[0m\u001b[0m\n\u001b[0;32m---> 16\u001b[0;31m \u001b[0mfamily_words\u001b[0m \u001b[0;34m=\u001b[0m \u001b[0;34m[\u001b[0m\u001b[0mword\u001b[0m \u001b[0;32mfor\u001b[0m \u001b[0mword\u001b[0m \u001b[0;32min\u001b[0m \u001b[0mfamily_words\u001b[0m \u001b[0;32mif\u001b[0m \u001b[0mword\u001b[0m \u001b[0;32min\u001b[0m \u001b[0mmodel\u001b[0m\u001b[0;34m.\u001b[0m\u001b[0mkey_to_index\u001b[0m\u001b[0;34m]\u001b[0m\u001b[0;34m\u001b[0m\u001b[0;34m\u001b[0m\u001b[0m\n\u001b[0m\u001b[1;32m     17\u001b[0m \u001b[0;34m\u001b[0m\u001b[0m\n\u001b[1;32m     18\u001b[0m \u001b[0;31m#get embedding\u001b[0m\u001b[0;34m\u001b[0m\u001b[0;34m\u001b[0m\u001b[0m\n",
            "\u001b[0;31mAttributeError\u001b[0m: 'Word2Vec' object has no attribute 'key_to_index'"
          ]
        }
      ]
    },
    {
      "cell_type": "markdown",
      "source": [
        "### Part III: Train your own word embeddings"
      ],
      "metadata": {
        "id": "DKRPJxgKXH4j"
      }
    },
    {
      "cell_type": "markdown",
      "source": [
        "### Get the latest English Wikipedia articles and do sampling.\n",
        "- Usually, we start from Wikipedia dump (https://dumps.wikimedia.org/enwiki/latest/enwiki-latest-pages-articles.xml.bz2). However, the downloading step will take very long. Also, the cleaning step for the Wikipedia corpus ([`gensim.corpora.wikicorpus.WikiCorpus`](https://radimrehurek.com/gensim/corpora/wikicorpus.html#gensim.corpora.wikicorpus.WikiCorpus)) will take much time. Therefore, we provide cleaned files for you."
      ],
      "metadata": {
        "id": "VC_0fE1UzL8T"
      }
    },
    {
      "cell_type": "code",
      "source": [
        "# Download the split Wikipedia files\n",
        "# Each file contain 562365 lines (articles).\n",
        "!gdown --id 1jiu9E1NalT2Y8EIuWNa1xf2Tw1f1XuGd -O wiki_texts_part_0.txt.gz\n",
        "!gdown --id 1ABblLRd9HXdXvaNv8H9fFq984bhnowoG -O wiki_texts_part_1.txt.gz\n",
        "!gdown --id 1z2VFNhpPvCejTP5zyejzKj5YjI_Bn42M -O wiki_texts_part_2.txt.gz\n",
        "!gdown --id 1VKjded9BxADRhIoCzXy_W8uzVOTWIf0g -O wiki_texts_part_3.txt.gz\n",
        "!gdown --id 16mBeG26m9LzHXdPe8UrijUIc6sHxhknz -O wiki_texts_part_4.txt.gz"
      ],
      "metadata": {
        "id": "FkubArwCCYxR",
        "colab": {
          "base_uri": "https://localhost:8080/"
        },
        "outputId": "d2befd81-4be4-4f99-dfca-10437061b389"
      },
      "execution_count": null,
      "outputs": [
        {
          "output_type": "stream",
          "name": "stdout",
          "text": [
            "/usr/local/lib/python3.10/dist-packages/gdown/__main__.py:140: FutureWarning: Option `--id` was deprecated in version 4.3.1 and will be removed in 5.0. You don't need to pass it anymore to use a file ID.\n",
            "  warnings.warn(\n",
            "Failed to retrieve file url:\n",
            "\n",
            "\tToo many users have viewed or downloaded this file recently. Please\n",
            "\ttry accessing the file again later. If the file you are trying to\n",
            "\taccess is particularly large or is shared with many people, it may\n",
            "\ttake up to 24 hours to be able to view or download the file. If you\n",
            "\tstill can't access a file after 24 hours, contact your domain\n",
            "\tadministrator.\n",
            "\n",
            "You may still be able to access the file from the browser:\n",
            "\n",
            "\thttps://drive.google.com/uc?id=1jiu9E1NalT2Y8EIuWNa1xf2Tw1f1XuGd\n",
            "\n",
            "but Gdown can't. Please check connections and permissions.\n",
            "/usr/local/lib/python3.10/dist-packages/gdown/__main__.py:140: FutureWarning: Option `--id` was deprecated in version 4.3.1 and will be removed in 5.0. You don't need to pass it anymore to use a file ID.\n",
            "  warnings.warn(\n",
            "Failed to retrieve file url:\n",
            "\n",
            "\tToo many users have viewed or downloaded this file recently. Please\n",
            "\ttry accessing the file again later. If the file you are trying to\n",
            "\taccess is particularly large or is shared with many people, it may\n",
            "\ttake up to 24 hours to be able to view or download the file. If you\n",
            "\tstill can't access a file after 24 hours, contact your domain\n",
            "\tadministrator.\n",
            "\n",
            "You may still be able to access the file from the browser:\n",
            "\n",
            "\thttps://drive.google.com/uc?id=1ABblLRd9HXdXvaNv8H9fFq984bhnowoG\n",
            "\n",
            "but Gdown can't. Please check connections and permissions.\n",
            "/usr/local/lib/python3.10/dist-packages/gdown/__main__.py:140: FutureWarning: Option `--id` was deprecated in version 4.3.1 and will be removed in 5.0. You don't need to pass it anymore to use a file ID.\n",
            "  warnings.warn(\n",
            "Failed to retrieve file url:\n",
            "\n",
            "\tToo many users have viewed or downloaded this file recently. Please\n",
            "\ttry accessing the file again later. If the file you are trying to\n",
            "\taccess is particularly large or is shared with many people, it may\n",
            "\ttake up to 24 hours to be able to view or download the file. If you\n",
            "\tstill can't access a file after 24 hours, contact your domain\n",
            "\tadministrator.\n",
            "\n",
            "You may still be able to access the file from the browser:\n",
            "\n",
            "\thttps://drive.google.com/uc?id=1z2VFNhpPvCejTP5zyejzKj5YjI_Bn42M\n",
            "\n",
            "but Gdown can't. Please check connections and permissions.\n",
            "/usr/local/lib/python3.10/dist-packages/gdown/__main__.py:140: FutureWarning: Option `--id` was deprecated in version 4.3.1 and will be removed in 5.0. You don't need to pass it anymore to use a file ID.\n",
            "  warnings.warn(\n",
            "Failed to retrieve file url:\n",
            "\n",
            "\tToo many users have viewed or downloaded this file recently. Please\n",
            "\ttry accessing the file again later. If the file you are trying to\n",
            "\taccess is particularly large or is shared with many people, it may\n",
            "\ttake up to 24 hours to be able to view or download the file. If you\n",
            "\tstill can't access a file after 24 hours, contact your domain\n",
            "\tadministrator.\n",
            "\n",
            "You may still be able to access the file from the browser:\n",
            "\n",
            "\thttps://drive.google.com/uc?id=1VKjded9BxADRhIoCzXy_W8uzVOTWIf0g\n",
            "\n",
            "but Gdown can't. Please check connections and permissions.\n",
            "/usr/local/lib/python3.10/dist-packages/gdown/__main__.py:140: FutureWarning: Option `--id` was deprecated in version 4.3.1 and will be removed in 5.0. You don't need to pass it anymore to use a file ID.\n",
            "  warnings.warn(\n",
            "Failed to retrieve file url:\n",
            "\n",
            "\tToo many users have viewed or downloaded this file recently. Please\n",
            "\ttry accessing the file again later. If the file you are trying to\n",
            "\taccess is particularly large or is shared with many people, it may\n",
            "\ttake up to 24 hours to be able to view or download the file. If you\n",
            "\tstill can't access a file after 24 hours, contact your domain\n",
            "\tadministrator.\n",
            "\n",
            "You may still be able to access the file from the browser:\n",
            "\n",
            "\thttps://drive.google.com/uc?id=16mBeG26m9LzHXdPe8UrijUIc6sHxhknz\n",
            "\n",
            "but Gdown can't. Please check connections and permissions.\n"
          ]
        }
      ]
    },
    {
      "cell_type": "code",
      "source": [
        "# Download the split Wikipedia files\n",
        "# Each file contain 562365 lines (articles), except the last file.\n",
        "!gdown --id 17JFvxOH-kc-VmvGkhG7p3iSZSpsWdgJI -O wiki_texts_part_5.txt.gz\n",
        "!gdown --id 19IvB2vOJRGlrYulnTXlZECR8zT5v550P -O wiki_texts_part_6.txt.gz\n",
        "!gdown --id 1sjwO8A2SDOKruv6-8NEq7pEIuQ50ygVV -O wiki_texts_part_7.txt.gz\n",
        "!gdown --id 1s7xKWJmyk98Jbq6Fi1scrHy7fr_ellUX -O wiki_texts_part_8.txt.gz\n",
        "!gdown --id 17eQXcrvY1cfpKelLbP2BhQKrljnFNykr -O wiki_texts_part_9.txt.gz\n",
        "!gdown --id 1J5TAN6bNBiSgTIYiPwzmABvGhAF58h62 -O wiki_texts_part_10.txt.gz"
      ],
      "metadata": {
        "id": "8S3ibNT3C8Xk",
        "colab": {
          "base_uri": "https://localhost:8080/"
        },
        "outputId": "468062c5-dee3-4569-db74-d42e9ddd038d"
      },
      "execution_count": null,
      "outputs": [
        {
          "output_type": "stream",
          "name": "stdout",
          "text": [
            "/usr/local/lib/python3.10/dist-packages/gdown/__main__.py:140: FutureWarning: Option `--id` was deprecated in version 4.3.1 and will be removed in 5.0. You don't need to pass it anymore to use a file ID.\n",
            "  warnings.warn(\n",
            "Failed to retrieve file url:\n",
            "\n",
            "\tToo many users have viewed or downloaded this file recently. Please\n",
            "\ttry accessing the file again later. If the file you are trying to\n",
            "\taccess is particularly large or is shared with many people, it may\n",
            "\ttake up to 24 hours to be able to view or download the file. If you\n",
            "\tstill can't access a file after 24 hours, contact your domain\n",
            "\tadministrator.\n",
            "\n",
            "You may still be able to access the file from the browser:\n",
            "\n",
            "\thttps://drive.google.com/uc?id=17JFvxOH-kc-VmvGkhG7p3iSZSpsWdgJI\n",
            "\n",
            "but Gdown can't. Please check connections and permissions.\n",
            "/usr/local/lib/python3.10/dist-packages/gdown/__main__.py:140: FutureWarning: Option `--id` was deprecated in version 4.3.1 and will be removed in 5.0. You don't need to pass it anymore to use a file ID.\n",
            "  warnings.warn(\n",
            "Failed to retrieve file url:\n",
            "\n",
            "\tToo many users have viewed or downloaded this file recently. Please\n",
            "\ttry accessing the file again later. If the file you are trying to\n",
            "\taccess is particularly large or is shared with many people, it may\n",
            "\ttake up to 24 hours to be able to view or download the file. If you\n",
            "\tstill can't access a file after 24 hours, contact your domain\n",
            "\tadministrator.\n",
            "\n",
            "You may still be able to access the file from the browser:\n",
            "\n",
            "\thttps://drive.google.com/uc?id=19IvB2vOJRGlrYulnTXlZECR8zT5v550P\n",
            "\n",
            "but Gdown can't. Please check connections and permissions.\n",
            "/usr/local/lib/python3.10/dist-packages/gdown/__main__.py:140: FutureWarning: Option `--id` was deprecated in version 4.3.1 and will be removed in 5.0. You don't need to pass it anymore to use a file ID.\n",
            "  warnings.warn(\n",
            "Failed to retrieve file url:\n",
            "\n",
            "\tToo many users have viewed or downloaded this file recently. Please\n",
            "\ttry accessing the file again later. If the file you are trying to\n",
            "\taccess is particularly large or is shared with many people, it may\n",
            "\ttake up to 24 hours to be able to view or download the file. If you\n",
            "\tstill can't access a file after 24 hours, contact your domain\n",
            "\tadministrator.\n",
            "\n",
            "You may still be able to access the file from the browser:\n",
            "\n",
            "\thttps://drive.google.com/uc?id=1sjwO8A2SDOKruv6-8NEq7pEIuQ50ygVV\n",
            "\n",
            "but Gdown can't. Please check connections and permissions.\n",
            "/usr/local/lib/python3.10/dist-packages/gdown/__main__.py:140: FutureWarning: Option `--id` was deprecated in version 4.3.1 and will be removed in 5.0. You don't need to pass it anymore to use a file ID.\n",
            "  warnings.warn(\n",
            "Failed to retrieve file url:\n",
            "\n",
            "\tToo many users have viewed or downloaded this file recently. Please\n",
            "\ttry accessing the file again later. If the file you are trying to\n",
            "\taccess is particularly large or is shared with many people, it may\n",
            "\ttake up to 24 hours to be able to view or download the file. If you\n",
            "\tstill can't access a file after 24 hours, contact your domain\n",
            "\tadministrator.\n",
            "\n",
            "You may still be able to access the file from the browser:\n",
            "\n",
            "\thttps://drive.google.com/uc?id=1s7xKWJmyk98Jbq6Fi1scrHy7fr_ellUX\n",
            "\n",
            "but Gdown can't. Please check connections and permissions.\n",
            "/usr/local/lib/python3.10/dist-packages/gdown/__main__.py:140: FutureWarning: Option `--id` was deprecated in version 4.3.1 and will be removed in 5.0. You don't need to pass it anymore to use a file ID.\n",
            "  warnings.warn(\n",
            "Failed to retrieve file url:\n",
            "\n",
            "\tToo many users have viewed or downloaded this file recently. Please\n",
            "\ttry accessing the file again later. If the file you are trying to\n",
            "\taccess is particularly large or is shared with many people, it may\n",
            "\ttake up to 24 hours to be able to view or download the file. If you\n",
            "\tstill can't access a file after 24 hours, contact your domain\n",
            "\tadministrator.\n",
            "\n",
            "You may still be able to access the file from the browser:\n",
            "\n",
            "\thttps://drive.google.com/uc?id=17eQXcrvY1cfpKelLbP2BhQKrljnFNykr\n",
            "\n",
            "but Gdown can't. Please check connections and permissions.\n",
            "/usr/local/lib/python3.10/dist-packages/gdown/__main__.py:140: FutureWarning: Option `--id` was deprecated in version 4.3.1 and will be removed in 5.0. You don't need to pass it anymore to use a file ID.\n",
            "  warnings.warn(\n",
            "Downloading...\n",
            "From: https://drive.google.com/uc?id=1J5TAN6bNBiSgTIYiPwzmABvGhAF58h62\n",
            "To: /content/wiki_texts_part_10.txt.gz\n",
            "100% 2.82k/2.82k [00:00<00:00, 5.72MB/s]\n"
          ]
        }
      ]
    },
    {
      "cell_type": "code",
      "source": [
        "# Extract the downloaded wiki_texts_parts files.\n",
        "!gunzip -k wiki_texts_part_*.gz"
      ],
      "metadata": {
        "id": "DUg_c79BC7OL"
      },
      "execution_count": null,
      "outputs": []
    },
    {
      "cell_type": "code",
      "source": [
        "# Combine the extracted wiki_texts_parts files.\n",
        "!cat wiki_texts_part_*.txt > wiki_texts_combined.txt"
      ],
      "metadata": {
        "id": "7duk2RbYDB02"
      },
      "execution_count": null,
      "outputs": []
    },
    {
      "cell_type": "code",
      "source": [
        "# Check the first ten lines of the combined file\n",
        "!head -n 10 wiki_texts_combined.txt"
      ],
      "metadata": {
        "id": "givLH7NrDs6X",
        "colab": {
          "base_uri": "https://localhost:8080/"
        },
        "outputId": "21809e2b-23ed-4285-cef2-495d52a830f9"
      },
      "execution_count": null,
      "outputs": [
        {
          "output_type": "stream",
          "name": "stdout",
          "text": [
            "race through the skies the week the world learned to fly is non fiction children book by american writer and historian martin sandler the book focuses on single week in august that introduced aviation to the world the week of an early air show and competition in reims like sandler other books race through the skies includes contemporary photographs newspaper clippings and posters alongside the text as well as detailed information about key characters in the book including the wright brothers glenn curtiss jorge chávez and louis blériot race through the skies was generally well received by critics with some criticisms kirkus reviews described it fascinating eminently entertaining and sometimes frustrating they highlighted how the races are presented in thrilling detail and clearly placed in the context of the history of early aviation publishers weekly indicated that the firsthand accounts will enthrall young aviation enthusiasts school library journal bob hassett similarly wrote this captivating nonfiction read will appeal to anyone interested in the history of flight inventions or thrill sports however publishers found that the book use of sophisticated text and french terminology some of which is untranslated may make this challenging read kirkus reviews similarly discussed how in the midst of excellence numerous additional topics all about two pages long are wedged in nearly always interrupting the narrative midsentence which they describe as an annoying design flaw in this otherwise fine work race through the skies is junior library guild book and was nominated for the yalsa award for excellence in nonfiction references\n",
            "village keeper is canadian drama film directed by karen chapman and slated for release in the film stars oluniké adeliyi as jean black canadian widow living in the lawrence heights community of toronto where she tries to protect her children tamika zahra bentham and tristin micah mensah jatoe from neighbourhood violence the cast also includes maxine simpson as jean mother as well as oyin oladejo bi young anitafrika ethan burnett shiloh reilly noah zulfikar ricardo betancourt sweeney mark sparks gordon fulton zara mclean jael obasi and mekeylah minott in supporting roles chapman feature directorial debut it entered production in summer in toronto the film is slated to premiere in the discovery program at the toronto international film festival references external links\n",
            "lizzie bea is british actress and singer she is best known for playing sister mary robert in sister act and tracy turnblad in hairspray early life and education bea trained at the national youth theatre career musical theatre in september bea joined the cast of the world premiere of the musical becoming nancy playing at the alliance theatre atlanta georgia the show was directed by jerry mitchell and has music and lyrics by stiles and drewe bea made her west end debut in hairspray at the london palladium in the leading role of tracy turnblad the show was due to open in and was postponed to april due to the covid pandemic the show also starred michael ball reprising the role of edna turnblad marisha wallace as motormouth maybelle les dennis as wilbur turnblad and rita simons as velma von tussle in bea took on the role of martha dunnstock in heathers the musical at the other palace in london bea was announced as playing the role of sister mary robert in the west end revival of the musical sister act the part of deloris was initially played by beverley knight from mar to jun and then by alexandra burke until the end of the run in late august other notable cast members were ruth jones as mother superior lesley joseph as sister mary lazarus and singer lemar as curtis jackson theatre credits year title role venue fat friends the musical kelly betty val uk tour kinky boots pat uk tour becoming nancy abigail henson alliance theatre atlanta us hairspray tracy turnblad london coliseum heathers martha dunnstock the other palace sister act sister mary robert london and uk tour references external links sister act the musical official website\n",
            "rand jr rufus randall rand jr may october was an american businessman military officer and politician who served as the first mayor of wayzata minnesota in the he was the maternal grandfather of sheldon whitehouse united states senator from rhode island biography rand was born into the family that built rand house and was grandson of state senator tobias mealey and arthur rand once mayor of minneapolis he served as an aviator during world war flying for lafayette escadrille he was the president of the minneapolis gas company during the he entered politics and served as mayor of wayzata and built rand tower which is now marriot hotel he also built the rufus rand house at still pond square foot room mansion in for and sold it to cargill in references\n",
            "kevin kopacka is an austrian sri lankan filmmaker and painter best known for writing and directing the horror film dawn breaks behind the eyes early life kopacka grew up in graz austria as the son of austrian journalist and writer werner kopacka and ramani kopacka from sri lanka kopacka has lived in berlin germany since where he completed his studies in fine arts at the berlin university of the arts as master student in the class of japanese artist leiko ikemura in kopacka was named one of the top groundbreaking artists under by the us trade magazine art business news he has exhibited his art in germany austria switzerland northern ireland france and the usa film career after graduating from university kopacka started working on short films his first short film hades about woman stuck in an endless dream in which she has to cross the five rivers of hades and its sequel tlmea about drug raid that descends down the nine levels of hell made splash at the festival circuit and were already testament to kopacka distinct visual style kopacka made his directorial debut in with the gothic horror film dawn breaks behind the eyes which premiered at frightfest in the film was success and won several awards in august variety announced out of the locarno film festival that kopacka was developing his next feature film titled all the world drops dead co production between germany and spain references\n"
          ]
        }
      ]
    },
    {
      "cell_type": "markdown",
      "source": [
        "Please note that we used the default parameters of [`gensim.corpora.wikicorpus.WikiCorpus`](https://radimrehurek.com/gensim/corpora/wikicorpus.html#gensim.corpora.wikicorpus.WikiCorpus) for cleaning the Wiki raw file. Thus, words with one character were discarded."
      ],
      "metadata": {
        "id": "Hfwx92QCEhrq"
      }
    },
    {
      "cell_type": "code",
      "source": [
        "# Now you need to do sampling because the corpus is too big.\n",
        "# You can further perform analysis with a greater sampling ratio.\n",
        "\n",
        "import random\n",
        "\n",
        "wiki_txt_path = \"wiki_texts_combined.txt\"\n",
        "output_path = \"wiki_texts_sampled.txt\"\n",
        "# wiki_texts_combined.txt is a text file separated by linebreaks (\\n).\n",
        "# Each row in wiki_texts_combined.txt indicates a Wikipedia article.\n",
        "\n",
        "rate = 0.2 #samplin rate\n",
        "\n",
        "with open(wiki_txt_path, \"r\", encoding=\"utf-8\") as f:\n",
        "    with open(output_path, \"w\", encoding=\"utf-8\") as output_file:\n",
        "    # TODO4: Sample `20%` Wikipedia articles\n",
        "    # Write your code here\n",
        "        for line in f:\n",
        "            if random.random() < rate:\n",
        "                output_file.write(line)"
      ],
      "metadata": {
        "id": "vUAzButoP03w"
      },
      "execution_count": null,
      "outputs": []
    },
    {
      "cell_type": "code",
      "source": [
        "from google.colab import drive\n",
        "drive.mount('/content/drive')"
      ],
      "metadata": {
        "id": "jURlTNeqfcjm",
        "outputId": "8cd6604c-5b5c-4a48-eed6-980c9c0f0ce0",
        "colab": {
          "base_uri": "https://localhost:8080/"
        }
      },
      "execution_count": null,
      "outputs": [
        {
          "output_type": "stream",
          "name": "stdout",
          "text": [
            "Mounted at /content/drive\n"
          ]
        }
      ]
    },
    {
      "cell_type": "code",
      "source": [
        "import re\n",
        "import nltk\n",
        "from nltk.corpus import stopwords\n",
        "from nltk.tokenize import word_tokenize\n",
        "from concurrent.futures import ProcessPoolExecutor\n",
        "\n",
        "# Download NLTK resources if not already available\n",
        "nltk.download('punkt')\n",
        "nltk.download('stopwords')\n",
        "\n",
        "# Initialize stop words\n",
        "stop_words = set(stopwords.words('english'))\n",
        "\n",
        "# Function to preprocess text by removing stop words and non-English characters\n",
        "def preprocess_text(text):\n",
        "    # Convert to lowercase\n",
        "    text = text.lower()\n",
        "\n",
        "    # Remove non-English characters (retain only A-Z, a-z, and spaces)\n",
        "    text = re.sub(r'[^a-z\\s]', '', text)\n",
        "\n",
        "    # Tokenize the text\n",
        "    words = word_tokenize(text)\n",
        "\n",
        "    # Remove stopwords\n",
        "    words = [word for word in words if word not in stop_words]\n",
        "\n",
        "    return ' '.join(words)\n",
        "\n",
        "# Function to preprocess a chunk of lines\n",
        "def process_chunk(lines):\n",
        "    return [preprocess_text(line) for line in lines]\n",
        "\n",
        "# Main function to read, preprocess, and write in chunks with parallel processing\n",
        "def preprocess_large_file(input_file, output_file, chunk_size=1000):\n",
        "    with open(input_file, \"r\", encoding=\"utf-8\") as infile, open(output_file, \"w\", encoding=\"utf-8\") as outfile:\n",
        "        while True:\n",
        "            # Read a chunk of lines\n",
        "            lines = infile.readlines(chunk_size)\n",
        "            if not lines:\n",
        "                break\n",
        "\n",
        "            # Use ProcessPoolExecutor for parallel processing of chunks\n",
        "            with ProcessPoolExecutor() as executor:\n",
        "                # Process chunks in parallel\n",
        "                preprocessed_lines = list(executor.map(preprocess_text, lines))\n",
        "\n",
        "            # Write the preprocessed lines to the output file\n",
        "            outfile.write('\\n'.join(preprocessed_lines) + '\\n')\n",
        "\n",
        "    print(\"Preprocessing completed!\")\n",
        "\n",
        "# Input and output file paths\n",
        "input_file = \"/content/drive/MyDrive/wiki_texts_sampled.txt\"\n",
        "output_file = \"preprocessed_wiki_texts.txt\"\n",
        "\n",
        "# Call the function with the desired chunk size\n",
        "preprocess_large_file(input_file, output_file, chunk_size=1000)\n"
      ],
      "metadata": {
        "colab": {
          "base_uri": "https://localhost:8080/",
          "height": 391
        },
        "id": "oaeTL7P1uQO6",
        "outputId": "c99a3891-4157-4fca-ab3d-5647b176e8be"
      },
      "execution_count": 1,
      "outputs": [
        {
          "metadata": {
            "tags": null
          },
          "name": "stderr",
          "output_type": "stream",
          "text": [
            "[nltk_data] Downloading package punkt to /root/nltk_data...\n",
            "[nltk_data]   Package punkt is already up-to-date!\n",
            "[nltk_data] Downloading package stopwords to /root/nltk_data...\n",
            "[nltk_data]   Package stopwords is already up-to-date!\n"
          ]
        },
        {
          "output_type": "error",
          "ename": "KeyboardInterrupt",
          "evalue": "",
          "traceback": [
            "\u001b[0;31m---------------------------------------------------------------------------\u001b[0m",
            "\u001b[0;31mKeyboardInterrupt\u001b[0m                         Traceback (most recent call last)",
            "\u001b[0;32m<ipython-input-1-b5158357d67a>\u001b[0m in \u001b[0;36m<cell line: 58>\u001b[0;34m()\u001b[0m\n\u001b[1;32m     56\u001b[0m \u001b[0;34m\u001b[0m\u001b[0m\n\u001b[1;32m     57\u001b[0m \u001b[0;31m# Call the function with the desired chunk size\u001b[0m\u001b[0;34m\u001b[0m\u001b[0;34m\u001b[0m\u001b[0m\n\u001b[0;32m---> 58\u001b[0;31m \u001b[0mpreprocess_large_file\u001b[0m\u001b[0;34m(\u001b[0m\u001b[0minput_file\u001b[0m\u001b[0;34m,\u001b[0m \u001b[0moutput_file\u001b[0m\u001b[0;34m,\u001b[0m \u001b[0mchunk_size\u001b[0m\u001b[0;34m=\u001b[0m\u001b[0;36m1000\u001b[0m\u001b[0;34m)\u001b[0m\u001b[0;34m\u001b[0m\u001b[0;34m\u001b[0m\u001b[0m\n\u001b[0m",
            "\u001b[0;32m<ipython-input-1-b5158357d67a>\u001b[0m in \u001b[0;36mpreprocess_large_file\u001b[0;34m(input_file, output_file, chunk_size)\u001b[0m\n\u001b[1;32m     42\u001b[0m \u001b[0;34m\u001b[0m\u001b[0m\n\u001b[1;32m     43\u001b[0m             \u001b[0;31m# Use ProcessPoolExecutor for parallel processing of chunks\u001b[0m\u001b[0;34m\u001b[0m\u001b[0;34m\u001b[0m\u001b[0m\n\u001b[0;32m---> 44\u001b[0;31m             \u001b[0;32mwith\u001b[0m \u001b[0mProcessPoolExecutor\u001b[0m\u001b[0;34m(\u001b[0m\u001b[0;34m)\u001b[0m \u001b[0;32mas\u001b[0m \u001b[0mexecutor\u001b[0m\u001b[0;34m:\u001b[0m\u001b[0;34m\u001b[0m\u001b[0;34m\u001b[0m\u001b[0m\n\u001b[0m\u001b[1;32m     45\u001b[0m                 \u001b[0;31m# Process chunks in parallel\u001b[0m\u001b[0;34m\u001b[0m\u001b[0;34m\u001b[0m\u001b[0m\n\u001b[1;32m     46\u001b[0m                 \u001b[0mpreprocessed_lines\u001b[0m \u001b[0;34m=\u001b[0m \u001b[0mlist\u001b[0m\u001b[0;34m(\u001b[0m\u001b[0mexecutor\u001b[0m\u001b[0;34m.\u001b[0m\u001b[0mmap\u001b[0m\u001b[0;34m(\u001b[0m\u001b[0mpreprocess_text\u001b[0m\u001b[0;34m,\u001b[0m \u001b[0mlines\u001b[0m\u001b[0;34m)\u001b[0m\u001b[0;34m)\u001b[0m\u001b[0;34m\u001b[0m\u001b[0;34m\u001b[0m\u001b[0m\n",
            "\u001b[0;32m/usr/lib/python3.10/concurrent/futures/_base.py\u001b[0m in \u001b[0;36m__exit__\u001b[0;34m(self, exc_type, exc_val, exc_tb)\u001b[0m\n\u001b[1;32m    647\u001b[0m \u001b[0;34m\u001b[0m\u001b[0m\n\u001b[1;32m    648\u001b[0m     \u001b[0;32mdef\u001b[0m \u001b[0m__exit__\u001b[0m\u001b[0;34m(\u001b[0m\u001b[0mself\u001b[0m\u001b[0;34m,\u001b[0m \u001b[0mexc_type\u001b[0m\u001b[0;34m,\u001b[0m \u001b[0mexc_val\u001b[0m\u001b[0;34m,\u001b[0m \u001b[0mexc_tb\u001b[0m\u001b[0;34m)\u001b[0m\u001b[0;34m:\u001b[0m\u001b[0;34m\u001b[0m\u001b[0;34m\u001b[0m\u001b[0m\n\u001b[0;32m--> 649\u001b[0;31m         \u001b[0mself\u001b[0m\u001b[0;34m.\u001b[0m\u001b[0mshutdown\u001b[0m\u001b[0;34m(\u001b[0m\u001b[0mwait\u001b[0m\u001b[0;34m=\u001b[0m\u001b[0;32mTrue\u001b[0m\u001b[0;34m)\u001b[0m\u001b[0;34m\u001b[0m\u001b[0;34m\u001b[0m\u001b[0m\n\u001b[0m\u001b[1;32m    650\u001b[0m         \u001b[0;32mreturn\u001b[0m \u001b[0;32mFalse\u001b[0m\u001b[0;34m\u001b[0m\u001b[0;34m\u001b[0m\u001b[0m\n\u001b[1;32m    651\u001b[0m \u001b[0;34m\u001b[0m\u001b[0m\n",
            "\u001b[0;32m/usr/lib/python3.10/concurrent/futures/process.py\u001b[0m in \u001b[0;36mshutdown\u001b[0;34m(self, wait, cancel_futures)\u001b[0m\n\u001b[1;32m    778\u001b[0m \u001b[0;34m\u001b[0m\u001b[0m\n\u001b[1;32m    779\u001b[0m         \u001b[0;32mif\u001b[0m \u001b[0mself\u001b[0m\u001b[0;34m.\u001b[0m\u001b[0m_executor_manager_thread\u001b[0m \u001b[0;32mis\u001b[0m \u001b[0;32mnot\u001b[0m \u001b[0;32mNone\u001b[0m \u001b[0;32mand\u001b[0m \u001b[0mwait\u001b[0m\u001b[0;34m:\u001b[0m\u001b[0;34m\u001b[0m\u001b[0;34m\u001b[0m\u001b[0m\n\u001b[0;32m--> 780\u001b[0;31m             \u001b[0mself\u001b[0m\u001b[0;34m.\u001b[0m\u001b[0m_executor_manager_thread\u001b[0m\u001b[0;34m.\u001b[0m\u001b[0mjoin\u001b[0m\u001b[0;34m(\u001b[0m\u001b[0;34m)\u001b[0m\u001b[0;34m\u001b[0m\u001b[0;34m\u001b[0m\u001b[0m\n\u001b[0m\u001b[1;32m    781\u001b[0m         \u001b[0;31m# To reduce the risk of opening too many files, remove references to\u001b[0m\u001b[0;34m\u001b[0m\u001b[0;34m\u001b[0m\u001b[0m\n\u001b[1;32m    782\u001b[0m         \u001b[0;31m# objects that use file descriptors.\u001b[0m\u001b[0;34m\u001b[0m\u001b[0;34m\u001b[0m\u001b[0m\n",
            "\u001b[0;32m/usr/lib/python3.10/threading.py\u001b[0m in \u001b[0;36mjoin\u001b[0;34m(self, timeout)\u001b[0m\n\u001b[1;32m   1094\u001b[0m \u001b[0;34m\u001b[0m\u001b[0m\n\u001b[1;32m   1095\u001b[0m         \u001b[0;32mif\u001b[0m \u001b[0mtimeout\u001b[0m \u001b[0;32mis\u001b[0m \u001b[0;32mNone\u001b[0m\u001b[0;34m:\u001b[0m\u001b[0;34m\u001b[0m\u001b[0;34m\u001b[0m\u001b[0m\n\u001b[0;32m-> 1096\u001b[0;31m             \u001b[0mself\u001b[0m\u001b[0;34m.\u001b[0m\u001b[0m_wait_for_tstate_lock\u001b[0m\u001b[0;34m(\u001b[0m\u001b[0;34m)\u001b[0m\u001b[0;34m\u001b[0m\u001b[0;34m\u001b[0m\u001b[0m\n\u001b[0m\u001b[1;32m   1097\u001b[0m         \u001b[0;32melse\u001b[0m\u001b[0;34m:\u001b[0m\u001b[0;34m\u001b[0m\u001b[0;34m\u001b[0m\u001b[0m\n\u001b[1;32m   1098\u001b[0m             \u001b[0;31m# the behavior of a negative timeout isn't documented, but\u001b[0m\u001b[0;34m\u001b[0m\u001b[0;34m\u001b[0m\u001b[0m\n",
            "\u001b[0;32m/usr/lib/python3.10/threading.py\u001b[0m in \u001b[0;36m_wait_for_tstate_lock\u001b[0;34m(self, block, timeout)\u001b[0m\n\u001b[1;32m   1114\u001b[0m \u001b[0;34m\u001b[0m\u001b[0m\n\u001b[1;32m   1115\u001b[0m         \u001b[0;32mtry\u001b[0m\u001b[0;34m:\u001b[0m\u001b[0;34m\u001b[0m\u001b[0;34m\u001b[0m\u001b[0m\n\u001b[0;32m-> 1116\u001b[0;31m             \u001b[0;32mif\u001b[0m \u001b[0mlock\u001b[0m\u001b[0;34m.\u001b[0m\u001b[0macquire\u001b[0m\u001b[0;34m(\u001b[0m\u001b[0mblock\u001b[0m\u001b[0;34m,\u001b[0m \u001b[0mtimeout\u001b[0m\u001b[0;34m)\u001b[0m\u001b[0;34m:\u001b[0m\u001b[0;34m\u001b[0m\u001b[0;34m\u001b[0m\u001b[0m\n\u001b[0m\u001b[1;32m   1117\u001b[0m                 \u001b[0mlock\u001b[0m\u001b[0;34m.\u001b[0m\u001b[0mrelease\u001b[0m\u001b[0;34m(\u001b[0m\u001b[0;34m)\u001b[0m\u001b[0;34m\u001b[0m\u001b[0;34m\u001b[0m\u001b[0m\n\u001b[1;32m   1118\u001b[0m                 \u001b[0mself\u001b[0m\u001b[0;34m.\u001b[0m\u001b[0m_stop\u001b[0m\u001b[0;34m(\u001b[0m\u001b[0;34m)\u001b[0m\u001b[0;34m\u001b[0m\u001b[0;34m\u001b[0m\u001b[0m\n",
            "\u001b[0;31mKeyboardInterrupt\u001b[0m: "
          ]
        }
      ]
    },
    {
      "cell_type": "code",
      "source": [
        "#check the preprocess result\n",
        "!head -n 5 preprocessed_wiki_texts.txt\n"
      ],
      "metadata": {
        "colab": {
          "base_uri": "https://localhost:8080/"
        },
        "id": "W3WdbF0l0GTh",
        "outputId": "77e367bb-6578-4a97-d0f0-c70e2d867e01"
      },
      "execution_count": 3,
      "outputs": [
        {
          "output_type": "stream",
          "name": "stdout",
          "text": [
            "aristotle aristotls bc ancient greek philosopher polymath writings cover broad range subjects spanning natural sciences philosophy linguistics economics politics psychology arts founder peripatetic school philosophy lyceum athens began wider aristotelian tradition followed set groundwork development modern science little known aristotle life born city stagira northern greece classical period father nicomachus died aristotle child brought guardian joined plato academy athens remained age shortly plato died aristotle left athens request philip ii macedon tutored son alexander great beginning bc established library lyceum helped produce many hundreds books papyrus scrolls though aristotle wrote many treatises dialogues publication around third original output survived none intended publication aristotle provided complex synthesis various philosophies existing prior teachings methods inquiry significant impact across world remain subject contemporary philosophical discussion aristotle views profoundly shaped medieval scholarship influence physical science extended late antiquity early middle ages renaissance replaced systematically enlightenment theories classical mechanics developed influenced judeo islamic philosophies middle ages well christian theology especially neoplatonism early church scholastic tradition catholic church aristotle revered among medieval muslim scholars first teacher among medieval christians like thomas aquinas simply philosopher poet dante called master know works contain earliest known formal study logic studied medieval scholars peter abelard jean buridan aristotle influence logic continued well th century addition ethics although always influential gained renewed interest modern advent virtue ethics life general details aristotle life well established biographies written ancient times often speculative historians agree salient points aristotle born bc stagira chalcidice km miles east modern day thessaloniki father nicomachus personal physician king amyntas macedon young aristotle learned biology medical information taught father aristotle parents died thirteen proxenus atarneus became guardian although little information aristotle childhood survived probably spent time within macedonian palace making first connections macedonian monarchy mieza macedonia greece age seventeen eighteen aristotle moved athens continue education plato academy probably experienced eleusinian mysteries wrote describing sights one viewed eleusinian mysteries experience learn aristotle remained athens nearly twenty years leaving bc traditional story departure records disappointed academy direction control passed plato nephew speusippus although possible feared anti macedonian sentiments athens time left plato died aristotle accompanied xenocrates court friend hermias atarneus asia minor death hermias aristotle travelled pupil theophrastus island lesbos together researched botany zoology island sheltered lagoon lesbos aristotle married pythias either hermias adoptive daughter niece daughter also named pythias bc aristotle invited philip ii macedon become tutor son alexander aristotle tutoring alexander jean leon gerome ferris aristotle appointed head royal academy macedon aristotle time macedonian court gave lessons alexander also two future kings ptolemy cassander aristotle encouraged alexander toward eastern conquest aristotle attitude towards persia unabashedly ethnocentric one famous example counsels alexander leader greeks despot barbarians look former friends relatives deal latter beasts plants bc aristotle returned athens establishing school known lyceum aristotle conducted courses school next twelve years athens wife pythias died aristotle became involved herpyllis stagira son aristotle named father nicomachus suda uncritical compilation middle ages accurate may also ermenos palaephatus abydus portrait bust aristotle imperial roman st nd century ad copy lost bronze sculpture made lysippos period athens bc aristotle believed composed many works wrote many dialogues fragments survived works survived treatise form part intended widespread publication generally thought lecture aids students important treatises include physics metaphysics nicomachean ethics politics soul poetics aristotle studied made significant contributions logic metaphysics mathematics physics biology botany ethics politics agriculture medicine dance theatre near end life alexander aristotle became estranged alexander relationship persia persians widespread tradition antiquity suspected aristotle playing role alexander death evidence unlikely claim made six years death following alexander death anti macedonian sentiment athens rekindled bc demophilus eurymedon hierophant reportedly denounced aristotle impiety prompting flee mother family estate chalcis euboea occasion said stated allow athenians sin twice philosophy reference athens trial execution socrates died chalcis euboea natural causes later year named student antipater chief executor leaving asked buried next wife theoretical philosophy logic prior analytics aristotle credited earliest study formal logic conception dominant form western logic th century advances mathematical logic kant stated critique pure reason aristotle logic reached completion organon plato left aristotle raphael fresco school athens aristotle holds nicomachean ethics gestures earth representing view immanent realism whilst plato gestures heavens indicating theory forms holds timaeus aristotle work probably original form likely edited students later lecturers logical works aristotle compiled set six books called organon around bc andronicus rhodes others among followers books categories interpretation prior analytics posterior analytics topics sophistical refutations order books teachings composed certain list derived analysis aristotle writings goes basics analysis simple terms categories analysis propositions elementary relations interpretation study complex forms namely syllogisms analytics dialectics topics sophistical refutations first three treatises form core logical theory stricto sensu grammar language logic correct rules reasoning rhetoric conventionally included states relies topics one aristotle types syllogism words terms equations men mortal greeks men greeks mortal ps ms px today called aristotelian logic types syllogism methods logical argument aristotle would labelled analytics term logic reserved mean dialectics metaphysics word metaphysics appears coined first century ad editor assembled various small selections aristotle works treatise know name metaphysics aristotle called first philosophy distinguished mathematics natural science physics contemplative theoretik philosophy theological studies divine wrote metaphysics substance aristotle examines concepts substance ousia essence ti n einai metaphysics book vii concludes particular substance combination matter form philosophical theory called hylomorphism book viii distinguishes matter substance substratum stuff composed example matter house bricks stones timbers etc whatever constitutes potential house form substance actual house namely covering bodies chattels differentia let us define something house formula gives components account matter formula gives differentia account form immanent realism plato forms exist universals like ideal form apple aristotle matter form belong individual thing hylomorphism like teacher plato aristotle philosophy aims universal aristotle ontology places universal katholou particulars kath hekaston things world whereas plato universal separately existing form actual things imitate aristotle form still phenomena based instantiated particular substance plato argued things universal form could either property relation things one looks apple example one sees apple one also analyse form apple distinction particular apple universal form apple moreover one place apple next book one speak book apple next plato argued universal forms part particular things example possible particular good existence good still proper universal form aristotle disagreed plato point arguing universals instantiated period time universals unattached existing things addition aristotle disagreed plato location universals plato spoke forms existing separately things participate aristotle maintained universals exist within thing universal predicated according aristotle form apple exists within apple rather world forms potentiality actuality concerning nature change kinesis causes outlines physics generation corruption distinguishes coming genesis also translated generation growth diminution change quantity locomotion change space alteration change quality potential made actual learning coming change substrate thing undergone change changed particular change introduces concept potentiality dynamis actuality entelecheia association matter form referring potentiality thing capable acted upon conditions right prevented something else example seed plant soil potentially dynamei plant prevented something become plant potentially beings either act poiein acted upon paschein either innate learned example eyes possess potentiality sight innate acted upon capability playing flute possessed learning exercise acting actuality fulfilment end potentiality end telos principle every change potentiality exists sake end actuality accordingly end referring previous example said actuality plant one activities plants summary matter used make house potentiality house activity building form final house actualities also final cause end aristotle proceeds concludes actuality prior potentiality formula time substantiality definition particular substance matter form aristotle tries solve problem unity beings example makes man one since according plato two ideas animal biped man unity however according aristotle potential matter actual one form one epistemology aristotle immanent realism means epistemology based study things exist happen world rises knowledge universal whereas plato epistemology begins knowledge universal forms ideas descends knowledge particular imitations aristotle uses induction examples alongside deduction whereas plato relies deduction priori principles natural philosophy aristotle natural philosophy spans wide range natural phenomena including covered physics biology natural sciences aristotle terminology natural philosophy branch philosophy examining phenomena natural world includes fields would regarded today physics biology natural sciences aristotle work encompassed virtually facets intellectual inquiry aristotle makes philosophy broad sense coextensive reasoning also would describe science however use term science carries different meaning covered term scientific method aristotle science dianoia either practical poetical theoretical metaphysics practical science includes ethics politics poetical science means study fine arts including poetry theoretical science covers physics mathematics metaphysics physics four classical elements fire air water earth empedocles aristotle illustrated burning log log releases four elements destroyed five elements generation corruption aristotle related four elements proposed earlier empedocles earth water air fire two four sensible qualities hot cold wet dry empedoclean scheme matter made four elements differing proportions aristotle scheme added heavenly aether divine substance heavenly spheres stars planets aristotle elements element motion modern stateof matter earth solid water liquid air gas fire plasma aether divinesubstance circular heavens vacuum motion aristotle describes two kinds motion violent unnatural motion thrown stone physics natural motion falling object heavens violent motion soon agent stops causing motion stops also words natural state object rest since aristotle address friction understanding observed aristotle stated heavy objects ground say require force make move objects pushed greater force move faster would imply equation incorrect modern physics natural motion depends element concerned aether naturally moves circle around heavens empedoclean elements move vertically like fire observed like earth towards natural resting places physics states objects fall speed proportional weight inversely proportional density fluid immersed correct approximation objects earth gravitational field moving air water physics aristotle effectively states quantitative law speed falling body proportional say constant weight inversely proportional density fluid falling aristotle implies vacuum speed fall would become infinite concludes apparent absurdity vacuum possible opinions varied whether aristotle intended state quantitative laws henri carteron held extreme view aristotle concept force basically qualitative authors reject archimedes corrected aristotle theory bodies move towards natural resting places metal boats float displace enough water floating depends archimedes scheme mass volume object aristotle thought elementary composition aristotle writings motion remained influential early modern period john philoponus late antiquity galileo early modern period said shown experiment aristotle claim heavier object falls faster lighter object incorrect contrary opinion given carlo rovelli argues aristotle physics motion correct within domain validity objects earth gravitational field immersed fluid air system heavy bodies steady fall indeed travel faster light ones whether friction ignored fall slowly denser medium newton forced motion corresponds aristotle violent motion external agent aristotle assumption agent effect stops immediately stops acting ball leaves thrower hand awkward consequences suppose surrounding fluid helps push ball along make continue rise even though hand longer acting resulting medieval theory impetus four causes aristotle argued analogy woodwork thing takes form four causes case table wood used material cause design formal cause tools techniques used efficient cause decorative practical purpose final cause aristotle suggested reason anything coming attributed four different types simultaneously active factors term aitia traditionally translated cause always refer temporal sequence might better translated explanation traditional rendering employed material cause describes material something composed thus material cause table wood action mean one domino knocks another domino formal cause form arrangement matter tells one thing thing determined definition form pattern essence whole synthesis archetype embraces account causes terms fundamental principles general laws whole macrostructure cause parts relationship known whole part causation plainly put formal cause idea mind sculptor brings sculpture simple example formal cause mental image idea allows artist architect engineer create drawing efficient cause primary source change consideration proceeds identifies makes made causes change changed suggests sorts agents non living living acting sources change movement rest representing current understanding causality relation cause effect covers modern definitions cause either agent agency particular events states affairs case two dominoes first knocked causes second also fall case animals agency combination develops egg body functions final cause telos purpose reason thing exists done including purposeful instrumental actions activities final cause purpose function something supposed serve covers modern ideas motivating causes volition case living things implies adaptation particular way life optics aristotle describes experiments optics using camera obscura problems book apparatus consisted dark chamber small aperture let light saw whatever shape made hole sun image always remained circular also noted increasing distance aperture image surface magnified image chance spontaneity according aristotle spontaneity chance causes things distinguishable types cause simple necessity chance incidental cause lies realm accidental things spontaneous also specific kind chance aristotle names luck applies people moral choices astronomy astronomy aristotle refuted democritus claim milky way made stars shaded earth sun rays pointing partly correctly size sun greater earth distance stars earth many times greater sun sun shines stars earth screens none also wrote descriptions comets including great comet bc geology natural sciences aristotle noted ground level aeolian islands changed volcanic eruption aristotle one first people record geological observations stated geological change slow observed one person lifetime geologist charles lyell noted aristotle described change including lakes dried deserts become watered rivers giving examples growth nile delta since time homer upheaving one aeolian islands previous volcanic eruption meteorologica lends name modern study meteorology modern usage diverges content aristotle ancient treatise meteors ancient greeks use term range atmospheric phenomena also earthquakes volcanic eruptions aristotle proposed cause earthquakes gas vapor anathymiaseis trapped inside earth trying escape following greek authors anaxagoras empedocles democritus aristotle also made many observations hydrologic cycle example made earliest observations desalination observed early correctly seawater heated freshwater evaporates oceans replenished cycle rainfall river runoff proved experiment salt water evaporated forms fresh vapor condenses condense sea water biology hectocotyl arm octopus bottom left empirical research aristotle first person study biology systematically biology forms large part writings spent two years observing describing zoology lesbos surrounding seas including particular pyrrha lagoon centre lesbos data history animals generation animals movement animals parts animals assembled observations statements given people specialized knowledge beekeepers fishermen less accurate accounts provided travellers overseas apparent emphasis animals rather plants historical accident works botany lost two books plants pupil theophrastus survived aristotle reports sea life visible observation lesbos catches fishermen describes catfish electric ray frogfish detail well cephalopods octopus paper nautilus description hectocotyl arm cephalopods used sexual reproduction widely disbelieved th century gives accurate descriptions four chambered fore stomachs ruminants ovoviviparous embryological development hound shark notes animal structure well matched function birds like heron live marshes soft mud live catching fish long neck long legs sharp spear like beak whereas ducks swim short legs webbed feet darwin noted sorts differences similar kinds animal unlike aristotle used data come theory evolution aristotle writings seem modern readers close implying evolution aristotle aware new mutations hybridizations could occur saw rare accidents aristotle accidents like heat waves winter must considered distinct natural causes thus critical empedocles materialist theory survival fittest origin living things organs ridiculed idea accidents could lead orderly results put views modern terms nowhere says different species common ancestor one kind change another kinds become extinct scientific style aristotle inferred growth laws observations animals including brood size decreases body mass whereas gestation period increases correct predictions least mammals data shown mouse elephant aristotle experiments modern sense used ancient greek term pepeiramenoi mean observations investigative procedures like dissection generation animals finds fertilized hen egg suitable stage opens see embryo heart beating inside instead practiced different style science systematically gathering data discovering patterns common whole groups animals inferring possible causal explanations style common modern biology large amounts data become available new field genomics result certainty experimental science sets testable hypotheses constructs narrative explanation observed sense aristotle biology scientific data collected documented aristotle inferred quite number rules relating life history features live bearing tetrapods terrestrial placental mammals studied among correct predictions following brood size decreases adult body mass elephant fewer young usually one per brood mouse lifespan increases gestation period also body mass elephants live longer mice longer period gestation heavier final example fecundity decreases lifespan long lived kinds like elephants fewer young total short lived kinds like mice classification living things aristotle recorded embryo dogfish attached cord kind placenta yolk sac like higher animal formed exception linear scale highest lowest aristotle distinguished species animals arranging history animals graded scale perfection nonreligious version scala naturae man top system eleven grades animal highest potential lowest expressed form birth highest gave live birth hot wet creatures lowest laid cold dry mineral like eggs animals came plants turn minerals grouped modern zoologist would call vertebrates hotter animals blood colder invertebrates animals without blood blood divided live bearing mammals egg laying birds reptiles fish without blood insects crustacea non shelled cephalopods shelled hard shelled molluscs bivalves gastropods recognised animals exactly fit linear scale noted various exceptions sharks placenta like tetrapods modern biologist explanation available aristotle convergent evolution philosophers science generally concluded aristotle interested taxonomy zoologists studied question early st century think otherwise believed purposive final causes guided natural processes teleological view justified observed data expression formal design aristotle scala naturae highest lowest group examples given aristotle blood legs souls rational sensitive vegetative qualities man man blood legs live bearing tetrapods cat hare blood legs cetaceans dolphin whale blood none birds bee eater nightjar blood legs except eggs egg laying tetrapods chameleon crocodile blood legs except scales eggs snakes water snake ottoman viper blood none except scales eggs egg laying fishes sea bass parrotfish blood none including eggs among egg laying fishes placental selachians shark skate blood none placenta like tetrapods crustaceans shrimp crab without many legs except shell cephalopods squid octopus without tentacles hard shelled animals cockle trumpet snail without none mineral shell larva bearing insects ant cicada without legs spontaneously generating sponges worms without none earth plants fig without none minerals iron without none none psychology soul structure souls plants animals humans making humans unique three types soul aristotle psychology given treatise soul peri psychs posits three kinds soul psyches vegetative soul sensitive soul rational soul humans three vegetative soul concerned growth nourishment sensitive soul experiences sensations movement unique part human rational soul ability receive forms things compare using nous intellect logos reason aristotle soul form living beings composites form matter form living beings endows specific living beings ability initiate movement case plants growth transformations aristotle considers types movement contrast earlier philosophers accordance egyptians placed rational soul heart rather brain notable aristotle division sensation thought generally differed concepts previous philosophers exception alcmaeon soul aristotle famously criticizes plato theory soul develops response first criticism plato view soul timaeus soul takes space able come physical contact bodies th century scholarship overwhelmingly opposed aristotle interpretation plato maintained misunderstood today scholars tended assess aristotle interpretation positive aristotle criticism plato view reincarnation entails possible soul body mis matched principle aristotle alleges soul go body according plato theory aristotle claim soul form living eliminates possibility thus rules reincarnation memory according aristotle soul memory ability hold perceived experience mind distinguish internal appearance occurrence past words memory mental picture phantasm recovered aristotle believed impression left semi fluid bodily organ undergoes several changes order make memory memory occurs stimuli sights sounds complex nervous system receive impressions changes involved operations sensation aristotelian thinking aristotle uses term memory actual retaining experience impression develop sensation intellectual anxiety comes impression formed particular time processing specific contents memory past prediction future sensation present retrieval impressions performed suddenly transitional channel needed located past experiences previous experience present experience aristotle believes people receive kinds sense perceptions perceive impressions people continually weaving together new impressions experiences search impressions people search memory within memory one experience offered instead specific memory person reject experience find looking recollection occurs one retrieved experience naturally follows another chain images needed one memory stimulate next people recall experiences stimulate certain previous experiences reach one needed recollection thus self directed activity retrieving information stored memory impression humans remember impressions intellectual activity numbers words animals perception time retrieve memories past observations remembering involves perception things remembered time passed senses perception memory dreams action aristotle psychology impressions stored sensorium heart linked laws association similarity contrast contiguity aristotle believed chain thought ends recollection certain impressions connected systematically relationships similarity contrast contiguity described laws association aristotle believed past experiences hidden within mind force operates awaken hidden material bring actual experience according aristotle association power innate mental state operates upon unexpressed remains former experiences allowing rise recalled dreams aristotle describes sleep sleep wakefulness sleep takes place result overuse senses digestion vital body person asleep critical activities include thinking sensing recalling remembering function wakefulness since person sense sleep desire result sensation however senses able work sleep albeit differently unless weary dreams involve actually sensing stimulus dreams sensation still involved altered manner aristotle explains person stares moving stimulus waves body water looks away next thing look appears wavelike motion person perceives stimulus stimulus longer focus attention leaves impression body awake senses functioning properly person constantly encounters new stimuli sense impressions previously perceived stimuli ignored however sleep impressions made throughout day noticed new distracting sensory experiences dreams result lasting impressions since impressions left exact stimuli dreams resemble actual waking experience sleep person altered state mind aristotle compares sleeping person person overtaken strong feelings toward stimulus example person strong infatuation someone may begin think see person everywhere overtaken feelings since person sleeping suggestible state unable make judgements become easily deceived appears dreams like infatuated person leads person believe dream real even dreams absurd nature de anima iii aristotle ascribes ability create store recall images absence perception faculty imagination phantasia one component aristotle theory dreams disagrees previously held beliefs claimed dreams foretelling sent divine aristotle reasoned instances dreams resemble future events simply coincidences aristotle claimed dream first established fact person asleep experience person image appear moment waking see something dark considered dream awake occurred secondly sensory experience perceived person asleep qualify part dream example person sleeping door shuts dream hear door shut sensory experience part dream lastly images dreams must result lasting impressions waking sensory experiences practical philosophy aristotle practical philosophy covers areas ethics politics economics rhetoric virtues accompanying vices little virtuous mean much humbleness high mindedness vainglory lack purpose right ambition ambition spiritlessness good temper irascibility rudeness civility obsequiousness cowardice courage rashness insensibility self control intemperance sarcasm sincerity boastfulness boorishness wit buffoonery shamelessness modesty shyness callousness resentment spitefulness pettiness generosity vulgarity meanness liberality wastefulness ethics aristotle considered ethics practical rather theoretical study one aimed becoming good good rather knowing sake wrote several treatises ethics notably including nicomachean ethics aristotle taught virtue proper function ergon thing eye good eye much see proper function eye sight aristotle reasoned humans must function specific humans function must activity psuch soul accordance reason logos aristotle identified optimum activity virtuous mean accompanying vices excess deficiency soul aim human deliberate action eudaimonia generally translated happiness sometimes well potential ever happy way necessarily requires good character thik aret often translated moral ethical virtue excellence aristotle taught achieve virtuous potentially happy character requires first stage fortune habituated deliberately teachers experience leading later stage one consciously chooses best things best people come live life way practical wisdom phronesis intellect nous develop towards highest possible human virtue wisdom accomplished theoretical speculative thinker words philosopher politics addition works ethics address individual aristotle addressed city work titled politics aristotle considered city natural community moreover considered city prior importance family turn prior individual whole must necessity prior part famously stated man nature political animal argued humanity defining factor among others animal kingdom rationality aristotle conceived politics like organism rather like machine collection parts none exist without others aristotle conception city organic considered one first conceive city manner aristotle classifications political constitutions common modern understanding political community modern state quite different aristotle understanding although aware existence potential larger empires natural community according aristotle city polis functions political community partnership koinnia aim city avoid injustice economic stability rather allow least citizens possibility live good life perform beautiful acts political partnership must regarded therefore sake noble actions sake living together distinguished modern approaches beginning social contract theory according individuals leave state nature fear violent death inconveniences protrepticus character aristotle states plato disciple aristotle rather critical concerning democracy following outline certain ideas plato statesman developed coherent theory integrating various forms power called mixed state economics aristotle made substantial contributions economic thought especially thought middle ages politics aristotle addresses city property trade response criticisms private property lionel robbins view anticipated later proponents private property among philosophers economists related overall utility social arrangements aristotle believed although communal arrangements may seem beneficial society although private property often blamed social strife evils fact come human nature politics aristotle offers one earliest accounts origin money money came use people became dependent one another importing needed exporting surplus sake convenience people agreed deal something intrinsically useful easily applicable iron silver aristotle discussions retail interest major influence economic thought middle ages low opinion retail believing contrary using money procure things one needs managing household retail trade seeks make profit thus uses goods means end rather end unto believed retail trade way unnatural similarly aristotle considered making profit interest unnatural makes gain money use aristotle gave summary function money perhaps remarkably precocious time wrote impossible determine value every good count number goods worth necessity arises single universal standard measurement money thus allows association different goods makes commensurable goes state money also useful future exchange making sort security want thing shall able get want rhetoric aristotle rhetoric proposes speaker use three basic kinds appeals persuade audience ethos appeal speaker character pathos appeal audience emotion logos appeal logical reasoning also categorizes rhetoric three genres epideictic ceremonial speeches dealing praise blame forensic judicial speeches guilt innocence deliberative speeches calling audience make decision issue aristotle also outlines two kinds rhetorical proofs enthymeme proof syllogism paradeigma proof example poetics aristotle writes poetics epic poetry tragedy comedy dithyrambic poetry painting sculpture music dance fundamentally acts mimesis imitation varying imitation medium object manner applies term mimesis property work art also product artist intention contends audience realisation mimesis vital understanding work aristotle states mimesis natural instinct humanity separates humans animals human artistry follows pattern nature aristotle believed mimetic arts possesses stephen halliwell calls highly structured procedures achievement purposes example music imitates media rhythm harmony whereas dance imitates rhythm alone poetry language forms also differ object imitation comedy instance dramatic imitation men worse average whereas tragedy imitates men slightly better average lastly forms differ manner imitation narrative character change change drama drama blind oedipus commending children gods bnigne gagneraux poetics aristotle uses tragedy oedipus tyrannus sophocles example perfect tragedy structured generally good protagonist starts play prosperous loses everything hamartia fault believed aristotle poetics originally comprised two books one comedy one tragedy portion focuses tragedy survived aristotle taught tragedy composed six elements plot structure character style thought spectacle lyric poetry characters tragedy merely means driving story plot characters chief focus tragedy tragedy imitation action arousing pity fear meant effect catharsis emotions aristotle concludes poetics discussion either superior epic tragic mimesis suggests tragedy possesses attributes epic possibly possesses additional attributes spectacle music unified achieves aim mimesis shorter scope considered superior epic aristotle keen systematic collector riddles folklore proverbs school special interest riddles delphic oracle studied fables aesop gender sexuality aristotle asserted men superior women writing male nature superior female inferior male ruler female subject ground proponents feminist metaphysics accused aristotle misogyny sexism however aristotle gave equal weight women happiness men commented rhetoric things lead happiness need women well men aristotle like greek philosophers plato xenophon rejected homosexuality believing could lead people become immoral due fact believed went nature purpose transmission years death aristotle remains one influential people ever lived contributed almost every field human knowledge existence founder many new fields according philosopher bryan magee doubtful whether human ever known much among countless achievements aristotle founder formal logic pioneered study zoology left every future scientist philosopher debt contributions scientific method taneli kukkonen observes achievement founding two sciences unmatched reach influencing every branch intellectual enterprise including western ethical political theory theology rhetoric literary analysis equally long result kukkonen argues analysis reality today almost certainly carry aristotelian overtones evidence exceptionally forceful mind jonathan barnes wrote account aristotle intellectual afterlife would little less history european thought aristotle called father logic biology political science zoology embryology natural law scientific method rhetoric psychology realism criticism individualism teleology meteorology scholar taneli kukkonen notes best th century scholarship aristotle comes alive thinker wrestling full weight greek philosophical tradition follows overview transmission influence texts ideas modern era successor theophrastus frontispiece version theophrastus historia plantarum originally written around bc aristotle pupil successor theophrastus wrote history plants pioneering work botany technical terms remain use carpel carpos fruit pericarp pericarpion seed chamber theophrastus much less concerned formal causes aristotle instead pragmatically describing plants functioned later greek philosophy immediate influence aristotle work felt lyceum grew peripatetic school aristotle students included aristoxenus dicaearchus demetrius phalerum eudemos rhodes harpalus hephaestion mnason phocis nicomachus theophrastus aristotle influence alexander great seen latter bringing expedition host zoologists botanists researchers also learned great deal persian customs traditions teacher although respect aristotle diminished travels made clear much aristotle geography clearly wrong old philosopher released works public alexander complained thou hast done well publish thy acroamatic doctrines shall surpass men doctrines wherein trained men common property hellenistic science theophrastus lyceum failed produce original work though interest aristotle ideas survived generally taken unquestioningly age alexandria ptolemies advances biology found first medical teacher alexandria herophilus chalcedon corrected aristotle placing intelligence brain connected nervous system motion sensation herophilus also distinguished veins arteries noting latter pulse former though ancient atomists lucretius challenged teleological viewpoint aristotelian ideas life teleology rise christianity natural theology would remain central biological thought essentially th th centuries ernst mayr states nothing real consequence biology lucretius galen renaissance revival following decline roman empire aristotle vast philosophical scientific corpus lay largely dormant west however works underwent remarkable revival abbasid caliphate translated arabic alongside greek classics aristotle logic ethics natural philosophy ignited minds early islamic scholars meticulous commentaries critical engagements figures like al farabi ibn sina avicenna breathed new life aristotle ideas harmonized logic islamic theology employed scientific methodologies explore natural world even reinterpreted ethics within framework islamic morality revival mere imitation islamic thinkers embraced aristotle rigorous methods simultaneously challenging conclusions diverged religious beliefs byzantine scholars greek christian scribes played crucial role preservation aristotle copying extant greek language manuscripts corpus first greek christians comment extensively aristotle philoponus elias david sixth century stephen alexandria early seventh century john philoponus stands attempted fundamental critique aristotle views eternity world movement elements aristotelian thought philoponus questioned aristotle teaching physics noting flaws introducing theory impetus explain observations hiatus several centuries formal commentary eustratius michael ephesus reappeared late eleventh early twelfth centuries apparently sponsored anna comnena medieval islamic world islamic portrayal aristotle right kitb nat al ayawn aristotle one revered thinkers early islamic theology still extant works aristotle well number original greek commentaries translated arabic studied muslim philosophers scientists scholars averroes avicenna alpharabius wrote aristotle great depth also influenced thomas aquinas western christian scholastic philosophers alkindus greatly admired aristotle philosophy averroes spoke aristotle exemplar future philosophers medieval muslim scholars regularly described aristotle first teacher title later used western philosophers famous poem dante influenced tradition islamic philosophy medieval europe loss study ancient greek early medieval latin west aristotle practically unknown except latin translation organon made boethius twelfth thirteenth centuries interest aristotle revived latin christians translations made arabic translations gerard cremona original greek james venice william moerbeke scholastic thomas aquinas wrote summa theologica working moerbeke translations calling aristotle philosopher demand aristotle writings grew greek manuscripts returned west stimulating revival aristotelianism europe continued renaissance thinkers blended aristotelian philosophy christianity bringing thought ancient greece middle ages scholars boethius peter abelard john buridan worked aristotelian logic according scholar roger theodore lafferty dante built philosophy comedy works aristotle foundation scholastics used aristotle basis thinking dante knew aristotle directly latin translations works indirectly quotations works albert magnus dante even acknowledges aristotle influence explicitly poem specifically virgil justifies inferno structure citing nicomachean ethics dante famously refers acknowledged master know medieval judaism moses maimonides considered foremost intellectual figure medieval judaism adopted aristotelianism islamic scholars based guide perplexed became basis jewish scholastic philosophy maimonides also considered aristotle greatest philosopher ever lived styled chief philosophers also letter samuel ibn tibbon maimonides observes need samuel study writings philosophers preceded aristotle works latter sufficient superior written intellect aristotle extreme limit human intellect apart upon divine emanation flowed forth extent reach level prophecy level higher early modern science william harvey de motu cordis showed blood circulated contrary classical era thinking early modern period scientists william harvey england galileo galilei italy reacted theories aristotle classical era thinkers like galen establishing new theories based degree observation experiment harvey demonstrated circulation blood establishing heart functioned pump rather seat soul controller body heat aristotle thought galileo used doubtful arguments displace aristotle physics proposing bodies fall speed whatever weight th th century science english mathematician george boole fully accepted aristotle logic decided go beyond system algebraic logic book laws thought gives logic mathematical foundation equations enables solve equations well check validity allows handle wider class problems expanding propositions number terms two charles darwin regarded aristotle important contributor subject biology letter wrote linnaeus cuvier two gods though different ways mere schoolboys old aristotle also later editions book origin species darwin traced evolutionary ideas far back aristotle text cites summary aristotle ideas earlier greek philosopher empedocles present science philosopher bertrand russell claims almost every serious intellectual advance begin attack aristotelian doctrine russell calls aristotle ethics repulsive labelled logic definitely antiquated ptolemaic astronomy russell states errors make difficult historical justice aristotle one remembers advance made upon predecessors dutch historian science eduard jan dijksterhuis writes aristotle predecessors showed difficulty science proceeding readily frame theory general character limited evidence senses biologist peter medawar could still state pure seventeenth century tones aristotle assembled strange generally speaking rather tiresome farrago hearsay imperfect observation wishful thinking credulity amounting downright gullibility zoologists frequently mocked aristotle errors unverified secondhand reports however modern observation confirmed several surprising claims aristotle work remains largely unknown modern scientists though zoologists sometimes mention father biology particular marine biology practising zoologists unlikely adhere aristotle chain influence still perceptible use terms lower upper designate taxa groups plants evolutionary biologist armand marie leroi reconstructed aristotle biology niko tinbergen four questions based aristotle four causes used analyse animal behaviour examine function phylogeny mechanism ontogeny concept homology began aristotle evolutionary developmental biologist lewis held commented would interested concept deep homology surviving works corpus aristotelicum first page edition nicomachean ethics greek latin works aristotle survived antiquity medieval manuscript transmission collected corpus aristotelicum texts opposed aristotle lost works technical philosophical treatises within aristotle school reference made according organization immanuel bekker royal prussian academy edition aristotelis opera edidit academia regia borussica berlin turn based ancient classifications works loss preservation aristotle wrote works papyrus scrolls common writing medium era writings divisible two groups exoteric intended public esoteric use within lyceum school aristotle lost works stray considerably surviving aristotelian corpus whereas lost works appear originally written view subsequent publication surviving works mostly resemble lecture notes intended publication cicero description aristotle literary style river gold must applied published works surviving notes major question history aristotle works exoteric writings lost ones possessed came found consensus andronicus rhodes collected esoteric works aristotle school existed form smaller separate works distinguished theophrastus peripatetics edited finally compiled cohesive larger works known today according strabo plutarch aristotle death library writings went theophrastus aristotle successor head lycaeum peripatetic school death theophrastus peripatetic library went neleus scepsis time later kingdom pergamon began conscripting books royal library heirs neleus hid collection cellar prevent seized purpose library stored century half conditions ideal document preservation death attalus iii also ended royal library ambitions existence aristotelian library disclosed purchased apellicon returned athens bc apellicon sought recover texts many seriously degraded point due conditions stored copied new manuscripts used best guesswork fill gaps originals unreadable sulla seized athens bc seized library transferred rome andronicus rhodes organized texts first complete edition aristotle works works attributed aristotelian texts today based depictions art paintings aristotle depicted major artists including lucas cranach elder justus van gent raphael paolo veronese jusepe de ribera rembrandt francesco hayez centuries among best known depictions raphael fresco school athens vatican apostolic palace figures plato aristotle central image architectural vanishing point reflecting importance rembrandt aristotle bust homer celebrated work showing knowing philosopher blind homer earlier age art critic jonathan jones writes painting remain one greatest mysterious world ensnaring us musty glowing pitch black terrible knowledge time kln aristoteles jpg aristotle mosaic roman villa cologne aristotle nuremberg chronicle jpg nuremberg chronicle shows aristotle medieval scholar clothing ink watercolour paper gent justus van aristotle jpg aristotle justus van gent oil panel lucas cranach phyllis und aristotle jpg phyllis aristotle lucas cranach elder oil panel biblioteka marciana aristotel jpg aristotle paolo veronese biblioteka marciana oil canvas turchi aristoteimg jpg aristotle campaspe alessandro turchi attrib oil canvas aristotle jusepe de ribera jpg aristotle jusepe de ribera oil canvas rembrandt aristotle bust homer wga jpg aristotle bust homer rembrandt oil canvas johann jakob dorner attr aristoteles jpg aristotle johann jakob dorner elder oil canvas venice aristide francesco hayez gallerie accademia venice jpg aristotle francesco hayez oil canvas alexander aristotle jpg enduring romantic images aristotle tutoring future conqueror alexander sculptures aristoteles louvre jpg roman copy st nd century original bronze lysippos louvre museum dsc aristotele copia romana del dc foto di dall orto jpg roman copy ad greek original palermo regional archeology museum formella platone aristotele la filosofia luca della robbia jpg relief aristotle plato luca della robbia florence cathedral llyfrgell sant deiniol gladstone library hawarden penarlg jpg stone statue niche gladstone library hawarden wales uni freiburg philosophen jpg bronze statue university freiburg germany eponyms aristotle mountains antarctica named aristotle first person known conjecture book meteorology existence landmass southern high latitude region called antarctica aristoteles crater moon bearing classical form aristotle name aristoteles asteroid main asteroid belt also bearing classical form name see also aristotelian society conimbricenses perfectionism references notes citations sources reading secondary literature aristotle vast following small selection ackrill essays plato aristotle oxford university press translations available several places online see external links bakalis nikolaos handbook greek philosophy thales stoics analysis fragments trafford publishing bolotin david approach aristotle physics particular attention role manner writing albany suny press contribution understanding read aristotle scientific works burnyeat myles et al notes book zeta aristotle metaphysics oxford sub faculty philosophy code alan potentiality aristotle science metaphysics pacific philosophical quarterly de groot jean aristotle empiricism experience mechanics th century bc parmenides publishing frede michael essays ancient philosophy minneapolis university minnesota press gendlin eugene line line commentary aristotle de anima volume books ii volume book iii focusing institute gill mary louise aristotle substance paradox unity princeton university press jori alberto aristotele bruno mondadori prize international academy history science knight kelvin aristotelian philosophy ethics politics aristotle macintyre polity press lewis frank substance predication aristotle cambridge university press lord carnes introduction politics aristotle chicago university press loux michael primary ousia essay aristotle metaphysics ithaca ny cornell university press maso stefano ed natali carlo ed seel gerhard ed reading aristotle physics vii alteration proceedings international esap hyele conference parmenides publishing reprinted barnes schofield sorabji eds articles aristotle vol science london duckworth reeve substantial knowledge aristotle metaphysics hackett scaltsas substances universals aristotle metaphysics cornell university press strauss leo aristotle politics city man rand mcnally external links internet encyclopedia philosophy internet classics archive stanford encyclopedia philosophy collections works massachusetts institute technology perseus project tufts university university adelaide remacle volume bekker edition aristotle works greek pdf djvu\n",
            "mathematics statistics arithmetic mean arithmetic average mean average context clear sum collection numbers divided count numbers collection collection often set results experiment observational study survey term arithmetic mean preferred mathematics statistics contexts helps distinguish types means geometric harmonic addition mathematics statistics arithmetic mean frequently used economics anthropology history almost every academic field extent example per capita income arithmetic average income nation population arithmetic mean often used report central tendencies robust statistic greatly influenced outliers values much larger smaller others skewed distributions distribution income people incomes substantially higher people arithmetic mean may coincide one notion middle case robust statistics median may provide better description central tendency definition arithmetic mean set observed data equal sum numerical values observation divided total number observations symbolically data set consisting values arithmetic mean defined formula explanation summation operator see summation example monthly salaries employees arithmetic mean data set statistical population consists every possible observation subset mean population called population mean denoted greek letter data set statistical sample subset population called sample mean data set denoted arithmetic mean similarly defined vectors multiple dimensions scalar values often referred centroid generally arithmetic mean convex combination meaning coefficients sum defined convex space vector space motivating properties arithmetic mean several properties make interesting especially measure central tendency include numbers mean since distance given number mean one way interpret property saying numbers left mean balanced numbers right mean number residuals deviations estimate sum zero also interpreted saying mean translationally invariant sense real number required use single number typical value set known numbers arithmetic mean numbers best since minimizes sum squared deviations typical value sum sample mean also best single predictor lowest root mean squared error arithmetic mean population numbers desired estimate unbiased arithmetic mean sample drawn population arithmetic mean independent scale units measurement sense example calculating mean liters converting gallons converting gallons first calculating mean also called first order homogeneity additional properties arithmetic mean sample always largest smallest values sample arithmetic mean amount equal sized number groups together arithmetic mean arithmetic means group contrast median arithmetic mean may contrasted median median defined half values larger half smaller elements data increase arithmetically placed order median arithmetic average equal example consider data sample mean median however consider sample arranged increase arithmetically median arithmetic average differ significantly case arithmetic average median average value vary considerably values sample larger smaller applications phenomenon many fields example since median income united states increased slowly arithmetic average income generalizations weighted average weighted average weighted mean average data points count heavily others given weight calculation example arithmetic mean equivalently contrast weighted mean first number receives example twice much weight second perhaps assumed appear twice often general population numbers sampled would calculated weights necessarily sum one former twice latter arithmetic mean sometimes called unweighted average equally weighted average interpreted special case weighted average weights equal number example situation numbers averaged continuous probability distributions comparison two log normal distributions equal median different skewness resulting various means modes numerical property sample data take value continuous range instead example integers probability number falling range possible values described integrating continuous probability distribution across range even naive probability sample number taking one certain value infinitely many zero context analog weighted average infinitely many possibilities precise value variable range called mean probability distribution widely encountered probability distribution called normal distribution property measures central tendency including mean also median mentioned mode three ms equal equality hold probability distributions illustrated log normal distribution angles particular care needed using cyclic data phases angles taking arithmetic mean yields result incorrect two reasons firstly angle measurements defined additive constant measuring radians thus could easily called since one produces different average secondly situation geometrically better average value lower dispersion points putative average general application oversight lead average value artificially moving towards middle numerical range solution problem use optimization formulation define mean central point point one lowest dispersion redefine difference modular distance distance circle modular distance symbols encoding arithmetic mean often denoted bar vinculum macron software text processors web browsers may display symbol correctly example html symbol combines two codes base letter plus code line document formats pdf symbol may replaced cent symbol copied text processor microsoft word see also frchet mean generalized mean inequality arithmetic geometric means sample mean covariance standard deviation standard error mean summary statistics notes references reading external links calculations comparisons arithmetic mean geometric mean two numbers calculate arithmetic mean series numbers fxsolver\n",
            "alaska non contiguous state northwest extremity north america western united states region non contiguous state hawaii alaska also considered northernmost westernmost easternmost aleutian islands cross th meridian eastern hemisphere state united states borders canadian territory yukon province british columbia east shares western maritime border bering strait russia chukotka autonomous okrug chukchi beaufort seas arctic ocean lie north pacific ocean lies south technically semi exclave largest exclave world alaska largest state area comprising total area following three largest states texas california montana combined sixth largest subnational division world third least populous sparsely populated state population continent populous territory located mostly north th parallel quadruple combined populations northern canada greenland state contains four largest cities united states area including state capital juneau state populous city anchorage approximately half alaska residents live within metropolitan area indigenous people lived alaska thousands years widely believed region served entry point initial settlement north america way bering land bridge russian empire first actively colonize area beginning th century eventually establishing russian america spanned current state promoted maintained native alaskan creole population expense logistical difficulty maintaining distant possession prompted sale us million equivalent million area went several administrative changes becoming organized territory may admitted th state january abundant natural resources enabled alaska one smallest state economies one highest per capita incomes commercial fishing extraction natural gas oil dominating alaska economy armed forces bases tourism also contribute economy half state federally owned land containing national forests national parks wildlife refuges among irreligious states one first legalize recreational marijuana known libertarian leaning political culture generally supporting republican party national elections indigenous population alaska proportionally second highest state percent hawaii etymology name alaska introduced russian colonial period used refer alaska peninsula derived aleut language idiom meaning mainland literally object towards action sea directed history pre colonization numerous indigenous peoples occupied alaska thousands years arrival european peoples area linguistic dna studies done provided evidence settlement north america way bering land bridge upward sun river site tanana valley alaska remains six week old infant found baby dna showed belonged population genetically separate native groups present elsewhere new world end pleistocene ben potter university alaska fairbanks archaeologist unearthed remains upward sun river site named new group ancient beringian tlingit people developed society matrilineal kinship system property inheritance descent today southeast alaska along parts british columbia yukon also southeast haida well known unique arts tsimshian people came alaska british columbia president grover cleveland later congress granted permission settle annette island found town metlakatla alaska three peoples well indigenous peoples pacific northwest coast experienced smallpox outbreaks late th mid th century devastating epidemics occurring resulting high fatalities social disruption colonization kodiak town kodiak island left miners prospectors climb chilkoot trail klondike gold rush left researchers believe first russian settlement alaska established th century according hypothesis several koches semyon dezhnyov expedition came ashore alaska storm founded settlement hypothesis based testimony chukchi geographer nikolai daurkin visited alaska reported village kheuveren river populated bearded men pray icons modern researchers associate kheuveren koyuk river first european vessel reach alaska generally held st gabriel authority surveyor gvozdev assistant navigator fyodorov august expedition siberian cossack shestakov russian explorer dmitry pavlutsky another european contact alaska occurred vitus bering led expedition russian navy aboard st peter crew returned russia sea otter pelts judged finest fur world small associations fur traders began sail shores siberia toward aleutian islands first permanent european settlement founded spain sent several expeditions alaska assert claim pacific northwest spanish settlement fort built nootka sound expeditions gave names places valdez bucareli sound cordova later russian american company carried expanded colonization program early mid th century sitka renamed new archangel baranof island alexander archipelago southeast alaska became capital russian america remained capital colony transferred united states russians never fully colonized alaska colony never profitable evidence russian settlement names churches survive throughout southeastern alaska william seward united states secretary state president andrew johnson negotiated alaska purchase referred pejoratively seward folly russians million russia contemporary ruler tsar alexander ii emperor russian empire king poland grand duke finland also planned sale purchase made march six months later commissioners arrived sitka formal transfer arranged formal flag raising took place fort sitka october ceremony uniformed soldiers marched governor house castle hill russian troops lowered russian flag flag raised event celebrated alaska day legal holiday october alaska loosely governed military initially administered district starting governor appointed united states president federal district court headquartered sitka alaska first decade united states flag sitka community inhabited american settlers organized provisional city government alaska first municipal government legal sense legislation allowing alaskan communities legally incorporate cities come home rule cities extremely limited unavailable statehood took effect territorial incorporation starting stretching places early gold rushes alaska nearby yukon territory brought thousands miners settlers alaska alaska produced cumulative total inflation adjusted mineral production alaska officially incorporated organized territory alaska capital sitka moved north juneau construction alaska governor mansion began year european immigrants norway sweden also settled southeast alaska entered fishing logging industries troops navigate snow ice battle attu may world war ii aleutian islands campaign focused attu agattu kiska occupied empire japan japanese occupation american civilian two united states navy personnel killed attu kiska respectively nearly total aleut civilians eight sailors interned japan half aleuts died period internment unalaska dutch harbor adak became significant bases united states army united states army air forces united states navy united states lend lease program involved flying american warplanes canada fairbanks nome soviet pilots took possession aircraft ferrying fight german invasion soviet union construction military bases contributed population growth alaskan cities statehood bob bartlett ernest gruening alaska inaugural senators hold star flag admission alaska th state statehood alaska important cause james wickersham early tenure congressional delegate decades later statehood movement gained first real momentum following territorial referendum alaska statehood committee alaska constitutional convention would soon follow statehood supporters also found fighting major battles political foes mostly congress also within alaska statehood approved congress july alaska officially proclaimed state january good friday earthquake march massive good friday earthquake killed people destroyed several villages portions large coastal communities mainly resultant tsunamis landslides fourth powerful earthquake recorded history moment magnitude thousand times powerful san francisco earthquake time day pm time year spring location epicenter cited factors potentially sparing thousands lives particularly anchorage alaska suffered severe megathrust earthquake july estimated magnitude remains powerful earthquake recorded north american history second powerful earthquake recorded world history good friday earthquake lasted minutes seconds fault ruptured moved releasing years stress buildup soil liquefaction fissures landslides ground failures caused major structural damage several communities much damage property anchorage sustained great destruction damage many inadequately earthquake engineered houses buildings infrastructure paved streets sidewalks water sewer mains electrical systems human made equipment particularly several landslide zones along knik arm southwest areas near kodiak permanently raised southeast anchorage areas around head turnagain arm near girdwood portage dropped much requiring reconstruction fill raise seward highway new high tide mark prince william sound port valdez suffered massive underwater landslide resulting deaths people collapse valdez city harbor docks inside ship docked time nearby tsunami destroyed village chenega killing people lived survivors ran wave climbing high ground post quake tsunamis severely affected whittier seward kodiak alaskan communities well people property british columbia washington oregon california tsunamis also caused damage hawaii japan evidence motion directly related earthquake also reported florida texas alaska never experienced major disaster highly populated area limited resources dealing effects event anchorage urging geologist lidia selkregg city anchorage alaska state housing authority appointed team scientists including geologists soil scientists engineers assess damage done earthquake city team called engineering geological evaluation group headed ruth schmidt geology professor university alaska anchorage team scientists came conflict local developers downtown business owners wanted immediately rebuild scientists wanted identify future dangers ensure rebuilt infrastructure would safe team produced report may little month earthquake united states military large active presence alaska also stepped assist within moments end quake army rapidly established communications lower states deployed troops assist citizens anchorage dispatched convoy valdez advice military civilian leaders president lyndon johnson declared alaska major disaster area day quake navy coast guard deployed ships isolated coastal communities assist immediate needs bad weather poor visibility hampered air rescue observation efforts day quake sunday th situation improved rescue helicopters observation aircraft deployed military airlift immediately began shipping relief supplies alaska eventually delivering food supplies broadcast journalist genie chance assisted recovery relief efforts staying keni air waves anchorage continuous hours voice calm temporary post within anchorage public safety building effectively designated public safety officer city police chief chance provided breaking news catastrophic events continued develop following magnitude earthquake served voice public safety office coordinating response efforts connecting available resources needs around community disseminating information shelters prepared food rations passing messages well loved ones helping reunite families longer term army corps engineers led effort rebuild roads clear debris establish new townsites communities completely destroyed cost million west coast alaska tsunami warning center formed direct response disaster federal disaster relief funds paid reconstruction well financially supporting devastated infrastructure alaska government spending hundreds millions dollars helped keep alaska financially solvent discovery massive oil deposits prudhoe bay order defense department alaska national guard founded alaska division emergency services respond future disasters oil boom discovery oil prudhoe bay completion trans alaska pipeline system led oil boom royalty revenues oil funded large state budgets onward oil pooled rocks shore prince william sound exxon valdez oil spill oil production economic value alaska land second half th century alaska discovered tourism important source revenue tourism became popular world war ii military personnel stationed region returned home praising natural splendor alcan highway built war alaska marine highway system completed made state accessible tourism became increasingly important alaska today million people visit state year tourism vital economy also rose importance alaska national interest lands conservation act anilca added million acres km national wildlife refuge system parts rivers national wild scenic rivers system million acres km national forest lands million acres km national park land act alaska contains two thirds american national parklands today half alaskan land owned federal government exxon valdez hit reef prince william sound spilling million gallons megalitres crude oil coastline today battle philosophies development conservation seen contentious debate oil drilling arctic national wildlife refuge proposed pebble mine geography located northwest corner north america alaska northernmost westernmost state united states also easterly longitude united states aleutian islands extend eastern hemisphere alaska non contiguous state continental north america canadian territory consisting british columbia canada separates alaska washington technically part continental usually included colloquial use term alaska part contiguous often called lower capital city juneau situated mainland north american continent connected road rest north american highway system largest lake alaska lake illiamna state bordered canada yukon british columbia east making state border canadian territory gulf alaska pacific ocean south southwest bering sea bering strait chukchi sea west arctic ocean north alaska territorial waters touch russia territorial waters bering strait russian big diomede island alaskan little diomede island apart alaska longer coastline states combined contiguous states albers equal area conic projection total area alaska far largest state united states alaska twice size second largest state texas larger next three largest states texas california montana combined alaska seventh largest subnational division world independent nation would th largest country world almost size iran myriad islands alaska nearly tidal shoreline aleutian islands chain extends west southern tip alaska peninsula many active volcanoes found aleutians coastal regions unimak island example home mount shishaldin occasionally smoldering volcano rises north pacific chain volcanoes extends mount spurr west anchorage mainland geologists identified alaska part wrangellia large region consisting multiple states canadian provinces pacific northwest actively undergoing continent building one world largest tides occurs turnagain arm south anchorage tidal differences alaska natural lakes least one hectare bigger marshlands wetland permafrost cover mostly northern western southwest flatlands glacier ice covers alaska bering glacier largest glacier north america covering alone regions officially defined borders demarcating various regions alaska five six regions state commonly broken south central populous region alaska containing anchorage matanuska susitna valley kenai peninsula rural mostly unpopulated areas south alaska range west wrangell mountains also fall within definition south central prince william sound area communities cordova valdez southeast also referred panhandle inside passage region alaska closest contiguous states initial non indigenous settlement occurred years following alaska purchase region dominated alexander archipelago well tongass national forest largest national forest united states contains state capital juneau former capital sitka ketchikan one time alaska largest city alaska marine highway provides vital surface transportation link throughout area country three communities haines hyder skagway enjoy direct connections contiguous north american road system interior denali highest peak north america interior largest region alaska much uninhabited wilderness fairbanks large city region denali national park preserve located denali formerly mount mckinley highest mountain north america also located north slope north slope mostly tundra peppered small villages area known massive reserves crude oil contains national petroleum reserve alaska prudhoe bay oil field city utqiavik formerly known barrow northernmost city united states located northwest arctic area anchored kotzebue also containing kobuk river valley often considered part region respective inupiat north slope northwest arctic seldom consider one people southwest southwest alaska sparsely inhabited region stretching inland bering sea population lives along coast kodiak island also located southwest massive yukon kuskokwim delta one largest river deltas world portions alaska peninsula considered part southwest aleutian islands often always grouped well aleutian islands although entirely east international date line triangular kink line agreed upon acquisition alaska aleutian islands cross th meridian contain westernmost amatignak easternmost semisopochnoi points united states primarily part southwest alaska grouped economically aleutian islands sometimes recognized alternate group rest region due geographic separation continent small volcanic islands make chain stretches pacific ocean islands fall eastern hemisphere international date line drawn west keep whole state thus entire north american continent within legal day two islands attu kiska occupied japanese forces world war ii land ownership according october report united states bureau land management approximately alaska owned managed federal government public lands including multitude national forests national parks national wildlife refuges bureau land management manages state arctic national wildlife refuge managed united states fish wildlife service world largest wildlife refuge comprising remaining land area state alaska owns entitlement alaska statehood act portion acreage occasionally ceded organized boroughs presented statutory provisions pertaining newly formed boroughs smaller portions set aside rural subdivisions homesteading related opportunities popular due often remote roadless locations university alaska land grant university also owns substantial acreage manages independently another owned regional scores local native corporations created alaska native claims settlement act ancsa regional native corporation doyon limited often promotes largest private landowner alaska advertisements communications provisions ancsa allowing corporations land holdings sold open market starting repealed could take effect effectively corporations hold title including subsurface title many cases privilege denied individual alaskans sell land individual native allotments sold open market various private interests remaining land totaling one percent state alaska large margin state smallest percentage private land ownership native corporation holdings excluded alaska heritage resources survey alaska heritage resources survey ahrs restricted inventory reported historic prehistoric sites within state alaska maintained office history archaeology survey inventory cultural resources includes objects structures buildings sites districts travel ways general provision fifty years old sites reported cities towns boroughs anchorage alaska largest city fairbanks alaska second largest city significant margin largest city alaska interior juneau alaska third largest city capital bethel largest city unorganized borough rural alaska homer showing bottom top edge downtown airport spit utqiavik browerville neighborhood near eben hopson middle school shown known colloquially many years nickname top world northernmost city united states cordova built early th century support kennecott mines copper river northwestern railway preserved fishing community since closure main street talkeetna alaska divided counties states divided boroughs delegates alaska constitutional convention wanted avoid pitfalls traditional county system adopted unique model many densely populated parts state part alaska boroughs function somewhat similarly counties states unlike county equivalents states boroughs cover state entire land area area part borough referred unorganized borough unorganized borough government census bureau cooperation state divided unorganized borough census areas solely purposes statistical analysis presentation recording district mechanism management public record alaska state divided recording districts centrally administered state recorder recording districts use acceptance criteria fee schedule etc accepting documents public record whereas many states use three tiered system state county township alaska uses two tiers state borough owing low population density land located unorganized borough name implies intermediate borough government administered directly state government alaska area status population anchorage merged city government greater anchorage area borough form municipality anchorage containing city proper communities eagle river chugiak peters creek girdwood bird indian fairbanks separate borough fairbanks north star borough municipality city fairbanks state populous city anchorage home people richest location alaska per capita income denali yakutat city sitka juneau anchorage four largest cities area cities census designated places population reflected united states census alaska total incorporated cities census designated places cdps tally cities includes four unified municipalities essentially equivalent consolidated city county majority communities located rural expanse alaska known bush unconnected contiguous north american road network table bottom section lists largest cities census designated places alaska population order alaska census population figure people population live incorporated city census designated place approximately three quarters figure people live urban suburban neighborhoods outskirts city limits ketchikan kodiak palmer wasilla cdps established areas united states census bureau except seven cdps established ketchikan area neighborhoods census clover pass herring cove ketchikan east mountain point alaska route pennock island saxman east used since remaining population scattered throughout alaska within organized boroughs unorganized borough largely remote areas community name type pop anchorage city fairbanks city juneau city knik fairview cdp badger cdp college cdp north lakes cdp meadow lakes cdp wasilla city tanaina cdp kalifornsky cdp sitka city ketchikan city kenai city steele creek cdp bethel city chena ridge cdp sterling cdp palmer city gateway cdp kodiak city homer city south lakes cdp fishhook cdp utqiavik city farmers loop cdp nikiski cdp soldotna city unalaska city mill bay cdp valdez city big lake cdp nome city butte cdp goldstream cdp kotzebue city petersburg city farm loop cdp seward city eielson afb cdp cordova city ester cdp deltana cdp dillingham city fritz creek cdp north pole city willow cdp ridgeway cdp bear creek cdp wrangell city community name type pop anchor point cdp houston city point mackenzie cdp kodiak station cdp haines cdp akutan city susitna north cdp lazy mountain cdp cohoe cdp metlakatla cdp hooper bay city diamond ridge cdp prudhoe bay cdp tok cdp skagway cdp funny river cdp salamatof cdp talkeetna cdp sutton alpine cdp craig city buffalo soapstone cdp salcha cdp healy cdp chevak city hoonah city delta junction city ninilchik cdp savoonga city point hope city emmonak city togiak city kwethluk city selawik city knik river cdp quinhagak city unalakleet city king cove city alakanuk city womens bay cdp klawock city happy valley cdp kipnuk cdp noorvik city akiachak cdp toksook bay city yakutat cdp gustavus cdp kotlik cdp two rivers cdp fox river cdp climate alaska acreage public land owned federal government state alaska coldest state united states climate south southeastern alaska mid latitude oceanic climate kppen climate classification cfb subarctic oceanic climate kppen cfc northern parts cool summers relatively mild winters annual basis southeast wettest warmest part alaska milder temperatures winter high precipitation throughout year juneau averages precipitation year ketchikan averages also region alaska average daytime high temperature freezing winter months kppen climate types alaskathe climate anchorage south central alaska mild alaskan standards due region proximity seacoast area gets less rain southeast alaska gets snow days tend clearer average anchorage receives precipitation year around snow although areas south central receive far snow subarctic climate kppen dfc due brief cool summers climate western alaska determined large part bering sea gulf alaska subarctic oceanic climate southwest continental subarctic climate farther north temperature somewhat moderate considering far north area region tremendous amount variety precipitation area stretching northern side seward peninsula kobuk river valley region around kotzebue sound technically desert portions receiving less precipitation annually extreme locations dillingham bethel average around precipitation climate interior alaska subarctic classic example continental subarctic climate except valleys climate approaches humid continental kppen dfb highest lowest temperatures alaska occur around area near fairbanks summers warm albeit generally short may temperatures reaching low mid long cold winters temperature fall precipitation sparse interior often less year precipitation falls winter tends stay entire winter highest lowest recorded temperatures alaska interior highest fort yukon inside arctic circle june making alaska tied hawaii state lowest high temperature united states lowest official alaska temperature prospect creek january one degree lowest temperature recorded continental north america snag yukon canada climate extreme north alaska north brooks range arctic kppen et long cold winters short cool summers even july average low temperature utqiavik precipitation light part alaska many places averaging less per year mostly snow stays ground almost entire year average daily maximum minimum temperatures selected locations alaska location july july january january anchorage juneau ketchikan unalaska fairbanks fort yukon nome utqiavik flora fauna demographics united states census bureau found united states census population alaska april increase since united states census according united states census state alaska population increase census alaska ranked th largest state population ahead vermont wyoming alaska least densely populated state one sparsely populated areas world next state wyoming alaska far largest state area tenth wealthiest per capita income due population size one states still one telephone area code according hud annual homeless assessment report estimated homeless people alaska race ethnicity alaska racial breakdown population racial composition white native asian black native hawaiian pacific islander race multiracial ethnic origins alaska map largest racial ethnic group borough red indicates native american blue indicates non hispanic white green indicates asian darker shades indicate higher proportion population american community survey estimated population non hispanic white black african american american indian alaska native asian native hawaiian pacific islander two races hispanic latin american race survey estimates total population foreign born non hispanic white black african american american indian alaska native asian native hawaiian pacific islander race multiracial hispanics latin americans state population largest hispanic latin american groups mexican americans puerto ricans cuban americans largest asian groups living state filipinos korean americans japanese chinese americans state white non hispanic white american indian alaska native asian black african american native hawaiian pacific islander race two races hispanics latin americans race made population alaska population younger one year age belonged minority groups two parents non hispanic white ancestry united states census bureau reported alaska population white black american indian alaska native top countries origin alaska immigrants philippines mexico canada thailand korea languages according american community survey people age five spoke english home spoke spanish home spoke another indo european language spoke asian language including tagalog spoke languages home american community survey determined spoke english spoke another language english spoken european language english spanish spoken approximately state population collectively asian pacific islander languages spoken alaskans since total alaskans speak one state indigenous languages known locally native languages alaska native language center university alaska fairbanks claims least alaskan native languages exist also languages different dialects alaska native languages belong either eskimo aleut na dene language families languages thought isolates haida yet classified tsimshianic nearly alaska native languages classified either threatened shifting moribund nearly extinct dormant languages october governor alaska signed bill declaring state indigenous languages official status bill gave symbolic recognition official languages though adopted official use within government languages included bill inupiaq siberian yupik central alaskan yup ik alutiiq unangax dena ina deg xinag holikachuk koyukon upper kuskokwim gwich tanana upper tanana tanacross hn ahtna eyak tlingit haida tsimshian religion st michael russian orthodox cathedral downtown sitka left pxmultiple surveys ranked alaska among irreligious states according statistics collected association religion data archives arda alaska residents members religious congregations religious population roughly mormon jewish muslim buddhist bah hindu largest religious denominations alaska catholic church adherents non denominational evangelicals adherents church jesus christ latter day saints adherents southern baptist convention adherents alaska identified along washington oregon pacific northwest least religious states united states terms church membership pew research center determined adult population practiced christianity christian denominations catholicism largest christian group protestant denominations combined protestantism largest christian tradition evangelicalism largest movement within protestant group unaffiliated population made largest non christian religious affiliation atheists made population largest non christian religion buddhism public religion research institute prri determined adults christian christianity increased population according prri association religion data archives christian population dominated non inter denominational protestantism single largest christian cohort adherents roman catholics second members throughout christian population non denominational christians adherence rate per residents catholics per residents per pew study religion seen important population although considered somewhat important pew determined roughly believed god absolute certainty believed fairly certainly reflecting separate arda study pew study showed attended religious services week twice month seldom never gospel coalition published article using pew data determined non churchgoing christians nationwide attend religious services often following practicing faith ways finding house worship liked disliking sermons feeling unwelcomed logistics first russian orthodox church established kodiak intermarriage alaskan natives helped russian immigrants integrate society result increasing number russian orthodox churches gradually became established within alaska alaska also largest quaker population percentage state jews alaska observance halakha may pose special problems alaskan hindus often share venues celebrations members asian religious communities including sikhs jains alaskan hindus established sri ganesha temple alaska making first hindu temple alaska northernmost hindu temple world estimated hindus alaska vast majority hindus live anchorage fairbanks estimates number muslims alaska range arda estimated muslims state islamic community center anchorage began efforts late construct mosque anchorage broke ground building south anchorage nearing completion late completed mosque first state one northernmost mosques world also bah center adherents additionally adherents hinduism yoga altogether small number buddhists present economy aerial view infrastructure prudhoe bay oil fieldas october alaska total employment number employer establishments gross state product billion th per capita personal income ranking th nation according study phoenix marketing international alaska fifth largest number millionaires per capita united states ratio percent oil gas industry dominates alaskan economy state revenues derived petroleum extraction alaska main export product excluding oil natural gas seafood primarily salmon cod pollock crab agriculture represents small fraction alaskan economy agricultural production primarily consumption within state includes nursery stock dairy products vegetables livestock manufacturing limited foodstuffs general goods imported elsewhere employment primarily government industries natural resource extraction shipping transportation military bases significant component economy fairbanks north star anchorage kodiak island boroughs well kodiak federal subsidies also important part economy allowing state keep taxes low industrial outputs crude petroleum natural gas coal gold precious metals zinc mining seafood processing timber wood products also growing service tourism sector tourists contributed economy supporting local lodging energy trans alaska pipeline transports oil alaska financially important export north slope valdez heat pipes column mounts pertinent since disperse heat upwards prevent melting permafrost proven oil reserves peaked declined since alaskan oil production peaked declined since alaska vast energy resources although oil reserves largely depleted major oil gas reserves found alaska north slope ans cook inlet basins according energy information administration february alaska fallen fourth place nation crude oil production texas north dakota california prudhoe bay alaska north slope still second highest yielding oil field united states typically producing although early north dakota bakken formation producing prudhoe bay largest conventional oil field ever discovered north america much smaller canada enormous athabasca oil sands field producing unconventional oil hundreds years producible reserves rate trans alaska pipeline transport pump crude oil per day crude oil pipeline united states additionally substantial coal deposits found alaska bituminous sub bituminous lignite coal basins united states geological survey estimates undiscovered technically recoverable gas natural gas hydrates alaskan north slope alaska also offers highest hydroelectric power potential country numerous rivers large swaths alaskan coastline offer wind geothermal energy potential well alaska economy depends heavily increasingly expensive diesel fuel heating transportation electric power light although wind hydroelectric power abundant underdeveloped proposals statewide energy systems judged uneconomical time report due low less gal fuel prices long distances low population cost gallon gas urban alaska usually thirty sixty cents higher national average prices rural areas generally significantly higher vary widely depending transportation costs seasonal usage peaks nearby petroleum development infrastructure many factors permanent fund alaska permanent fund authorized appropriation oil revenues established voters manage surplus state petroleum revenues oil largely anticipation recently constructed trans alaska pipeline system fund originally proposed governor keith miller eve prudhoe bay lease sale fear legislature would spend entire proceeds sale amounted million later championed governor jay hammond kenai state representative hugh malone served attractive political prospect ever since diverting revenues would normally deposited general fund alaska constitution written discourage dedicating state funds particular purpose permanent fund become rare exception mostly due political climate distrust existing time creation initial principal fund grown billion result oil royalties capital investment programs principal invested conservatively outside alaska led frequent calls alaskan politicians fund make investments within alaska though stance never gained momentum starting dividends fund annual growth paid year eligible alaskans ranging initial equal three years payout distribution payments held lawsuit distribution scheme included one time resource rebate every year state legislature takes earnings puts back principal inflation proofing remaining distributed qualifying alaskans qualify permanent fund dividend one must lived state minimum months maintain constant residency subject allowable absences subject court judgments criminal convictions fall various disqualifying classifications may subject payment amount civil garnishment permanent fund often considered one leading examples basic income policy world cost living cost goods alaska long higher contiguous states federal government employees particularly united states postal service usps workers active duty military members receive cost living allowance usually set base pay cost living gone still one highest country rural alaska suffers extremely high prices food consumer goods compared rest country due relatively limited transportation infrastructure agriculture fishing halibut sport fish commercially important state economy due northern climate short growing season relatively little farming occurs alaska farms either matanuska valley northeast anchorage kenai peninsula southwest anchorage short day growing season limits crops grown long sunny summer days make productive growing seasons primary crops potatoes carrots lettuce cabbage tanana valley another notable agricultural locus especially delta junction area southeast fairbanks sizable concentration farms growing agronomic crops farms mostly lie north east fort greely area largely set aside developed state program spearheaded hammond second term governor delta area crops consist predominantly barley hay west fairbanks lies another concentration small farms catering restaurants hotel tourist industry community supported agriculture alaskan agriculture experienced surge growth market gardeners small farms farmers markets recent years highest percentage increase nation growth farmers markets compared nationwide peony industry also taken growing season allows farmers harvest gap supply elsewhere world thereby filling niche flower market alaska counties lacks county fairs instead small assortment state local fairs alaska state fair palmer largest held mostly late summer fairs mostly located communities historic current agricultural activity feature local farmers exhibiting produce addition high profile commercial activities carnival rides concerts food alaska grown used agricultural slogan alaska abundance seafood primary fisheries bering sea north pacific seafood one food items often cheaper within state outside many alaskans take advantage salmon seasons harvest portions household diet fishing subsistence well sport includes fish taken hook net wheel hunting subsistence primarily caribou moose dall sheep still common state particularly remote bush communities example traditional native food akutaq eskimo ice cream consist reindeer fat seal oil dried fish meat local berries alaska reindeer herding concentrated seward peninsula wild caribou prevented mingling migrating domesticated reindeer food alaska transported state outside states shipping costs make food cities relatively expensive rural areas subsistence hunting gathering essential activity imported food prohibitively expensive although small towns villages alaska lie along coastline cost importing food remote villages high terrain difficult road conditions change dramatically due varying climate precipitation changes transport costs reach per pound kg higher remote areas times inclement weather rough terrain conditions locations reached cost delivering gallon milk many villages per capita income less fuel cost per gallon routinely twenty thirty cents higher contiguous united states average hawaii higher prices culture dog team iditarod trail sled dog race arguably popular winter event alaska utqiavik alaska popular annual events iditarod trail sled dog race anchorage nome world ice art championships fairbanks blueberry festival alaska hummingbird festival ketchikan sitka whale fest stikine river garnet fest wrangell stikine river attracts largest springtime concentration american bald eagles world alaska native heritage center celebrates rich heritage alaska cultural groups purpose encourage cross cultural exchanges among people enhance self esteem among native people alaska native arts foundation promotes markets native art regions cultures state using internet music influences music alaska include traditional music alaska natives well folk music brought later immigrants russia europe prominent musicians alaska include singer jewel traditional aleut flautist mary youngblood folk singer songwriter libby roderick christian music singer songwriter lincoln brewster metal post hardcore band crazyfists groups pamyua portugal man many established music festivals alaska including alaska folk festival fairbanks summer arts festival anchorage folk festival athabascan old time fiddling festival sitka jazz festival sitka summer music festival anchorage chamber music festival prominent orchestra alaska anchorage symphony orchestra though fairbanks symphony orchestra juneau symphony also notable anchorage opera currently state professional opera company though several volunteer semi professional organizations state well official state song alaska alaska flag adopted celebrates flag alaska film television disney movie never cry wolf least partially shot alaska film white fang based jack london novel starring ethan hawke filmed around haines steven seagal deadly ground starring michael caine filmed part worthington glacier near valdez many reality television shows filmed alaska anchorage daily news found ten set state sports following list sporting venues events teams based alaska anchorage venues aces game sully alyeska resort chugach state park high alpine park anchorage many groomed cross country skiing trails within urban core maintained ski trails city reach downtown mulcahy stadium sullivan arena alaska airlines center teams anchorage wolverines anchorage bucs anchorage glacier pilots alaska anchorage seawolves men ice hockey rage city rollergirls arctic rush soccer cook inlet sc soccer pioneer united fc men soccer events great alaska shootout annual ncaadivision basketball tournament sadler ultra challenge wheelchair race fairbanks anchorage tour anchorage annual kilometer mi ski race within city world eskimo indian olympics fairbanks venues carlson center teams alaska goldpanners fairbanks alaska nanooks men ice hockey fairbanks ice dogs fairbanks rollergirls fairbanks sc soccer events sadler ultra challenge wheelchair race fairbanks anchorage sonot kkaazoot world eskimo indian olympics elsewhere teams matsu united fc men soccer denali destroyer dolls kenai river brown bears mat su miners peninsula oilers events alaska mountain wilderness classic arctic winter games mount marathon race world extreme skiing championship dog mushing iditarod trail sled dog race iron dog junior iditarod kuskokwim tustumena yukon quest public health safety alaska state troopers alaska statewide police force long storied history official organization force officially organized law enforcement alaska handled various federal agencies larger towns usually local police villages rely public safety officers police training carry firearms much state troopers serve police force available addition enforcing traffic criminal law wildlife troopers enforce hunting fishing regulations due varied terrain wide scope troopers duties employ wide variety land air water patrol vehicles many rural communities alaska considered dry outlawed importation alcoholic beverages suicide rates rural residents higher urban domestic abuse violent crimes also high levels state part linked alcohol abuse alaska highest rate sexual assault nation especially rural areas average age sexually assaulted victims years old four five cases suspects relatives friends acquaintances health insurance cvs health premera account private health insurance respectively premera moda health offer insurance federally run affordable care exchange hospitals providence alaska medical center anchorage largest hospital state anchorage also hosts alaska regional hospital alaska native medical center alaska major cities fairbanks juneau also local hospitals southeast alaska southeast alaska regional health consortium runs healthcare facilities across communities including hospitals sitka wrangell although originally served native americans expanded access combined local facilities time education kachemak bay campus university alaska anchorage located downtown homer alaska department education early development administers many school districts alaska addition state operates boarding school mt edgecumbe high school sitka provides partial funding boarding schools including nenana student living center nenana galena interior learning academy galena dozen colleges universities alaska accredited universities alaska include university alaska anchorage university alaska fairbanks university alaska southeast alaska pacific university alaska state collegiate athletic programs members ncaa division although alaska fairbanks alaska anchorage maintain single sport membership division men ice hockey alaska department labor workforce development operates avtec alaska institute technology campuses seward anchorage offer one week month training programs areas diverse information technology welding nursing mechanics alaska problem brain drain many young people including highest academic achievers leave state high school graduation return alaska law school medical school university alaska attempted combat offering partial four year scholarships top alaska high school graduates via alaska scholars program beginning schools rural alaska must least students retain funding state campuses meeting number close due loss oil revenues previously propped smaller rural schools proposal raise minimum legislators state largely agree republican young held alaska sole house seat years transportation road alaska road connections compared rest state road system covering relatively small area state linking central population centers alaska highway principal route state canada state capital juneau accessible road access ferry flight spurred debate decades moving capital city road system building road connection haines western part alaska road system connecting communities rest alaska interstate highways alaska consists total one unique feature alaska highway system anton anderson memorial tunnel active alaska railroad tunnel recently upgraded provide paved roadway link isolated community whittier prince william sound seward highway southeast anchorage portage tunnel longest road tunnel north america tunnel longest combination road rail tunnel north america southwest alaska largely coastal sparsely populated unconnected road system access communities southwest alaska primarily air taxi although larger towns like kodiak bethel king salmon dillingham dutch harbor accessible scheduled air service additionally coastal communities reached via alaska marine highway ferry file sterling highway jpg sterling highway near intersection seward highway file susitnabridge jpg susitna river bridge denali highway long file interstate routes alaska svg alaska interstate highways file alaskasign jpg right alaska welcome sign klondike highway rail built around alaska railroad arr played key role development alaska th century links shipping lanes north pacific interior alaska tracks run seward way south central alaska passing anchorage eklutna wasilla talkeetna denali fairbanks spurs whittier palmer north pole cities towns villages region served arr tracks known statewide railbelt recent years ever improving paved highway system began eclipse railroad importance alaska economy railroad played vital role alaska development moving freight alaska transporting natural resources southward coal usibelli coal mine near healy seward gravel matanuska valley anchorage well known summertime tour passenger service alaska railroad one last railroads north america use cabooses regular service still uses gravel trains continues offer one last flag stop routes country stretch track along area north talkeetna remains inaccessible road railroad provides transportation rural homes cabins area construction parks highway railroad provided land access region along entire route northern southeast alaska white pass yukon route also partly runs state skagway northwards canada british columbia yukon territory crossing border white pass summit line mainly used tourists often arriving cruise liner skagway featured bbc television series great little railways two railroads connected neither railroad nearest link north american railway network northwest terminus canadian national railway prince rupert british columbia several hundred miles southeast congress authorized million study feasibility rail link alaska canada lower alaska alberta railway development corporation placed receivership private companies provides car float service whittier seattle file alaska railroad girdwood alaska estados unidos dd jpg alaska railroad locomotive bridge girdwood approaching anchorage file skagway hoonah angoon census area tunnel jpg white pass yukon route traverses rugged terrain north skagway near canada us border sea many cities towns villages state road highway access modes access involve travel air river sea named tustumena glacier one state many ferries providing service kenai peninsula kodiak island aleutian chain alaska well developed state owned ferry system known alaska marine highway serves cities southeast gulf coast alaska peninsula ferries transport vehicles well passengers system also operates ferry service bellingham washington prince rupert british columbia canada inside passage skagway inter island ferry authority also serves important marine link many communities prince wales island region southeast works concert alaska marine highway recent years cruise lines created summertime tourism market mainly connecting pacific northwest southeast alaska lesser degree towns along alaska gulf coast population ketchikan example fluctuates dramatically many days four large cruise ships dock time air cities served road sea river reached air foot dogsled snowmachine accounting alaska extremely well developed bush air services alaskan novelty anchorage lesser extent fairbanks served many major airlines limited highway access air travel remains efficient form transportation state anchorage recently completed extensive remodeling construction ted stevens anchorage international airport help accommodate upsurge tourism alaska received almost two million visitors making regular flights villages towns within state commercially viable difficult heavily subsidized federal government essential air service program alaska airlines major airline offering state travel jet service sometimes combination cargo passenger boeing anchorage fairbanks regional hubs like bethel nome kotzebue dillingham kodiak larger communities well major southeast alaska peninsula communities bombardier dash operated era alaska approach ted stevens anchorage international airport bulk remaining commercial flight offerings come small regional commuter airlines ravn alaska penair frontier flying service smallest towns villages must rely scheduled chartered bush flying services using general aviation aircraft cessna caravan popular aircraft use state much service attributed alaska bypass mail program subsidizes bulk mail delivery alaskan rural communities program requires subsidy go carriers offer passenger service communities many communities small air taxi services operations originated demand customized transport remote areas perhaps alaskan plane bush seaplane world busiest seaplane base lake hood located next ted stevens anchorage international airport flights bound remote villages without airstrip carry passengers cargo many items stores warehouse clubs alaska highest number pilots per capita state alaska active pilot certificates snow another alaskan transportation method dogsled modern times time mid late dog mushing sport true means transportation various races held around state best known iditarod trail sled dog race trail anchorage nome although distance varies year year official distance set race commemorates famous serum run nome mushers dogs like togo balto took much needed medicine diphtheria stricken community nome means transportation failed mushers world come anchorage march compete cash prizes prestige serum run another sled dog race accurately follows route famous relay leaving community nenana southwest fairbanks nome areas served road rail primary transportation summer terrain vehicle winter snowmobile snow machine commonly referred alaska communication alaska internet data transport systems provided largely two major companies gci alaska communications gci owns operates calls alaska united fiber optic system late alaska communications advertised two fiber optic paths lower two across alaska january reported billion project connect asia rural alaska planned aided part million stimulus federal government law government state government juneau large buildings background left right court plaza building known colloquially spam state office building behind alaska office building john dimond state courthouse alaska state capitol many smaller buildings foreground also occupied state government agencies like states alaska governed republic three branches government executive branch consisting governor alaska appointees head executive departments legislative branch consisting alaska house representatives alaska senate judicial branch consisting alaska supreme court lower courts state alaska employs approximately people statewide alaska state legislature consists member house representatives member senate senators serve four year terms house members two governor alaska serves four year terms lieutenant governor runs separately governor primaries general election nominee governor nominee lieutenant governor run together ticket alaska court system four levels alaska supreme court alaska court appeals superior courts district courts superior district courts trial courts superior courts courts general jurisdiction district courts hear certain types cases including misdemeanor criminal cases civil cases valued supreme court court appeals appellate courts court appeals required hear appeals certain lower court decisions including regarding criminal prosecutions juvenile delinquency habeas corpus supreme court hears civil appeals may discretion hear criminal appeals state politics gubernatorial election results year democratic republican others although early years statehood alaska democratic state since early characterized republican leaning local political communities often worked issues related land use development fishing tourism individual rights alaska natives organized around communities active within native corporations given ownership large tracts land require stewardship alaska formerly state possession one ounce less marijuana one home completely legal state law though federal law remains force state independence movement favoring vote secession united states alaskan independence party six republicans four democrats served governor alaska addition republican governor wally hickel elected office second term leaving republican party briefly joining alaskan independence party ticket long enough reelected officially rejoined republican party alaska voter initiative making marijuana legal took effect february placing alaska alongside colorado washington well washington first three states recreational marijuana legal new law means people consume small amounts cannabis first legal marijuana store opened valdez october voter registration party registration june party total voters percentage unaffiliated republican democratic alaskan independence minor parties total taxes finance state government operations alaska depends primarily petroleum revenues federal subsidies allows lowest individual tax burden united states one five states sales tax one seven states individual income tax along new hampshire one two neither department revenue tax division reports regularly state revenue sources department also issues annual summary operations including new state laws directly affect tax division tax foundation ranked alaska fourth business friendly tax policy behind wyoming south dakota nevada alaska state sales tax municipalities collect local sales tax typically local taxes levied include raw fish taxes hotel motel bed breakfast bed taxes severance taxes liquor tobacco taxes gaming pull tabs taxes tire taxes fuel transfer taxes part revenue collected certain state taxes license fees petroleum aviation motor fuel telephone cooperative shared municipalities alaska fall oil prices fracking boom early decimated alaska state treasury historically received percent revenue taxes fees imposed oil gas companies state government drastically reduce budget brought budget shortfall billion million alaska state government budget billion projected government revenues billion federal politics line graph showing presidential vote party alaska alaska regularly supports republicans presidential elections done since statehood republicans state electoral college votes one election participated state voted democratic presidential candidate fewer times alaska carried democratic nominee lyndon johnson landslide election elections close since republicans carried state large margins republican john mccain defeated democrat barack obama alaska mccain running mate sarah palin state governor first alaskan major party ticket obama lost alaska captured state vote election making first democrat since joe biden received vote president marking high point democratic presidential candidate since johnson victory alaska bush central juneau midtown downtown anchorage areas surrounding university alaska fairbanks campus ester strongholds democratic party matanuska susitna borough majority fairbanks including north pole military base south anchorage typically strongest republican showing elections alaska history primary defeats incumbent senators including ernest gruening mike gravel lisa murkowski however murkowski election write campaign despite alaska also seen long serving members congress ted stevens served senator years young held alaska sole house seat years election cycle alaskan voters approved ballot measure measure passed margin votes measure requires campaigns disclose original source intermediaries campaign contributions measure also establishes non partisan blanket primaries statewide elections like washington state california ranked choice voting like maine measure makes alaska third state jungle primaries statewide races second state ranked choice voting state special election fill alaska house seat left vacant death young mary peltola became first democrat win house seat since first alaskan native elected united states congress history file mike dunleavy official photo cropped jpg mike dunleavy governor file lisa murkowski official photo jpg lisa murkowski senior united states senator file senator dan sullivan official jpg dan sullivan junior united states senator file mary peltola congressional member portrait jpeg mary peltola united states congresswoman see also index alaska related articles outline alaska list boroughs census areas alaska uss alaska ships notes references external links alaska digital archives alaska inter tribal council owns manages alaska map carl sacarlasen diary extracts dartmouth college library diemer alaska photographs dartmouth college library alfred hulse brooks photographs papers yale collection western americana beinecke rare book manuscript library federal government alaska state guide library congress energy environmental data alaska usgs real time geographic scientific resources alaska us census bureau alaska state facts alaska statehood subject guide eisenhower presidential library alaska statehood documents dwight eisenhower presidential library alaska state government state alaska website alaska state databases alaska department natural resources recorder office\n",
            "ada may refer arts entertainment ada ardor family chronicle novel vladimir nabokov film television ada tv television channel northern cyprus ada film film daniel mann ada film short biopic ada lovelace ada way life bollywood musical tanvir ahmed ada dog actor dog played colin sitcom spaced ada character movie armour god ii operation condor places africa ada foah town ghana ada ghana parliament constituency ada osun town nigeria asia ada urmia village west azerbaijan province iran ada karaman village karaman province turkey europe ada bosnia herzegovina village ada croatia village ada serbia town municipality ada ciganlija ada river island artificially turned peninsula belgrade serbia united states ada alabama unincorporated community ada county idaho ada kansas unincorporated community ada township michigan ada minnesota city ada township dickey county north dakota ada ohio village ada oklahoma city ada oregon unincorporated community ada township perkins county south dakota ada west virginia unincorporated community ada wisconsin unincorporated community mount ada mountain alaska elsewhere ada river disambiguation various rivers ada asteroid science technology list storms named ada ada cryptocurrency cardano blockchain platform biology ada plant genus orchids adenosine deaminase enzyme involved purine metabolism ada protein enzyme induced treatment bacterial cells computing ada programming language programming language based pascal ada computer virus schools ada national college digital skills education college tottenham hale london ada high school ohio us ada independent school district oklahoma us transportation ada air regional airline based tirana albania francisco ada airport saipan island northern mariana islands cargo vessel built london south western railway ada ship wooden ketch wrecked near newcastle new south wales australia ada class corvette class anti submarine corvettes developed turkey people ada name feminine given name surname including list people fictional characters ada lovelace computer scientist sometimes regarded first computer programmer ada caria fl bce satrap ancient caria adoptive mother alexander great uses ada food traditional kerala delicacy ada bridge belgrade serbia dangme language iso code ada spoken ghana ada health german medical technology company see also ada disambiguation ada regulon escherichia coli adaptive response protein adah disambiguation adha disambiguation ada woreda oromia region ethiopia ade disambiguation uss little ada steamer captured union navy american civil war\n",
            "chemical structure methane simplest alkane organic chemistry alkane paraffin historical trivial name also meanings acyclic saturated hydrocarbon words alkane consists hydrogen carbon atoms arranged tree structure carbon carbon bonds single alkanes general chemical formula alkanes range complexity simplest case methane sometimes called parent molecule arbitrarily large complex molecules like pentacontane ethyl methyl methylethyl octane isomer tetradecane international union pure applied chemistry iupac defines alkanes acyclic branched unbranched hydrocarbons general formula therefore consisting entirely hydrogen atoms saturated carbon atoms however sources use term denote saturated hydrocarbon including either monocyclic cycloalkanes polycyclic despite distinct general formula cycloalkanes alkane carbon atom sp hybridized sigma bonds either hydrogen atom joined one carbon atoms bond longest series linked carbon atoms molecule known carbon skeleton carbon backbone number carbon atoms may considered size alkane one group higher alkanes waxes solids standard ambient temperature pressure satp number carbon atoms carbon backbone greater repeated units alkanes constitute homologous series organic compounds members differ molecular mass multiples total mass methylene bridge unit comprises single carbon atom mass two hydrogen atoms mass methane produced methanogenic bacteria long chain alkanes function pheromones certain animal species protective waxes plants fungi nevertheless alkanes much biological activity viewed molecular trees upon hung active reactive functional groups biological molecules alkanes two main commercial sources petroleum crude oil natural gas alkyl group alkane based molecular fragment bears one open valence bonding generally abbreviated symbol organyl group although alk sometimes used specifically symbolize alkyl group opposed alkenyl group aryl group structure classification ordinarily single bond distance saturated hydrocarbons linear branched cyclic third group sometimes called cycloalkanes complicated structures possible combining linear branch cyclic alkanes isomerism butane isobutane two isomers cyclobutane two isomers alkanes three carbon atoms arranged various ways forming structural isomers simplest isomer alkane one carbon atoms arranged single chain branches isomer sometimes called isomer normal although necessarily common however chain carbon atoms may also branched one points number possible isomers increases rapidly number carbon atoms example acyclic alkanes methane ethane propane isomers butane isobutane isomers pentane isopentane neopentane isomers hexane methylpentane methylpentane dimethylbutane dimethylbutane isomers heptane methylhexane methylhexane dimethylpentane dimethylpentane dimethylpentane dimethylpentane ethylpentane trimethylbutane isomers octane methylheptane methylheptane methylheptane dimethylhexane dimethylhexane dimethylhexane dimethylhexane dimethylhexane dimethylhexane ethylhexane ethyl methylpentane ethyl methylpentane isomers isomers isomers isomers isomers many stable branched alkanes chiral example methylhexane higher homologues chiral due stereogenic center carbon atom number list includes differences connectivity stereochemistry addition alkane isomers chain carbon atoms may form one rings compounds called cycloalkanes also excluded list changing number rings changes molecular formula example cyclobutane isomers isomers butane branched alkanes stable linear less branched isomers example highly branched kcal mol stable linear isomer octane nomenclature iupac nomenclature systematic way naming compounds alkanes based identifying hydrocarbon chains unbranched saturated hydrocarbon chains named systematically greek numerical prefix denoting number carbons suffix ane august wilhelm von hofmann suggested systematizing nomenclature using whole sequence vowels create suffixes ane ene ine yne one une hydrocarbons modern nomenclature first three specifically name hydrocarbons single double triple bonds one represents ketone linear alkanes straight chain alkanes sometimes indicated prefix normal non linear isomer exists although strictly necessary part iupac naming system usage still common cases one wishes emphasize distinguish straight chain branched chain isomers butane rather simply butane differentiate isobutane alternative names group used petroleum industry linear paraffins paraffins first eight members series terms number carbon atoms named follows methane ch one carbon hydrogen ethane two carbon hydrogen propane three carbon hydrogen butane four carbon hydrogen pentane five carbon hydrogen hexane six carbon hydrogen heptane seven carbons hydrogen octane eight carbons hydrogen first four names derived methanol ether propionic acid butyric acid alkanes five carbon atoms named adding suffix ane appropriate numerical multiplier prefix elision terminal vowel basic numerical term hence pentane hexane heptane octane etc numeral prefix generally greek however alkanes carbon atom count ending nine example nonane use latin prefix non branched alkanes ball stick model isopentane common name methylbutane iupac systematic name simple branched alkanes often common name using prefix distinguish linear alkanes example pentane isopentane neopentane iupac naming conventions used produce systematic name key steps naming complicated branched alkanes follows identify longest continuous chain carbon atoms name longest root chain using standard naming rules name side chain changing suffix name alkane ane yl number longest continuous chain order give lowest possible numbers side chains number name side chains name root chain multiple side chains type use prefixes di tri indicate number one add side chain names alphabetical disregarding di etc prefixes order front name root chain comparison nomenclatures three isomers common name pentane isopentane neopentane iupac name pentane methylbutane dimethylpropane structure px px px saturated cyclic hydrocarbons though technically distinct alkanes class hydrocarbons referred cyclic alkanes description implies contain one rings simple cycloalkanes prefix cyclo distinguish alkanes cycloalkanes named per acyclic counterparts respect number carbon atoms backbones cyclopentane cycloalkane carbon atoms like pentane joined five membered ring similar manner propane cyclopropane butane cyclobutane etc substituted cycloalkanes named similarly substituted alkanes cycloalkane ring stated substituents according position ring numbering decided cahn ingold prelog priority rules trivial common names trivial non systematic name alkanes paraffins together alkanes known paraffin series trivial names compounds usually historical artifacts coined development systematic names retained due familiar usage industry cycloalkanes also called naphthenes branched chain alkanes called isoparaffins paraffin general term often distinguish pure compounds mixtures isomers compounds chemical formula pentane isopentane iupac following trivial names retained iupac system isobutane methylpropane isopentane methylbutane neopentane dimethylpropane non iupac non iupac trivial names occasionally used cetane hexadecane cerane hexacosane physical properties alkanes colorless alkanes lowest molecular weights gases intermediate molecular weight liquids heaviest waxy solids table alkanes alkane formula boiling point melting point densitykg isomers methane ch gas ethane gas propane gas butane gas pentane liquid hexane liquid heptane liquid octane liquid nonane liquid decane liquid undecane liquid dodecane liquid tridecane liquid tetradecane liquid pentadecane liquid hexadecane liquid heptadecane solid octadecane solid nonadecane solid icosane solid triacontane solid tetracontane solid pentacontane solid hexacontane solid heptacontane solid boiling point melting blue boiling orange points first alkanes alkanes experience intermolecular van der waals forces cumulative effects intermolecular forces give rise greater boiling points alkanes two factors influence strength van der waals forces number electrons surrounding molecule increases alkane molecular weight surface area molecule standard conditions ch alkanes gaseous liquids solids boiling point alkanes primarily determined weight surprise boiling point almost linear relationship size molecular weight molecule rule thumb boiling point rises carbon added chain rule applies homologous series straight chain alkane boiling point higher branched chain alkane due greater surface area contact thus greater van der waals forces adjacent molecules example compare isobutane methylpropane butane butane boil dimethylbutane dimethylbutane boil respectively hand cycloalkanes tend higher boiling points linear counterparts due locked conformations molecules give plane intermolecular contact melting points melting points alkanes follow similar trend boiling points reason outlined things equal larger molecule higher melting point one significant difference boiling points melting points solids rigid fixed structure liquids rigid structure requires energy break thus better put together solid structures require energy break apart alkanes seen graph blue line odd numbered alkanes lower trend melting points even numbered alkanes even numbered alkanes pack well solid phase forming well organized structure requires energy break apart odd numbered alkanes pack less well looser organized solid packing structure requires less energy break apart visualization crystal structures see melting points branched chain alkanes either higher lower corresponding straight chain alkanes depending ability alkane question pack well solid phase conductivity solubility alkanes conduct electricity way substantially polarized electric field reason form hydrogen bonds insoluble polar solvents water since hydrogen bonds individual water molecules aligned away alkane molecule coexistence alkane water leads increase molecular order reduction entropy significant bonding water molecules alkane molecules second law thermodynamics suggests reduction entropy minimized minimizing contact alkane water alkanes said hydrophobic insoluble water solubility nonpolar solvents relatively high property called lipophilicity alkanes example miscible proportions among density alkanes usually increases number carbon atoms remains less water hence alkanes form upper layer alkane water mixture molecular geometry sp hybridization methane molecular structure alkanes directly affects physical chemical characteristics derived electron configuration carbon four valence electrons carbon atoms alkanes described sp hybrids say good approximation valence electrons orbitals directed towards corners tetrahedron derived combination orbital three orbitals geometrically angle bonds cos exact case methane larger alkanes containing combination bonds generally bonds within several degrees idealized value bond lengths bond angles tetrahedral structure methane alkane single bonds former result overlap sp orbital carbon orbital hydrogen latter overlap two sp orbitals adjacent carbon atoms bond lengths amount bond bond spatial arrangement bonds similar four sp orbitals tetrahedrally arranged angle structural formulae represent bonds right angles one another common useful accurately depict geometry conformation newman projections two many conformations ethane eclipsed left staggered right ball stick models two rotamers ethane spatial arrangement bonds described torsion angles molecule known conformation ethane simplest case studying conformation alkanes nearly free rotation carbon carbon single bond two limiting conformations important eclipsed conformation staggered conformation staggered conformation kj mol kcal mol lower energy stable eclipsed conformation least stable highly branched alkanes bond angle may differ optimal value accommodate bulky groups distortions introduce tension molecule known steric hindrance strain strain substantially increases reactivity spectroscopic properties spectroscopic signatures alkanes obtainable major techniques infrared spectroscopy stretching mode gives strong absorptions cm weaker bands stretching mode absorbs cm carbon hydrogen bending modes depend nature group methyl groups show bands cm cm methylene groups show bands cm cm carbon chains four carbon atoms show weak absorption around cm nmr spectroscopy proton resonances alkanes usually found carbon resonances depend number hydrogen atoms attached carbon primary methyl ch secondary methylene ch tertiary methyne quaternary carbon resonance quaternary carbon atoms weak due lack nuclear overhauser effect long relaxation time missed weak samples samples run sufficiently long time mass spectrometry since alkanes high ionization energies electron impact mass spectra show weak currents molecular ions fragmentation pattern difficult interpret case branched chain alkanes carbon chain preferentially cleaved tertiary quaternary carbons due relative stability resulting free radicals mass spectra straight chain alkanes illustrated dodecane fragment resulting loss single methyl group absent fragments intense molecular ion spaced intervals mass units corresponding loss ch groups chemical properties alkanes weakly reactive chemical compounds reacts strongest electrophilic reagents virtue strong bonds kcal mol bonds kcal mol also relatively unreactive toward free radicals inertness source term paraffins meaning lacking affinity crude oil alkane molecules remained chemically unchanged millions years acid base behavior acid dissociation constant values alkanes estimated range depending extrapolation method hence extremely weak acids practically inert bases see carbon acids also extremely weak bases undergoing observable protonation pure sulfuric acid although superacids least millions times stronger known protonate give hypercoordinate alkanium ions see methanium ion thus mixture antimony pentafluoride sbf fluorosulfonic acid hso called magic acid protonate alkanes reactions oxygen combustion reaction alkanes react oxygen combustion reaction although become increasingly difficult ignite number carbon atoms increases general equation complete combustion co co absence sufficient oxygen carbon monoxide even soot formed shown co example methane ch co ch see alkane heat formation table detailed data standard enthalpy change combustion c alkanes increases kj mol per ch group branched chain alkanes lower values c straight chain alkanes number carbon atoms seen somewhat stable biodegradation organisms capable metalbolizing alkanes methane monooxygenases convert methane methanol higher alkanes cytochrome convert alkanes alcohols susceptible degradation free radical reactions free radicals molecules unpaired electrons play large role reactions alkanes free radical halogenation reactions occur halogens leading production haloalkanes hydrogen atoms alkane progressively replaced halogen atoms reaction alkanes fluorine highly exothermic lead explosion reactions important industrial route halogenated hydrocarbons three steps initiation halogen radicals form homolysis usually energy form heat light required chain reaction propagation takes place halogen radical abstracts hydrogen alkane give alkyl radical reacts chain termination radicals recombine experiments shown halogenation produces mixture possible isomers indicating hydrogen atoms susceptible reaction mixture produced however statistical secondary tertiary hydrogen atoms preferentially replaced due greater stability secondary tertiary free radicals example seen monobromination propane monobromination propane reed reaction sulfur dioxide chlorine convert hydrocarbons sulfonyl chlorides influence light conditions alkanes undergo nitration activation certain transition metal complexes promote non radical reactions alkanes resulting bond activation reactions cracking cracking breaks larger molecules smaller ones reaction requires heat catalysts thermal cracking process follows homolytic mechanism formation free radicals catalytic cracking process involves presence acid catalysts usually solid acids silica alumina zeolites promote heterolytic asymmetric breakage bonds yielding pairs ions opposite charges usually carbocation carbon localized free radicals cations highly unstable undergo processes chain rearrangement scission position beta cracking intra intermolecular hydrogen transfer hydride transfer types processes corresponding reactive intermediates radicals ions permanently regenerated thus proceed self propagating chain mechanism chain reactions eventually terminated radical ion recombination isomerization reformation dragan colleague first report isomerization alkanes isomerization reformation processes straight chain alkanes heated presence platinum catalyst isomerization alkanes become branched chain isomers words lose carbons hydrogens keeping molecular weight reformation alkanes become cycloalkanes aromatic hydrocarbons giving hydrogen product processes raise octane number substance butane common alkane put process isomerization makes many branched alkanes high octane numbers reactions steam reforming alkanes react steam presence nickel catalyst give hydrogen carbon monoxide occurrence occurrence alkanes universe methane ethane make tiny proportion jupiter atmosphere extraction oil contains many distinct hydrocarbons including alkanes alkanes form small portion atmospheres outer gas planets jupiter methane ppm ethane saturn methane ppm ethane uranus methane ppm ethane neptune methane ppm ethane titan methane satellite saturn examined huygens probe indicated titan atmosphere periodically rains liquid methane onto moon surface also titan cassini mission imaged seasonal methane ethane lakes near polar regions titan methane ethane also detected tail comet hyakutake chemical analysis showed abundances ethane methane roughly equal thought imply ices formed interstellar space away sun would evaporated volatile molecules alkanes also detected meteorites carbonaceous chondrites occurrence alkanes earth traces methane gas ppb occur earth atmosphere produced primarily methanogenic microorganisms archaea gut ruminants important commercial sources alkanes natural gas oil natural gas contains primarily methane ethane propane butane oil mixture liquid alkanes hydrocarbons hydrocarbons formed marine animals plants zooplankton phytoplankton died sank bottom ancient seas covered sediments anoxic environment converted many millions years high temperatures high pressure current form natural gas resulted thereby example following reaction ch co hydrocarbon deposits collected porous rocks trapped beneath impermeable cap rocks comprise commercial oil fields formed millions years exhausted readily replaced depletion hydrocarbons reserves basis known energy crisis alkanes low solubility water content oceans negligible however high pressures low temperatures bottom oceans methane co crystallize water form solid methane clathrate methane hydrate although commercially exploited present time amount combustible energy known methane clathrate fields exceeds energy content natural gas oil deposits put together methane extracted methane clathrate therefore candidate future fuels biological occurrence methanogenic archaea gut cows produce methane aside petroleum natural gas alkanes occur significantly nature methane produced archaea process methanogenesis organisms found gut termites cows methane produced carbon dioxide organic compounds energy released oxidation hydrogen co ch probable current deposits natural gas formed similar way important pheromones chemical messenger materials insects depend communication species support beetle xylotrechus colonus pentacosane transferred body contact others like tsetse fly glossina morsitans morsitans pheromone contains four alkanes acts smell longer distances waggle dancing honey bees produce release two alkanes tricosane pentacosane ecological relations early spider orchid ophrys sphegodes one example plant animal alkanes play role ecological relationship sand bee andrena nigroaenea early spider orchid ophrys sphegodes latter dependent pollination former sand bees use pheromones order identify mate case nigroaenea females emit mixture tricosane pentacosane heptacosane ratio males attracted specifically odor orchid takes advantage mating arrangement get male bee collect disseminate pollen parts flower resemble appearance sand bees also produce large quantities three alkanes ratio female sand bees result numerous males lured blooms attempt copulate imaginary partner although endeavor crowned success bee allows orchid transfer pollen dispersed departure frustrated male blooms production petroleum refining oil refinery martinez california important source alkanes natural gas crude oil alkanes separated oil refinery fractional distillation unsaturated hydrocarbons converted alkanes hydrogenation alkyl another route alkanes hydrogenolysis entails cleavage heteroatom bonds using hydrogen industry main substrates organonitrogen organosulfur impurities heteroatoms specific processes called hydrogenolysis applied conversion virtually functional group hydrocarbons substrates include haloalkanes alcohols aldehydes ketones carboxylic acids etc hydrogenolysis hydrogenation practiced refineries effected using lithium aluminium hydride clemmenson reduction specialized routes coal coal traditional precursor alkanes wide range technologies intensively practiced centuries simply heating coal gives alkanes leaving behind coke relevant technologies include bergius process coal liquifaction partial combustion coal related solid organic compounds generates carbon monoxide hydrogenated using fischer tropsch process technology allows synthesize liquid hydrocarbons including alkanes method used produce substitutes petroleum distillates laboratory preparation rarely interest synthesis alkanes since usually commercially available less valued virtually precursor best known method hydrogenation alkenes many bonds converted bonds using lithium aluminium hydride clemmenson reduction specialized routes hydrolysis alkyl grignard reagents alkyl lithium compounds gives alkanes applications fuels dominant use alkanes fuels propane butane easily liquified gases commonly known liquified petroleum gas lpg pentane octane alkanes highly volatile liquids used fuels internal combustion engines vaporize easily entry combustion chamber without forming droplets would impair uniformity combustion branched chain alkanes preferred much less prone premature ignition causes knocking straight chain homologues propensity premature ignition measured octane rating fuel isooctane arbitrary value heptane value zero apart use fuels middle alkanes also good solvents nonpolar substances alkanes nonane instance hexadecane alkane sixteen carbon atoms liquids higher viscosity less less suitable use gasoline form instead major part diesel aviation fuel diesel fuels characterized cetane number cetane old name hexadecane however higher melting points alkanes cause problems low temperatures polar regions fuel becomes thick flow correctly precursors chemicals process cracking alkanes converted alkenes simple alkenes precursors polymers polyethylene polypropylene cracking taken extremes alkanes converted carbon black significant tire component chlorination methane gives chloromethanes used solvents building blocks complex compounds similarly treatment methane sulfur gives carbon disulfide still chemicals prepared reaction sulfur trioxide nitric oxide light hydrocarbons used aerosol sprays alkanes hexadecane upwards form important components fuel oil lubricating oil latter function work time anti corrosive agents hydrophobic nature means water reach metal surface many solid alkanes find use paraffin wax example candles confused however true wax consists primarily esters alkanes chain length approximately carbon atoms found bitumen used example road surfacing however higher alkanes little value usually split lower alkanes cracking hazards alkanes highly flammable low toxicities methane toxicologically virtually inert alkanes asphyxiants narcotic see also alkene alkyne cycloalkane higher alkanes aliphatic compound references reading virtual textbook organic chemistry visualization crystal structures alkanes nonan\n"
          ]
        }
      ]
    },
    {
      "cell_type": "code",
      "source": [
        "from gensim.models import Word2Vec\n",
        "from gensim.models.word2vec import LineSentence\n",
        "sentences = LineSentence(\"preprocessed_wiki_texts.txt\")\n",
        "\n",
        "model = Word2Vec(sentences, vector_size=100, window=5, min_count=5, workers=4)\n",
        "\n",
        "model.save(\"word2vec_wiki.model\")\n",
        "\n",
        "print(\"Word2Vec model trained and saved successfully!\")\n"
      ],
      "metadata": {
        "colab": {
          "base_uri": "https://localhost:8080/"
        },
        "id": "MieUpyRU0oJi",
        "outputId": "53ef19ae-4c98-478c-c1c5-cea2806ccd5d"
      },
      "execution_count": 19,
      "outputs": [
        {
          "output_type": "stream",
          "name": "stdout",
          "text": [
            "Word2Vec model trained and saved successfully!\n"
          ]
        }
      ]
    },
    {
      "cell_type": "code",
      "source": [
        "# TODO5: Train your own word embeddings with the sampled articles\n",
        "# https://radimrehurek.com/gensim/models/word2vec.html#gensim.models.word2vec.Word2Vec\n",
        "# Hint: You should perform some pre-processing before training.\n",
        "from gensim.models import Word2Vec\n",
        "model = Word2Vec(sentences=preprocessed, vector_size=400, window=5, min_count=5, workers=4)\n",
        "model.train(preprocessed, total_examples=model.corpus_count, epochs=model.epochs)\n",
        "\n"
      ],
      "metadata": {
        "id": "G7q1Xzunxkdc",
        "colab": {
          "base_uri": "https://localhost:8080/",
          "height": 245
        },
        "outputId": "9d8dacf5-a3d9-4656-b20b-574d84d35905"
      },
      "execution_count": 4,
      "outputs": [
        {
          "output_type": "error",
          "ename": "NameError",
          "evalue": "name 'preprocessed_line' is not defined",
          "traceback": [
            "\u001b[0;31m---------------------------------------------------------------------------\u001b[0m",
            "\u001b[0;31mNameError\u001b[0m                                 Traceback (most recent call last)",
            "\u001b[0;32m<ipython-input-4-faa5452eeb26>\u001b[0m in \u001b[0;36m<cell line: 5>\u001b[0;34m()\u001b[0m\n\u001b[1;32m      3\u001b[0m \u001b[0;31m# Hint: You should perform some pre-processing before training.\u001b[0m\u001b[0;34m\u001b[0m\u001b[0;34m\u001b[0m\u001b[0m\n\u001b[1;32m      4\u001b[0m \u001b[0;32mfrom\u001b[0m \u001b[0mgensim\u001b[0m\u001b[0;34m.\u001b[0m\u001b[0mmodels\u001b[0m \u001b[0;32mimport\u001b[0m \u001b[0mWord2Vec\u001b[0m\u001b[0;34m\u001b[0m\u001b[0;34m\u001b[0m\u001b[0m\n\u001b[0;32m----> 5\u001b[0;31m \u001b[0mmodel\u001b[0m \u001b[0;34m=\u001b[0m \u001b[0mWord2Vec\u001b[0m\u001b[0;34m(\u001b[0m\u001b[0msentences\u001b[0m\u001b[0;34m=\u001b[0m\u001b[0mpreprocessed_line\u001b[0m\u001b[0;34m,\u001b[0m \u001b[0mvector_size\u001b[0m\u001b[0;34m=\u001b[0m\u001b[0;36m400\u001b[0m\u001b[0;34m,\u001b[0m \u001b[0mwindow\u001b[0m\u001b[0;34m=\u001b[0m\u001b[0;36m5\u001b[0m\u001b[0;34m,\u001b[0m \u001b[0mmin_count\u001b[0m\u001b[0;34m=\u001b[0m\u001b[0;36m5\u001b[0m\u001b[0;34m,\u001b[0m \u001b[0mworkers\u001b[0m\u001b[0;34m=\u001b[0m\u001b[0;36m4\u001b[0m\u001b[0;34m)\u001b[0m\u001b[0;34m\u001b[0m\u001b[0;34m\u001b[0m\u001b[0m\n\u001b[0m\u001b[1;32m      6\u001b[0m \u001b[0mmodel\u001b[0m\u001b[0;34m.\u001b[0m\u001b[0mtrain\u001b[0m\u001b[0;34m(\u001b[0m\u001b[0mpreprocessed_line\u001b[0m\u001b[0;34m,\u001b[0m \u001b[0mtotal_examples\u001b[0m\u001b[0;34m=\u001b[0m\u001b[0mmodel\u001b[0m\u001b[0;34m.\u001b[0m\u001b[0mcorpus_count\u001b[0m\u001b[0;34m,\u001b[0m \u001b[0mepochs\u001b[0m\u001b[0;34m=\u001b[0m\u001b[0mmodel\u001b[0m\u001b[0;34m.\u001b[0m\u001b[0mepochs\u001b[0m\u001b[0;34m)\u001b[0m\u001b[0;34m\u001b[0m\u001b[0;34m\u001b[0m\u001b[0m\n\u001b[1;32m      7\u001b[0m \u001b[0;34m\u001b[0m\u001b[0m\n",
            "\u001b[0;31mNameError\u001b[0m: name 'preprocessed_line' is not defined"
          ]
        }
      ]
    },
    {
      "cell_type": "code",
      "source": [
        "data = pd.read_csv(\"questions-words.csv\")"
      ],
      "metadata": {
        "id": "qWiQF70izxP7"
      },
      "execution_count": 15,
      "outputs": []
    },
    {
      "cell_type": "code",
      "source": [
        "# Do predictions and preserve the gold answers (word_D)\n",
        "preds = []\n",
        "golds = []\n",
        "\n",
        "for analogy in tqdm(data[\"Question\"]):\n",
        "      # TODO6: Write your code here to use your trained word embeddings for getting predictions of the analogy task.\n",
        "      # You should also preserve the gold answers during iterations for evaluations later.\n",
        "      \"\"\" Hints\n",
        "      # Unpack the analogy (e.g., \"man\", \"woman\", \"king\", \"queen\")\n",
        "      # Perform vector arithmetic: word_b + word_c - word_a should be close to word_d\n",
        "      # Source: https://github.com/piskvorky/gensim/blob/develop/gensim/models/keyedvectors.py#L776\n",
        "      # Mikolov et al., 2013: big - biggest and small - smallest\n",
        "      # Mikolov et al., 2013: X = vector(”biggest”) − vector(”big”) + vector(”small”).\n",
        "      \"\"\"\n",
        "      word_a, word_b, word_c, word_d = analogy.lower().split()\n",
        "      if word_a in model.wv and word_b in model.wv and word_c in model.wv:\n",
        "        predicted = model.wv[word_b] + model.wv[word_c] - model.wv[word_a]\n",
        "        predicted_word_d = model.wv.most_similar(positive=[predicted], topn=1)[0][0]\n",
        "        preds.append(predicted_word_d)\n",
        "        golds.append(word_d)\n",
        "      else:\n",
        "        preds.append(\"OOV\")\n",
        "        golds.append(word_d)\n"
      ],
      "metadata": {
        "id": "q6xpqgdIy5x1",
        "colab": {
          "base_uri": "https://localhost:8080/"
        },
        "outputId": "ecda6fce-8933-4f2f-a6b8-7cd9c8bf5524"
      },
      "execution_count": 20,
      "outputs": [
        {
          "output_type": "stream",
          "name": "stderr",
          "text": [
            "100%|██████████| 19544/19544 [02:09<00:00, 150.38it/s]\n"
          ]
        }
      ]
    },
    {
      "cell_type": "code",
      "source": [
        "# Perform evaluations. You do not need to modify this block!!\n",
        "\n",
        "def calculate_accuracy(gold: np.ndarray, pred: np.ndarray) -> float:\n",
        "    return np.mean(gold == pred)\n",
        "\n",
        "golds_np, preds_np = np.array(golds), np.array(preds)\n",
        "data = pd.read_csv(\"questions-words.csv\")\n",
        "\n",
        "# Evaluation: categories\n",
        "for category in data[\"Category\"].unique():\n",
        "    mask = data[\"Category\"] == category\n",
        "    golds_cat, preds_cat = golds_np[mask], preds_np[mask]\n",
        "    acc_cat = calculate_accuracy(golds_cat, preds_cat)\n",
        "    print(f\"Category: {category}, Accuracy: {acc_cat * 100}%\")\n",
        "\n",
        "# Evaluation: sub-categories\n",
        "for sub_category in data[\"SubCategory\"].unique():\n",
        "    mask = data[\"SubCategory\"] == sub_category\n",
        "    golds_subcat, preds_subcat = golds_np[mask], preds_np[mask]\n",
        "    acc_subcat = calculate_accuracy(golds_subcat, preds_subcat)\n",
        "    print(f\"Sub-Category{sub_category}, Accuracy: {acc_subcat * 100}%\")"
      ],
      "metadata": {
        "colab": {
          "base_uri": "https://localhost:8080/"
        },
        "outputId": "b61dce1c-0f6a-4767-f7b0-3f44cf833ca4",
        "id": "3Fs_YhVqCR9R"
      },
      "execution_count": 21,
      "outputs": [
        {
          "output_type": "stream",
          "name": "stdout",
          "text": [
            "Category: semantic, Accuracy: 1.5305512375941648%\n",
            "Category: syntatic, Accuracy: 8.99740631428316%\n",
            "Sub-Category: capital-common-countries, Accuracy: 9.881422924901186%\n",
            "Sub-Category: capital-world, Accuracy: 1.3704686118479221%\n",
            "Sub-Category: currency, Accuracy: 0.3464203233256351%\n",
            "Sub-Category: city-in-state, Accuracy: 0.526955816781516%\n",
            "Sub-Category: family, Accuracy: 7.707509881422925%\n",
            "Sub-Category: gram1-adjective-to-adverb, Accuracy: 0.9072580645161291%\n",
            "Sub-Category: gram2-opposite, Accuracy: 0.12315270935960591%\n",
            "Sub-Category: gram3-comparative, Accuracy: 7.5825825825825826%\n",
            "Sub-Category: gram4-superlative, Accuracy: 4.367201426024955%\n",
            "Sub-Category: gram5-present-participle, Accuracy: 2.178030303030303%\n",
            "Sub-Category: gram6-nationality-adjective, Accuracy: 40.7754846779237%\n",
            "Sub-Category: gram7-past-tense, Accuracy: 2.7564102564102564%\n",
            "Sub-Category: gram8-plural, Accuracy: 3.153153153153153%\n",
            "Sub-Category: gram9-plural-verbs, Accuracy: 5.402298850574713%\n"
          ]
        }
      ]
    },
    {
      "cell_type": "code",
      "source": [
        "# Collect words from Google Analogy dataset\n",
        "SUB_CATEGORY = \": family\"\n",
        "import seaborn as sns\n",
        "# TODO7: Plot t-SNE for the words in the SUB_CATEGORY `: family`\n",
        "\n",
        "\n",
        "family_df = data[data[\"SubCategory\"] == SUB_CATEGORY]\n",
        "family_questions = family_df[\"Question\"].tolist()\n",
        "\n",
        "#select unique words\n",
        "family_words = set()\n",
        "for analogy in family_questions:\n",
        "    word_a, word_b, word_c,word_d = analogy.lower().split()[:4]  #分割4個字\n",
        "    family_words.update([word_a, word_b, word_c, word_d])\n",
        "\n",
        "\n",
        "plt.title(\"Word Relationships from Google Analogy Task\")\n",
        "plt.show()\n",
        "plt.savefig(\"word_relationships.png\", bbox_inches=\"tight\")"
      ],
      "metadata": {
        "id": "AjZ14dQL0mhf",
        "colab": {
          "base_uri": "https://localhost:8080/",
          "height": 469
        },
        "outputId": "71af6fd6-8e93-4679-83d3-e6fbc6bcf6c0"
      },
      "execution_count": 27,
      "outputs": [
        {
          "output_type": "display_data",
          "data": {
            "text/plain": [
              "<Figure size 640x480 with 1 Axes>"
            ],
            "image/png": "[encoded data removed]"
          },
          "metadata": {}
        },
        {
          "output_type": "display_data",
          "data": {
            "text/plain": [
              "<Figure size 640x480 with 0 Axes>"
            ]
          },
          "metadata": {}
        }
      ]
    }
  ]
}