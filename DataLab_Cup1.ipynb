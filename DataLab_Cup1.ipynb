{
  "metadata": {
    "kernelspec": {
      "language": "python",
      "display_name": "Python 3",
      "name": "python3"
    },
    "language_info": {
      "name": "python",
      "version": "3.10.14",
      "mimetype": "text/x-python",
      "codemirror_mode": {
        "name": "ipython",
        "version": 3
      },
      "pygments_lexer": "ipython3",
      "nbconvert_exporter": "python",
      "file_extension": ".py"
    },
    "kaggle": {
      "accelerator": "none",
      "dataSources": [
        {
          "sourceId": 85283,
          "databundleVersionId": 9621689,
          "sourceType": "competition"
        }
      ],
      "dockerImageVersionId": 30786,
      "isInternetEnabled": false,
      "language": "python",
      "sourceType": "notebook",
      "isGpuEnabled": false
    },
    "colab": {
      "name": "DataLab_Cup1",
      "provenance": [],
      "include_colab_link": true
    }
  },
  "nbformat_minor": 0,
  "nbformat": 4,
  "cells": [
    {
      "cell_type": "markdown",
      "metadata": {
        "id": "view-in-github",
        "colab_type": "text"
      },
      "source": [
        "<a href=\"https://colab.research.google.com/github/VictorSwankyTiger/DM2024-Lab1-Homework/blob/main/DataLab_Cup1.ipynb\" target=\"_parent\"><img src=\"https://colab.research.google.com/assets/colab-badge.svg\" alt=\"Open In Colab\"/></a>"
      ]
    },
    {
      "source": [
        "\n",
        "# IMPORTANT: RUN THIS CELL IN ORDER TO IMPORT YOUR KAGGLE DATA SOURCES\n",
        "# TO THE CORRECT LOCATION (/kaggle/input) IN YOUR NOTEBOOK,\n",
        "# THEN FEEL FREE TO DELETE THIS CELL.\n",
        "# NOTE: THIS NOTEBOOK ENVIRONMENT DIFFERS FROM KAGGLE'S PYTHON\n",
        "# ENVIRONMENT SO THERE MAY BE MISSING LIBRARIES USED BY YOUR\n",
        "# NOTEBOOK.\n",
        "\n",
        "import os\n",
        "import sys\n",
        "from tempfile import NamedTemporaryFile\n",
        "from urllib.request import urlopen\n",
        "from urllib.parse import unquote, urlparse\n",
        "from urllib.error import HTTPError\n",
        "from zipfile import ZipFile\n",
        "import tarfile\n",
        "import shutil\n",
        "\n",
        "CHUNK_SIZE = 40960\n",
        "DATA_SOURCE_MAPPING = '2024-datalab-cup1:https%3A%2F%2Fstorage.googleapis.com%2Fkaggle-competitions-data%2Fkaggle-v2%2F85283%2F9621689%2Fbundle%2Farchive.zip%3FX-Goog-Algorithm%3DGOOG4-RSA-SHA256%26X-Goog-Credential%3Dgcp-kaggle-com%2540kaggle-161607.iam.gserviceaccount.com%252F20241005%252Fauto%252Fstorage%252Fgoog4_request%26X-Goog-Date%3D20241005T180948Z%26X-Goog-Expires%3D259200%26X-Goog-SignedHeaders%3Dhost%26X-Goog-Signature%3D0c4292348f830f7e44db9f381cea3476c4cbff5d4e577abf8cf7af2b58a58c0d8c9ee6b6a386d56191e8eaab821ecda96e896e91a8901c57dd4ad1e12286ad1a073a8d4ccb4b5f542017c6c4df9a7ca65938e28ffb603bcdb131f587958f124cec19e3618cf3b2f9ac5258e512f68f119dc1b03cbe587787827309711b18fb8b70f9d6a3e7d27025739d804e0cedf68eab68146339dda1f4312b75b2f5bcb671437d6d8191ba133bc74cd1f95664b37ccd2f23683318ea45879174f2c7f27959893f3e2c7f5b2fe449ceb910d716559f24bf272c621c6f6621b9fb77df1e217dbc856e382f0a5fd666a523f1a7a4d19df270bb04f50dd462ef3d507410c55245'\n",
        "\n",
        "KAGGLE_INPUT_PATH='/kaggle/input'\n",
        "KAGGLE_WORKING_PATH='/kaggle/working'\n",
        "KAGGLE_SYMLINK='kaggle'\n",
        "\n",
        "!umount /kaggle/input/ 2> /dev/null\n",
        "shutil.rmtree('/kaggle/input', ignore_errors=True)\n",
        "os.makedirs(KAGGLE_INPUT_PATH, 0o777, exist_ok=True)\n",
        "os.makedirs(KAGGLE_WORKING_PATH, 0o777, exist_ok=True)\n",
        "\n",
        "try:\n",
        "  os.symlink(KAGGLE_INPUT_PATH, os.path.join(\"..\", 'input'), target_is_directory=True)\n",
        "except FileExistsError:\n",
        "  pass\n",
        "try:\n",
        "  os.symlink(KAGGLE_WORKING_PATH, os.path.join(\"..\", 'working'), target_is_directory=True)\n",
        "except FileExistsError:\n",
        "  pass\n",
        "\n",
        "for data_source_mapping in DATA_SOURCE_MAPPING.split(','):\n",
        "    directory, download_url_encoded = data_source_mapping.split(':')\n",
        "    download_url = unquote(download_url_encoded)\n",
        "    filename = urlparse(download_url).path\n",
        "    destination_path = os.path.join(KAGGLE_INPUT_PATH, directory)\n",
        "    try:\n",
        "        with urlopen(download_url) as fileres, NamedTemporaryFile() as tfile:\n",
        "            total_length = fileres.headers['content-length']\n",
        "            print(f'Downloading {directory}, {total_length} bytes compressed')\n",
        "            dl = 0\n",
        "            data = fileres.read(CHUNK_SIZE)\n",
        "            while len(data) > 0:\n",
        "                dl += len(data)\n",
        "                tfile.write(data)\n",
        "                done = int(50 * dl / int(total_length))\n",
        "                sys.stdout.write(f\"\\r[{'=' * done}{' ' * (50-done)}] {dl} bytes downloaded\")\n",
        "                sys.stdout.flush()\n",
        "                data = fileres.read(CHUNK_SIZE)\n",
        "            if filename.endswith('.zip'):\n",
        "              with ZipFile(tfile) as zfile:\n",
        "                zfile.extractall(destination_path)\n",
        "            else:\n",
        "              with tarfile.open(tfile.name) as tarfile:\n",
        "                tarfile.extractall(destination_path)\n",
        "            print(f'\\nDownloaded and uncompressed: {directory}')\n",
        "    except HTTPError as e:\n",
        "        print(f'Failed to load (likely expired) {download_url} to path {destination_path}')\n",
        "        continue\n",
        "    except OSError as e:\n",
        "        print(f'Failed to load {download_url} to path {destination_path}')\n",
        "        continue\n",
        "\n",
        "print('Data source import complete.')\n"
      ],
      "metadata": {
        "colab": {
          "base_uri": "https://localhost:8080/"
        },
        "id": "HuMtRQqe36k6",
        "outputId": "84b1068e-a00b-4d5d-aa4a-16f1c8b6f9b6"
      },
      "cell_type": "code",
      "outputs": [
        {
          "output_type": "stream",
          "name": "stdout",
          "text": [
            "Downloading 2024-datalab-cup1, 98289203 bytes compressed\n",
            "[==================================================] 98289203 bytes downloaded\n",
            "Downloaded and uncompressed: 2024-datalab-cup1\n",
            "Data source import complete.\n"
          ]
        }
      ],
      "execution_count": 2
    },
    {
      "cell_type": "code",
      "source": [
        "# This Python 3 environment comes with many helpful analytics libraries installed\n",
        "# It is defined by the kaggle/python Docker image: https://github.com/kaggle/docker-python\n",
        "# For example, here's several helpful packages to load\n",
        "\n",
        "import numpy as np # linear algebra\n",
        "import pandas as pd # data processing, CSV file I/O (e.g. pd.read_csv)\n",
        "\n",
        "# Input data files are available in the read-only \"../input/\" directory\n",
        "# For example, running this (by clicking run or pressing Shift+Enter) will list all files under the input directory\n",
        "\n",
        "import os\n",
        "for dirname, _, filenames in os.walk('/kaggle/input'):\n",
        "    for filename in filenames:\n",
        "        print(os.path.join(dirname, filename))\n",
        "# You can write up to 20GB to the current directory (/kaggle/working/) that gets preserved as output when you create a version using \"Save & Run All\"\n",
        "# You can also write temporary files to /kaggle/temp/, but they won't be saved outside of the current session"
      ],
      "metadata": {
        "_uuid": "8f2839f25d086af736a60e9eeb907d3b93b6e0e5",
        "_cell_guid": "b1076dfc-b9ad-4769-8c92-a6c4dae69d19",
        "execution": {
          "iopub.status.busy": "2024-10-05T17:53:48.685798Z",
          "iopub.execute_input": "2024-10-05T17:53:48.6863Z",
          "iopub.status.idle": "2024-10-05T17:53:48.697366Z",
          "shell.execute_reply.started": "2024-10-05T17:53:48.686247Z",
          "shell.execute_reply": "2024-10-05T17:53:48.696143Z"
        },
        "trusted": true,
        "colab": {
          "base_uri": "https://localhost:8080/"
        },
        "id": "t690dnLM36k7",
        "outputId": "cc2ca76d-2918-4610-b208-f08a79f2e669"
      },
      "execution_count": 3,
      "outputs": [
        {
          "output_type": "stream",
          "name": "stdout",
          "text": [
            "/kaggle/input/2024-datalab-cup1/train.csv\n",
            "/kaggle/input/2024-datalab-cup1/test.csv\n",
            "/kaggle/input/2024-datalab-cup1/sample_submission.csv\n"
          ]
        }
      ]
    },
    {
      "cell_type": "code",
      "source": [
        "import warnings\n",
        "warnings.filterwarnings(\"ignore\")"
      ],
      "metadata": {
        "execution": {
          "iopub.status.busy": "2024-10-05T17:51:46.632152Z",
          "iopub.execute_input": "2024-10-05T17:51:46.632727Z",
          "iopub.status.idle": "2024-10-05T17:51:46.638211Z",
          "shell.execute_reply.started": "2024-10-05T17:51:46.632686Z",
          "shell.execute_reply": "2024-10-05T17:51:46.636949Z"
        },
        "trusted": true,
        "id": "l4iGhw5i36k8"
      },
      "execution_count": 4,
      "outputs": []
    },
    {
      "cell_type": "code",
      "source": [
        "%matplotlib inline"
      ],
      "metadata": {
        "execution": {
          "iopub.status.busy": "2024-10-05T17:58:50.925644Z",
          "iopub.execute_input": "2024-10-05T17:58:50.926106Z",
          "iopub.status.idle": "2024-10-05T17:58:50.932494Z",
          "shell.execute_reply.started": "2024-10-05T17:58:50.926048Z",
          "shell.execute_reply": "2024-10-05T17:58:50.931277Z"
        },
        "trusted": true,
        "id": "IqLRrR2X36k8"
      },
      "execution_count": 5,
      "outputs": []
    },
    {
      "cell_type": "code",
      "source": [
        "import pandas as pd\n",
        "\n",
        "df = pd.read_csv('/kaggle/input/2024-datalab-cup1/train.csv')\n",
        "#df = pd.read_csv('./dataset/sentiment/train.csv')\n",
        "df = pd.DataFrame(df)\n",
        "print(df.head(5))"
      ],
      "metadata": {
        "execution": {
          "iopub.status.busy": "2024-10-05T18:00:28.166999Z",
          "iopub.execute_input": "2024-10-05T18:00:28.168184Z",
          "iopub.status.idle": "2024-10-05T18:00:32.764724Z",
          "shell.execute_reply.started": "2024-10-05T18:00:28.168137Z",
          "shell.execute_reply": "2024-10-05T18:00:32.763525Z"
        },
        "trusted": true,
        "colab": {
          "base_uri": "https://localhost:8080/"
        },
        "id": "9cort2if36k8",
        "outputId": "6cf21972-7b71-4907-9b42-41b2993323d7"
      },
      "execution_count": 20,
      "outputs": [
        {
          "output_type": "stream",
          "name": "stdout",
          "text": [
            "   Id  Popularity                                       Page content\n",
            "0   0          -1  <html><head><div class=\"article-info\"> <span c...\n",
            "1   1           1  <html><head><div class=\"article-info\"><span cl...\n",
            "2   2           1  <html><head><div class=\"article-info\"><span cl...\n",
            "3   3          -1  <html><head><div class=\"article-info\"><span cl...\n",
            "4   4          -1  <html><head><div class=\"article-info\"><span cl...\n"
          ]
        }
      ]
    },
    {
      "cell_type": "code",
      "source": [
        "import re\n",
        "from bs4 import BeautifulSoup\n",
        "\n",
        "def preprocessor(text):\n",
        "    # remove HTML tags\n",
        "    text = BeautifulSoup(text, 'html.parser').get_text()\n",
        "\n",
        "    # regex for matching emoticons, keep emoticons, ex: :), :-P, :-D\n",
        "    r = '(?::|;|=|X)(?:-)?(?:\\)|\\(|D|P)'\n",
        "    emoticons = re.findall(r, text)\n",
        "    text = re.sub(r, '', text)\n",
        "\n",
        "    # convert to lowercase and append all emoticons behind (with space in between)\n",
        "    # replace('-','') removes nose of emoticons\n",
        "    text = re.sub('[\\W]+', ' ', text.lower()) + ' ' + ' '.join(emoticons).replace('-','')\n",
        "    return text"
      ],
      "metadata": {
        "execution": {
          "iopub.status.busy": "2024-10-05T18:01:36.549882Z",
          "iopub.execute_input": "2024-10-05T18:01:36.550971Z",
          "iopub.status.idle": "2024-10-05T18:01:36.558474Z",
          "shell.execute_reply.started": "2024-10-05T18:01:36.55092Z",
          "shell.execute_reply": "2024-10-05T18:01:36.556895Z"
        },
        "trusted": true,
        "id": "-pxPKJUJ36k9"
      },
      "execution_count": 10,
      "outputs": []
    },
    {
      "cell_type": "code",
      "source": [
        "#print(df.loc[0,'Page content'])\n",
        "df['Page content']=df['Page content'].apply(preprocessor)\n",
        "print(df.head(5))\n"
      ],
      "metadata": {
        "execution": {
          "iopub.status.busy": "2024-10-05T18:09:01.101252Z",
          "iopub.execute_input": "2024-10-05T18:09:01.101708Z",
          "iopub.status.idle": "2024-10-05T18:09:01.137139Z",
          "shell.execute_reply.started": "2024-10-05T18:09:01.101665Z",
          "shell.execute_reply": "2024-10-05T18:09:01.135331Z"
        },
        "trusted": true,
        "colab": {
          "base_uri": "https://localhost:8080/"
        },
        "id": "3H8pspGq36k9",
        "outputId": "5aaf2528-216b-49c3-fadb-1836f0710424"
      },
      "execution_count": 21,
      "outputs": [
        {
          "output_type": "stream",
          "name": "stdout",
          "text": [
            "   Id  Popularity                                       Page content\n",
            "0   0          -1   clara moskowitz for space com 2013 06 19 15 0...\n",
            "1   1           1  by christina warren2013 03 28 17 40 55 utcgoog...\n",
            "2   2           1  by sam laird2014 05 07 19 15 20 utcballin 2014...\n",
            "3   3          -1  by sam laird2013 10 11 02 26 50 utccameraperso...\n",
            "4   4          -1  by connor finnegan2014 04 17 03 31 43 utcnfl s...\n"
          ]
        }
      ]
    },
    {
      "cell_type": "code",
      "source": [
        "import nltk\n",
        "from nltk.corpus import stopwords\n",
        "from nltk.stem.porter import PorterStemmer\n",
        "\n",
        "nltk.download('stopwords')\n",
        "stop = stopwords.words('english')\n",
        "\n",
        "def tokenizer(text):\n",
        "    porter = PorterStemmer()\n",
        "    if isinstance(text, str):\n",
        "        return [porter.stem(w) for w in re.split('\\s+', text.strip()) \\\n",
        "                if w not in stop and re.match('[a-zA-Z]+', w)]\n",
        "    elif isinstance(text, list):\n",
        "        # Join list elements into a single string\n",
        "        text_str = ' '.join(text)\n",
        "        return [porter.stem(w) for w in re.split('\\s+', text_str.strip()) \\\n",
        "                if w not in stop and re.match('[a-zA-Z]+', w)]\n",
        "    else:\n",
        "        # Handle other data types if necessary\n",
        "        return []\n",
        "\n",
        "df['Page content']=df['Page content'].apply(tokenizer)\n",
        "print(df.head(5))"
      ],
      "metadata": {
        "colab": {
          "base_uri": "https://localhost:8080/"
        },
        "id": "6uknxrrD6Abv",
        "outputId": "a21bbe48-5539-4059-810c-596273b7411a"
      },
      "execution_count": null,
      "outputs": [
        {
          "output_type": "stream",
          "name": "stderr",
          "text": [
            "[nltk_data] Downloading package stopwords to /root/nltk_data...\n",
            "[nltk_data]   Package stopwords is already up-to-date!\n"
          ]
        }
      ]
    },
    {
      "cell_type": "code",
      "source": [],
      "metadata": {
        "id": "iijLA87L6X_E"
      },
      "execution_count": null,
      "outputs": []
    }
  ]
}